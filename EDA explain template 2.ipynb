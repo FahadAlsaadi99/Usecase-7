{
 "cells": [
  {
   "cell_type": "code",
   "execution_count": 81,
   "id": "e69c4ba1-85f3-4a02-ae37-c64347a01803",
   "metadata": {},
   "outputs": [],
   "source": [
    "#Import all relevant libraries\n",
    "import numpy as np\n",
    "import pandas as pd\n",
    "import matplotlib.pyplot as plt\n",
    "import seaborn as sns\n",
    "from scipy.stats import zscore\n",
    " \n",
    "## This statement allows the visuals to render within your Jupyter Notebook.\n",
    "%matplotlib inline"
   ]
  },
  {
   "cell_type": "markdown",
   "id": "e395e8bf-b530-4720-8d0f-26811e927d6e",
   "metadata": {},
   "source": [
    "## Loading the data\n",
    "We can now load the dataset into pandas using the read_csv() function. This converts the CSV file into a Pandas dataframe."
   ]
  },
  {
   "cell_type": "code",
   "execution_count": 83,
   "id": "cf4030b0-aa7f-4bd7-8e9c-c1b7f4d202d0",
   "metadata": {},
   "outputs": [],
   "source": [
    "df_football = pd.read_csv(\"final_data.csv\")"
   ]
  },
  {
   "cell_type": "markdown",
   "id": "ca5ed983-0f72-43eb-8168-6fafd48c562e",
   "metadata": {},
   "source": [
    "### Viewing the dataframe\n",
    "We can get a quick sense of the size of our dataset by using the shape method. This returns a tuple with the number of rows and columns in the dataset."
   ]
  },
  {
   "cell_type": "code",
   "execution_count": 85,
   "id": "bfde0b69-613c-4dd1-8ebf-e4d2e570e653",
   "metadata": {},
   "outputs": [
    {
     "data": {
      "text/html": [
       "<div>\n",
       "<style scoped>\n",
       "    .dataframe tbody tr th:only-of-type {\n",
       "        vertical-align: middle;\n",
       "    }\n",
       "\n",
       "    .dataframe tbody tr th {\n",
       "        vertical-align: top;\n",
       "    }\n",
       "\n",
       "    .dataframe thead th {\n",
       "        text-align: right;\n",
       "    }\n",
       "</style>\n",
       "<table border=\"1\" class=\"dataframe\">\n",
       "  <thead>\n",
       "    <tr style=\"text-align: right;\">\n",
       "      <th></th>\n",
       "      <th>player</th>\n",
       "      <th>team</th>\n",
       "      <th>name</th>\n",
       "      <th>position</th>\n",
       "      <th>height</th>\n",
       "      <th>age</th>\n",
       "      <th>appearance</th>\n",
       "      <th>goals</th>\n",
       "      <th>assists</th>\n",
       "      <th>yellow cards</th>\n",
       "      <th>...</th>\n",
       "      <th>goals conceded</th>\n",
       "      <th>clean sheets</th>\n",
       "      <th>minutes played</th>\n",
       "      <th>days_injured</th>\n",
       "      <th>games_injured</th>\n",
       "      <th>award</th>\n",
       "      <th>current_value</th>\n",
       "      <th>highest_value</th>\n",
       "      <th>position_encoded</th>\n",
       "      <th>winger</th>\n",
       "    </tr>\n",
       "  </thead>\n",
       "  <tbody>\n",
       "    <tr>\n",
       "      <th>0</th>\n",
       "      <td>/david-de-gea/profil/spieler/59377</td>\n",
       "      <td>Manchester United</td>\n",
       "      <td>David de Gea</td>\n",
       "      <td>Goalkeeper</td>\n",
       "      <td>189.000000</td>\n",
       "      <td>32.0</td>\n",
       "      <td>104</td>\n",
       "      <td>0.000000</td>\n",
       "      <td>0.000000</td>\n",
       "      <td>0.009585</td>\n",
       "      <td>...</td>\n",
       "      <td>1.217252</td>\n",
       "      <td>0.335463</td>\n",
       "      <td>9390</td>\n",
       "      <td>42</td>\n",
       "      <td>5</td>\n",
       "      <td>13</td>\n",
       "      <td>15000000</td>\n",
       "      <td>70000000</td>\n",
       "      <td>1</td>\n",
       "      <td>0</td>\n",
       "    </tr>\n",
       "    <tr>\n",
       "      <th>1</th>\n",
       "      <td>/jack-butland/profil/spieler/128899</td>\n",
       "      <td>Manchester United</td>\n",
       "      <td>Jack Butland</td>\n",
       "      <td>Goalkeeper</td>\n",
       "      <td>196.000000</td>\n",
       "      <td>30.0</td>\n",
       "      <td>15</td>\n",
       "      <td>0.000000</td>\n",
       "      <td>0.000000</td>\n",
       "      <td>0.069018</td>\n",
       "      <td>...</td>\n",
       "      <td>1.242331</td>\n",
       "      <td>0.207055</td>\n",
       "      <td>1304</td>\n",
       "      <td>510</td>\n",
       "      <td>58</td>\n",
       "      <td>1</td>\n",
       "      <td>1500000</td>\n",
       "      <td>22000000</td>\n",
       "      <td>1</td>\n",
       "      <td>0</td>\n",
       "    </tr>\n",
       "    <tr>\n",
       "      <th>2</th>\n",
       "      <td>/tom-heaton/profil/spieler/34130</td>\n",
       "      <td>Manchester United</td>\n",
       "      <td>Tom Heaton</td>\n",
       "      <td>Goalkeeper</td>\n",
       "      <td>188.000000</td>\n",
       "      <td>37.0</td>\n",
       "      <td>4</td>\n",
       "      <td>0.000000</td>\n",
       "      <td>0.000000</td>\n",
       "      <td>0.000000</td>\n",
       "      <td>...</td>\n",
       "      <td>0.616438</td>\n",
       "      <td>0.924658</td>\n",
       "      <td>292</td>\n",
       "      <td>697</td>\n",
       "      <td>84</td>\n",
       "      <td>4</td>\n",
       "      <td>600000</td>\n",
       "      <td>6000000</td>\n",
       "      <td>1</td>\n",
       "      <td>0</td>\n",
       "    </tr>\n",
       "    <tr>\n",
       "      <th>3</th>\n",
       "      <td>/lisandro-martinez/profil/spieler/480762</td>\n",
       "      <td>Manchester United</td>\n",
       "      <td>Lisandro Martínez</td>\n",
       "      <td>Defender Centre-Back</td>\n",
       "      <td>175.000000</td>\n",
       "      <td>25.0</td>\n",
       "      <td>82</td>\n",
       "      <td>0.028090</td>\n",
       "      <td>0.056180</td>\n",
       "      <td>0.224719</td>\n",
       "      <td>...</td>\n",
       "      <td>0.000000</td>\n",
       "      <td>0.000000</td>\n",
       "      <td>6408</td>\n",
       "      <td>175</td>\n",
       "      <td>22</td>\n",
       "      <td>9</td>\n",
       "      <td>50000000</td>\n",
       "      <td>50000000</td>\n",
       "      <td>2</td>\n",
       "      <td>0</td>\n",
       "    </tr>\n",
       "    <tr>\n",
       "      <th>4</th>\n",
       "      <td>/raphael-varane/profil/spieler/164770</td>\n",
       "      <td>Manchester United</td>\n",
       "      <td>Raphaël Varane</td>\n",
       "      <td>Defender Centre-Back</td>\n",
       "      <td>191.000000</td>\n",
       "      <td>30.0</td>\n",
       "      <td>63</td>\n",
       "      <td>0.017889</td>\n",
       "      <td>0.017889</td>\n",
       "      <td>0.053667</td>\n",
       "      <td>...</td>\n",
       "      <td>0.000000</td>\n",
       "      <td>0.000000</td>\n",
       "      <td>5031</td>\n",
       "      <td>238</td>\n",
       "      <td>51</td>\n",
       "      <td>21</td>\n",
       "      <td>40000000</td>\n",
       "      <td>80000000</td>\n",
       "      <td>2</td>\n",
       "      <td>0</td>\n",
       "    </tr>\n",
       "    <tr>\n",
       "      <th>...</th>\n",
       "      <td>...</td>\n",
       "      <td>...</td>\n",
       "      <td>...</td>\n",
       "      <td>...</td>\n",
       "      <td>...</td>\n",
       "      <td>...</td>\n",
       "      <td>...</td>\n",
       "      <td>...</td>\n",
       "      <td>...</td>\n",
       "      <td>...</td>\n",
       "      <td>...</td>\n",
       "      <td>...</td>\n",
       "      <td>...</td>\n",
       "      <td>...</td>\n",
       "      <td>...</td>\n",
       "      <td>...</td>\n",
       "      <td>...</td>\n",
       "      <td>...</td>\n",
       "      <td>...</td>\n",
       "      <td>...</td>\n",
       "      <td>...</td>\n",
       "    </tr>\n",
       "    <tr>\n",
       "      <th>10749</th>\n",
       "      <td>/aidan-simmons/profil/spieler/867763</td>\n",
       "      <td>Western Sydney Wanderers</td>\n",
       "      <td>Aidan Simmons</td>\n",
       "      <td>Attack-RightWinger</td>\n",
       "      <td>181.240353</td>\n",
       "      <td>20.0</td>\n",
       "      <td>16</td>\n",
       "      <td>0.175953</td>\n",
       "      <td>0.087977</td>\n",
       "      <td>0.263930</td>\n",
       "      <td>...</td>\n",
       "      <td>0.000000</td>\n",
       "      <td>0.000000</td>\n",
       "      <td>1023</td>\n",
       "      <td>0</td>\n",
       "      <td>0</td>\n",
       "      <td>0</td>\n",
       "      <td>75000</td>\n",
       "      <td>75000</td>\n",
       "      <td>4</td>\n",
       "      <td>1</td>\n",
       "    </tr>\n",
       "    <tr>\n",
       "      <th>10750</th>\n",
       "      <td>/kusini-yengi/profil/spieler/708099</td>\n",
       "      <td>Western Sydney Wanderers</td>\n",
       "      <td>Kusini Yengi</td>\n",
       "      <td>Attack Centre-Forward</td>\n",
       "      <td>190.000000</td>\n",
       "      <td>24.0</td>\n",
       "      <td>26</td>\n",
       "      <td>0.372671</td>\n",
       "      <td>0.186335</td>\n",
       "      <td>0.186335</td>\n",
       "      <td>...</td>\n",
       "      <td>0.000000</td>\n",
       "      <td>0.000000</td>\n",
       "      <td>1449</td>\n",
       "      <td>102</td>\n",
       "      <td>18</td>\n",
       "      <td>0</td>\n",
       "      <td>300000</td>\n",
       "      <td>300000</td>\n",
       "      <td>4</td>\n",
       "      <td>0</td>\n",
       "    </tr>\n",
       "    <tr>\n",
       "      <th>10751</th>\n",
       "      <td>/nathanael-blair/profil/spieler/1023268</td>\n",
       "      <td>Western Sydney Wanderers</td>\n",
       "      <td>Nathanael Blair</td>\n",
       "      <td>Attack Centre-Forward</td>\n",
       "      <td>181.240353</td>\n",
       "      <td>19.0</td>\n",
       "      <td>20</td>\n",
       "      <td>0.375000</td>\n",
       "      <td>0.000000</td>\n",
       "      <td>0.187500</td>\n",
       "      <td>...</td>\n",
       "      <td>0.000000</td>\n",
       "      <td>0.000000</td>\n",
       "      <td>960</td>\n",
       "      <td>0</td>\n",
       "      <td>0</td>\n",
       "      <td>0</td>\n",
       "      <td>50000</td>\n",
       "      <td>50000</td>\n",
       "      <td>4</td>\n",
       "      <td>0</td>\n",
       "    </tr>\n",
       "    <tr>\n",
       "      <th>10752</th>\n",
       "      <td>/zachary-sapsford/profil/spieler/703657</td>\n",
       "      <td>Western Sydney Wanderers</td>\n",
       "      <td>Zachary Sapsford</td>\n",
       "      <td>Attack Centre-Forward</td>\n",
       "      <td>181.240353</td>\n",
       "      <td>20.0</td>\n",
       "      <td>17</td>\n",
       "      <td>0.312139</td>\n",
       "      <td>0.104046</td>\n",
       "      <td>0.000000</td>\n",
       "      <td>...</td>\n",
       "      <td>0.000000</td>\n",
       "      <td>0.000000</td>\n",
       "      <td>865</td>\n",
       "      <td>0</td>\n",
       "      <td>0</td>\n",
       "      <td>0</td>\n",
       "      <td>50000</td>\n",
       "      <td>50000</td>\n",
       "      <td>4</td>\n",
       "      <td>0</td>\n",
       "    </tr>\n",
       "    <tr>\n",
       "      <th>10753</th>\n",
       "      <td>/alexander-badolato/profil/spieler/957230</td>\n",
       "      <td>Western Sydney Wanderers</td>\n",
       "      <td>Alexander Badolato</td>\n",
       "      <td>Attack Centre-Forward</td>\n",
       "      <td>170.000000</td>\n",
       "      <td>18.0</td>\n",
       "      <td>21</td>\n",
       "      <td>0.000000</td>\n",
       "      <td>0.000000</td>\n",
       "      <td>0.086042</td>\n",
       "      <td>...</td>\n",
       "      <td>0.000000</td>\n",
       "      <td>0.000000</td>\n",
       "      <td>1046</td>\n",
       "      <td>0</td>\n",
       "      <td>0</td>\n",
       "      <td>0</td>\n",
       "      <td>25000</td>\n",
       "      <td>25000</td>\n",
       "      <td>4</td>\n",
       "      <td>0</td>\n",
       "    </tr>\n",
       "  </tbody>\n",
       "</table>\n",
       "<p>10754 rows × 22 columns</p>\n",
       "</div>"
      ],
      "text/plain": [
       "                                          player                      team  \\\n",
       "0             /david-de-gea/profil/spieler/59377         Manchester United   \n",
       "1            /jack-butland/profil/spieler/128899         Manchester United   \n",
       "2               /tom-heaton/profil/spieler/34130         Manchester United   \n",
       "3       /lisandro-martinez/profil/spieler/480762         Manchester United   \n",
       "4          /raphael-varane/profil/spieler/164770         Manchester United   \n",
       "...                                          ...                       ...   \n",
       "10749       /aidan-simmons/profil/spieler/867763  Western Sydney Wanderers   \n",
       "10750        /kusini-yengi/profil/spieler/708099  Western Sydney Wanderers   \n",
       "10751    /nathanael-blair/profil/spieler/1023268  Western Sydney Wanderers   \n",
       "10752    /zachary-sapsford/profil/spieler/703657  Western Sydney Wanderers   \n",
       "10753  /alexander-badolato/profil/spieler/957230  Western Sydney Wanderers   \n",
       "\n",
       "                     name               position      height   age  \\\n",
       "0            David de Gea             Goalkeeper  189.000000  32.0   \n",
       "1            Jack Butland             Goalkeeper  196.000000  30.0   \n",
       "2              Tom Heaton             Goalkeeper  188.000000  37.0   \n",
       "3       Lisandro Martínez   Defender Centre-Back  175.000000  25.0   \n",
       "4          Raphaël Varane   Defender Centre-Back  191.000000  30.0   \n",
       "...                   ...                    ...         ...   ...   \n",
       "10749       Aidan Simmons     Attack-RightWinger  181.240353  20.0   \n",
       "10750        Kusini Yengi  Attack Centre-Forward  190.000000  24.0   \n",
       "10751     Nathanael Blair  Attack Centre-Forward  181.240353  19.0   \n",
       "10752    Zachary Sapsford  Attack Centre-Forward  181.240353  20.0   \n",
       "10753  Alexander Badolato  Attack Centre-Forward  170.000000  18.0   \n",
       "\n",
       "       appearance     goals   assists  yellow cards  ...  goals conceded  \\\n",
       "0             104  0.000000  0.000000      0.009585  ...        1.217252   \n",
       "1              15  0.000000  0.000000      0.069018  ...        1.242331   \n",
       "2               4  0.000000  0.000000      0.000000  ...        0.616438   \n",
       "3              82  0.028090  0.056180      0.224719  ...        0.000000   \n",
       "4              63  0.017889  0.017889      0.053667  ...        0.000000   \n",
       "...           ...       ...       ...           ...  ...             ...   \n",
       "10749          16  0.175953  0.087977      0.263930  ...        0.000000   \n",
       "10750          26  0.372671  0.186335      0.186335  ...        0.000000   \n",
       "10751          20  0.375000  0.000000      0.187500  ...        0.000000   \n",
       "10752          17  0.312139  0.104046      0.000000  ...        0.000000   \n",
       "10753          21  0.000000  0.000000      0.086042  ...        0.000000   \n",
       "\n",
       "       clean sheets  minutes played  days_injured  games_injured  award  \\\n",
       "0          0.335463            9390            42              5     13   \n",
       "1          0.207055            1304           510             58      1   \n",
       "2          0.924658             292           697             84      4   \n",
       "3          0.000000            6408           175             22      9   \n",
       "4          0.000000            5031           238             51     21   \n",
       "...             ...             ...           ...            ...    ...   \n",
       "10749      0.000000            1023             0              0      0   \n",
       "10750      0.000000            1449           102             18      0   \n",
       "10751      0.000000             960             0              0      0   \n",
       "10752      0.000000             865             0              0      0   \n",
       "10753      0.000000            1046             0              0      0   \n",
       "\n",
       "       current_value  highest_value  position_encoded  winger  \n",
       "0           15000000       70000000                 1       0  \n",
       "1            1500000       22000000                 1       0  \n",
       "2             600000        6000000                 1       0  \n",
       "3           50000000       50000000                 2       0  \n",
       "4           40000000       80000000                 2       0  \n",
       "...              ...            ...               ...     ...  \n",
       "10749          75000          75000                 4       1  \n",
       "10750         300000         300000                 4       0  \n",
       "10751          50000          50000                 4       0  \n",
       "10752          50000          50000                 4       0  \n",
       "10753          25000          25000                 4       0  \n",
       "\n",
       "[10754 rows x 22 columns]"
      ]
     },
     "execution_count": 85,
     "metadata": {},
     "output_type": "execute_result"
    }
   ],
   "source": [
    "df_football"
   ]
  },
  {
   "cell_type": "markdown",
   "id": "bd2b5bc4-db37-4432-b666-0714afd0c4ca",
   "metadata": {},
   "source": [
    "## 1. Data Profiling:\n",
    "Data profiling is a comprehensive process of examining the data available in an existing dataset and collecting statistics and information about that data. "
   ]
  },
  {
   "cell_type": "code",
   "execution_count": 87,
   "id": "672f2081-5a2c-4908-8cbd-29519fb3cac5",
   "metadata": {},
   "outputs": [
    {
     "name": "stdout",
     "output_type": "stream",
     "text": [
      "<class 'pandas.core.frame.DataFrame'>\n",
      "RangeIndex: 10754 entries, 0 to 10753\n",
      "Data columns (total 22 columns):\n",
      " #   Column               Non-Null Count  Dtype  \n",
      "---  ------               --------------  -----  \n",
      " 0   player               10754 non-null  object \n",
      " 1   team                 10754 non-null  object \n",
      " 2   name                 10754 non-null  object \n",
      " 3   position             10754 non-null  object \n",
      " 4   height               10754 non-null  float64\n",
      " 5   age                  10754 non-null  float64\n",
      " 6   appearance           10754 non-null  int64  \n",
      " 7   goals                10754 non-null  float64\n",
      " 8   assists              10754 non-null  float64\n",
      " 9   yellow cards         10754 non-null  float64\n",
      " 10  second yellow cards  10754 non-null  float64\n",
      " 11  red cards            10754 non-null  float64\n",
      " 12  goals conceded       10754 non-null  float64\n",
      " 13  clean sheets         10754 non-null  float64\n",
      " 14  minutes played       10754 non-null  int64  \n",
      " 15  days_injured         10754 non-null  int64  \n",
      " 16  games_injured        10754 non-null  int64  \n",
      " 17  award                10754 non-null  int64  \n",
      " 18  current_value        10754 non-null  int64  \n",
      " 19  highest_value        10754 non-null  int64  \n",
      " 20  position_encoded     10754 non-null  int64  \n",
      " 21  winger               10754 non-null  int64  \n",
      "dtypes: float64(9), int64(9), object(4)\n",
      "memory usage: 1.8+ MB\n"
     ]
    }
   ],
   "source": [
    "df_football.info()"
   ]
  },
  {
   "cell_type": "code",
   "execution_count": 88,
   "id": "71c0567d-3dbd-4b9c-b7a8-b9cc95dec866",
   "metadata": {},
   "outputs": [
    {
     "data": {
      "text/html": [
       "<div>\n",
       "<style scoped>\n",
       "    .dataframe tbody tr th:only-of-type {\n",
       "        vertical-align: middle;\n",
       "    }\n",
       "\n",
       "    .dataframe tbody tr th {\n",
       "        vertical-align: top;\n",
       "    }\n",
       "\n",
       "    .dataframe thead th {\n",
       "        text-align: right;\n",
       "    }\n",
       "</style>\n",
       "<table border=\"1\" class=\"dataframe\">\n",
       "  <thead>\n",
       "    <tr style=\"text-align: right;\">\n",
       "      <th></th>\n",
       "      <th>height</th>\n",
       "      <th>age</th>\n",
       "      <th>appearance</th>\n",
       "      <th>goals</th>\n",
       "      <th>assists</th>\n",
       "      <th>yellow cards</th>\n",
       "      <th>second yellow cards</th>\n",
       "      <th>red cards</th>\n",
       "      <th>goals conceded</th>\n",
       "      <th>clean sheets</th>\n",
       "      <th>minutes played</th>\n",
       "      <th>days_injured</th>\n",
       "      <th>games_injured</th>\n",
       "      <th>award</th>\n",
       "      <th>current_value</th>\n",
       "      <th>highest_value</th>\n",
       "      <th>position_encoded</th>\n",
       "      <th>winger</th>\n",
       "    </tr>\n",
       "  </thead>\n",
       "  <tbody>\n",
       "    <tr>\n",
       "      <th>count</th>\n",
       "      <td>10754.000000</td>\n",
       "      <td>10754.000000</td>\n",
       "      <td>10754.000000</td>\n",
       "      <td>10754.000000</td>\n",
       "      <td>10754.000000</td>\n",
       "      <td>10754.000000</td>\n",
       "      <td>10754.000000</td>\n",
       "      <td>10754.000000</td>\n",
       "      <td>10754.000000</td>\n",
       "      <td>10754.000000</td>\n",
       "      <td>10754.000000</td>\n",
       "      <td>10754.000000</td>\n",
       "      <td>10754.000000</td>\n",
       "      <td>10754.000000</td>\n",
       "      <td>1.075400e+04</td>\n",
       "      <td>1.075400e+04</td>\n",
       "      <td>10754.000000</td>\n",
       "      <td>10754.000000</td>\n",
       "    </tr>\n",
       "    <tr>\n",
       "      <th>mean</th>\n",
       "      <td>181.240353</td>\n",
       "      <td>26.041903</td>\n",
       "      <td>36.407011</td>\n",
       "      <td>0.125554</td>\n",
       "      <td>0.086978</td>\n",
       "      <td>0.189757</td>\n",
       "      <td>0.004666</td>\n",
       "      <td>0.006826</td>\n",
       "      <td>0.131655</td>\n",
       "      <td>0.044881</td>\n",
       "      <td>2470.789381</td>\n",
       "      <td>117.961689</td>\n",
       "      <td>15.826297</td>\n",
       "      <td>1.960759</td>\n",
       "      <td>3.622971e+06</td>\n",
       "      <td>6.152606e+06</td>\n",
       "      <td>2.713223</td>\n",
       "      <td>0.307513</td>\n",
       "    </tr>\n",
       "    <tr>\n",
       "      <th>std</th>\n",
       "      <td>6.969818</td>\n",
       "      <td>4.777629</td>\n",
       "      <td>26.526541</td>\n",
       "      <td>0.235585</td>\n",
       "      <td>0.143351</td>\n",
       "      <td>0.432388</td>\n",
       "      <td>0.025232</td>\n",
       "      <td>0.081143</td>\n",
       "      <td>0.442335</td>\n",
       "      <td>0.924437</td>\n",
       "      <td>2021.703271</td>\n",
       "      <td>175.206827</td>\n",
       "      <td>23.383606</td>\n",
       "      <td>3.743936</td>\n",
       "      <td>9.095410e+06</td>\n",
       "      <td>1.338988e+07</td>\n",
       "      <td>0.986356</td>\n",
       "      <td>0.461485</td>\n",
       "    </tr>\n",
       "    <tr>\n",
       "      <th>min</th>\n",
       "      <td>156.000000</td>\n",
       "      <td>15.000000</td>\n",
       "      <td>0.000000</td>\n",
       "      <td>0.000000</td>\n",
       "      <td>0.000000</td>\n",
       "      <td>0.000000</td>\n",
       "      <td>0.000000</td>\n",
       "      <td>0.000000</td>\n",
       "      <td>0.000000</td>\n",
       "      <td>0.000000</td>\n",
       "      <td>0.000000</td>\n",
       "      <td>0.000000</td>\n",
       "      <td>0.000000</td>\n",
       "      <td>0.000000</td>\n",
       "      <td>0.000000e+00</td>\n",
       "      <td>0.000000e+00</td>\n",
       "      <td>1.000000</td>\n",
       "      <td>0.000000</td>\n",
       "    </tr>\n",
       "    <tr>\n",
       "      <th>25%</th>\n",
       "      <td>176.000000</td>\n",
       "      <td>22.000000</td>\n",
       "      <td>12.000000</td>\n",
       "      <td>0.000000</td>\n",
       "      <td>0.000000</td>\n",
       "      <td>0.053191</td>\n",
       "      <td>0.000000</td>\n",
       "      <td>0.000000</td>\n",
       "      <td>0.000000</td>\n",
       "      <td>0.000000</td>\n",
       "      <td>660.000000</td>\n",
       "      <td>0.000000</td>\n",
       "      <td>0.000000</td>\n",
       "      <td>0.000000</td>\n",
       "      <td>3.000000e+05</td>\n",
       "      <td>4.500000e+05</td>\n",
       "      <td>2.000000</td>\n",
       "      <td>0.000000</td>\n",
       "    </tr>\n",
       "    <tr>\n",
       "      <th>50%</th>\n",
       "      <td>181.240353</td>\n",
       "      <td>26.000000</td>\n",
       "      <td>35.000000</td>\n",
       "      <td>0.045969</td>\n",
       "      <td>0.040773</td>\n",
       "      <td>0.150250</td>\n",
       "      <td>0.000000</td>\n",
       "      <td>0.000000</td>\n",
       "      <td>0.000000</td>\n",
       "      <td>0.000000</td>\n",
       "      <td>2101.500000</td>\n",
       "      <td>37.000000</td>\n",
       "      <td>5.000000</td>\n",
       "      <td>1.000000</td>\n",
       "      <td>8.000000e+05</td>\n",
       "      <td>1.500000e+06</td>\n",
       "      <td>3.000000</td>\n",
       "      <td>0.000000</td>\n",
       "    </tr>\n",
       "    <tr>\n",
       "      <th>75%</th>\n",
       "      <td>186.000000</td>\n",
       "      <td>29.000000</td>\n",
       "      <td>59.000000</td>\n",
       "      <td>0.172263</td>\n",
       "      <td>0.133136</td>\n",
       "      <td>0.248276</td>\n",
       "      <td>0.000000</td>\n",
       "      <td>0.000000</td>\n",
       "      <td>0.000000</td>\n",
       "      <td>0.000000</td>\n",
       "      <td>3968.000000</td>\n",
       "      <td>181.000000</td>\n",
       "      <td>24.000000</td>\n",
       "      <td>2.000000</td>\n",
       "      <td>3.000000e+06</td>\n",
       "      <td>5.000000e+06</td>\n",
       "      <td>4.000000</td>\n",
       "      <td>1.000000</td>\n",
       "    </tr>\n",
       "    <tr>\n",
       "      <th>max</th>\n",
       "      <td>206.000000</td>\n",
       "      <td>43.000000</td>\n",
       "      <td>107.000000</td>\n",
       "      <td>11.250000</td>\n",
       "      <td>4.000000</td>\n",
       "      <td>30.000000</td>\n",
       "      <td>1.000000</td>\n",
       "      <td>6.923077</td>\n",
       "      <td>9.000000</td>\n",
       "      <td>90.000000</td>\n",
       "      <td>9510.000000</td>\n",
       "      <td>2349.000000</td>\n",
       "      <td>339.000000</td>\n",
       "      <td>92.000000</td>\n",
       "      <td>1.800000e+08</td>\n",
       "      <td>2.000000e+08</td>\n",
       "      <td>4.000000</td>\n",
       "      <td>1.000000</td>\n",
       "    </tr>\n",
       "  </tbody>\n",
       "</table>\n",
       "</div>"
      ],
      "text/plain": [
       "             height           age    appearance         goals       assists  \\\n",
       "count  10754.000000  10754.000000  10754.000000  10754.000000  10754.000000   \n",
       "mean     181.240353     26.041903     36.407011      0.125554      0.086978   \n",
       "std        6.969818      4.777629     26.526541      0.235585      0.143351   \n",
       "min      156.000000     15.000000      0.000000      0.000000      0.000000   \n",
       "25%      176.000000     22.000000     12.000000      0.000000      0.000000   \n",
       "50%      181.240353     26.000000     35.000000      0.045969      0.040773   \n",
       "75%      186.000000     29.000000     59.000000      0.172263      0.133136   \n",
       "max      206.000000     43.000000    107.000000     11.250000      4.000000   \n",
       "\n",
       "       yellow cards  second yellow cards     red cards  goals conceded  \\\n",
       "count  10754.000000         10754.000000  10754.000000    10754.000000   \n",
       "mean       0.189757             0.004666      0.006826        0.131655   \n",
       "std        0.432388             0.025232      0.081143        0.442335   \n",
       "min        0.000000             0.000000      0.000000        0.000000   \n",
       "25%        0.053191             0.000000      0.000000        0.000000   \n",
       "50%        0.150250             0.000000      0.000000        0.000000   \n",
       "75%        0.248276             0.000000      0.000000        0.000000   \n",
       "max       30.000000             1.000000      6.923077        9.000000   \n",
       "\n",
       "       clean sheets  minutes played  days_injured  games_injured  \\\n",
       "count  10754.000000    10754.000000  10754.000000   10754.000000   \n",
       "mean       0.044881     2470.789381    117.961689      15.826297   \n",
       "std        0.924437     2021.703271    175.206827      23.383606   \n",
       "min        0.000000        0.000000      0.000000       0.000000   \n",
       "25%        0.000000      660.000000      0.000000       0.000000   \n",
       "50%        0.000000     2101.500000     37.000000       5.000000   \n",
       "75%        0.000000     3968.000000    181.000000      24.000000   \n",
       "max       90.000000     9510.000000   2349.000000     339.000000   \n",
       "\n",
       "              award  current_value  highest_value  position_encoded  \\\n",
       "count  10754.000000   1.075400e+04   1.075400e+04      10754.000000   \n",
       "mean       1.960759   3.622971e+06   6.152606e+06          2.713223   \n",
       "std        3.743936   9.095410e+06   1.338988e+07          0.986356   \n",
       "min        0.000000   0.000000e+00   0.000000e+00          1.000000   \n",
       "25%        0.000000   3.000000e+05   4.500000e+05          2.000000   \n",
       "50%        1.000000   8.000000e+05   1.500000e+06          3.000000   \n",
       "75%        2.000000   3.000000e+06   5.000000e+06          4.000000   \n",
       "max       92.000000   1.800000e+08   2.000000e+08          4.000000   \n",
       "\n",
       "             winger  \n",
       "count  10754.000000  \n",
       "mean       0.307513  \n",
       "std        0.461485  \n",
       "min        0.000000  \n",
       "25%        0.000000  \n",
       "50%        0.000000  \n",
       "75%        1.000000  \n",
       "max        1.000000  "
      ]
     },
     "execution_count": 88,
     "metadata": {},
     "output_type": "execute_result"
    }
   ],
   "source": [
    "df_football.describe()"
   ]
  },
  {
   "cell_type": "code",
   "execution_count": 89,
   "id": "7993bd7c-cf41-4e36-a0cd-193c8ab9fefd",
   "metadata": {},
   "outputs": [
    {
     "data": {
      "text/plain": [
       "(10754, 22)"
      ]
     },
     "execution_count": 89,
     "metadata": {},
     "output_type": "execute_result"
    }
   ],
   "source": [
    "df_football.shape"
   ]
  },
  {
   "cell_type": "markdown",
   "id": "834929aa-fd6a-4ec5-84d4-77c4b3c1a506",
   "metadata": {},
   "source": [
    "The process of profiling differs slightly for categorical and numerical variables due to their inherent differences.\n",
    "\n",
    "**The two main types of data are:**\n",
    "- Quantitative (numerical) data\n",
    "- Qualitative (categorical) data"
   ]
  },
  {
   "cell_type": "markdown",
   "id": "3a9954f5-6fbc-45b4-ad86-3e21b6e0ca2d",
   "metadata": {},
   "source": [
    "### Data Quality Checks\n",
    "Data quality checks involve the process of ensuring that the data is accurate, complete, consistent, relevant, and reliable. \n",
    "\n",
    "\n",
    "**Here are typical steps involved in checking data quality:**"
   ]
  },
  {
   "cell_type": "markdown",
   "id": "4818c876-173d-4e56-9e7d-b4334d2def25",
   "metadata": {},
   "source": [
    "#### 1. Reliability:\n",
    "Evaluate the data's source and collection process to determine its trustworthiness."
   ]
  },
  {
   "cell_type": "code",
   "execution_count": 93,
   "id": "9034ae7b-dc1d-4cba-8f9e-bb499d021cde",
   "metadata": {},
   "outputs": [],
   "source": [
    "#yes"
   ]
  },
  {
   "cell_type": "markdown",
   "id": "2ce0cc59-8c92-4acc-8d07-c40764e1a86b",
   "metadata": {},
   "source": [
    "#### 2. Timeliness: \n",
    "Ensure the data is up-to-date and reflective of the current situation or the period of interest for the analysis."
   ]
  },
  {
   "cell_type": "code",
   "execution_count": 95,
   "id": "4b78ae35-7226-4cb6-b8b2-a46c2ed17cf9",
   "metadata": {},
   "outputs": [],
   "source": [
    "#Yes"
   ]
  },
  {
   "cell_type": "markdown",
   "id": "7fab0fe2-6624-4615-b9d8-3c3669056bf8",
   "metadata": {},
   "source": [
    "#### 3. Consistency: \n",
    "\n",
    "Confirm that the data is consistent within the dataset and across multiple data sources. For example, the same data point should not have different values in different places.\n"
   ]
  },
  {
   "cell_type": "code",
   "execution_count": 97,
   "id": "7fecc573-959f-4800-8ddd-a67985c68b18",
   "metadata": {},
   "outputs": [
    {
     "data": {
      "text/plain": [
       "Index(['player', 'team', 'name', 'position', 'height', 'age', 'appearance',\n",
       "       'goals', 'assists', 'yellow cards', 'second yellow cards', 'red cards',\n",
       "       'goals conceded', 'clean sheets', 'minutes played', 'days_injured',\n",
       "       'games_injured', 'award', 'current_value', 'highest_value',\n",
       "       'position_encoded', 'winger'],\n",
       "      dtype='object')"
      ]
     },
     "execution_count": 97,
     "metadata": {},
     "output_type": "execute_result"
    }
   ],
   "source": [
    "df_football.columns"
   ]
  },
  {
   "cell_type": "code",
   "execution_count": 98,
   "id": "ed0daafd-d009-41d4-ba07-9ed52ddc2a0d",
   "metadata": {},
   "outputs": [
    {
     "data": {
      "text/plain": [
       "array(['Manchester United', 'West Ham United', 'Leicester City',\n",
       "       'Aston Villa', 'Wolverhampton Wanderers', 'Southampton FC',\n",
       "       'Brighton &amp; Hove Albion', 'Everton FC', 'Nottingham Forest',\n",
       "       'Leeds United', 'Crystal Palace', 'Fulham FC', 'AFC Bournemouth',\n",
       "       'Brentford FC', 'Liverpool FC', 'Newcastle United',\n",
       "       'Manchester City', 'Arsenal FC', 'Tottenham Hotspur', 'Chelsea FC',\n",
       "       'Borussia Mönchengladbach', 'VfL Wolfsburg', 'TSG 1899 Hoffenheim',\n",
       "       '1.FC Union Berlin', 'FC Augsburg', 'VfB Stuttgart',\n",
       "       '1.FSV Mainz 05', '1.FC Köln', 'Hertha BSC', 'FC Schalke 04',\n",
       "       'VfL Bochum', 'SV Werder Bremen', 'Eintracht Frankfurt',\n",
       "       'SC Freiburg', 'Borussia Dortmund', 'Bayer 04 Leverkusen',\n",
       "       'Bayern Munich', 'RB Leipzig', 'Real Sociedad', 'Villarreal CF',\n",
       "       'Real Betis Balompié', 'Athletic Bilbao', 'Valencia CF',\n",
       "       'Sevilla FC', 'Celta de Vigo', 'CA Osasuna', 'Girona FC',\n",
       "       'Rayo Vallecano', 'RCD Mallorca', 'UD Almería',\n",
       "       'Real Valladolid CF', 'Cádiz CF', 'Elche CF',\n",
       "       'RCD Espanyol Barcelona', 'Getafe CF', 'Atlético de Madrid',\n",
       "       'Real Madrid', 'FC Barcelona', 'AS Roma', 'SS Lazio',\n",
       "       'ACF Fiorentina', 'US Sassuolo', 'Torino FC', 'Udinese Calcio',\n",
       "       'Bologna FC 1909', 'AC Monza', 'FC Empoli', 'US Lecce',\n",
       "       'Spezia Calcio', 'Hellas Verona', 'UC Sampdoria', 'US Cremonese',\n",
       "       'US Salernitana 1919', 'Atalanta BC', 'SSC Napoli', 'Inter Milan',\n",
       "       'AC Milan', 'Juventus FC', 'AS Monaco', 'Stade Rennais FC',\n",
       "       'Olympique Marseille', 'OGC Nice', 'RC Lens', 'FC Nantes',\n",
       "       'Montpellier HSC', 'FC Lorient', 'FC Toulouse', 'ESTAC Troyes',\n",
       "       'Stade Brestois 29', 'Angers SCO', 'AJ Auxerre',\n",
       "       'Clermont Foot 63', 'AC Ajaccio', 'Olympique Lyon', 'LOSC Lille',\n",
       "       'Stade Reims', 'RC Strasbourg Alsace', 'Paris Saint-Germain',\n",
       "       'AZ Alkmaar', 'Twente Enschede FC', 'Vitesse Arnhem',\n",
       "       'FC Groningen', 'Fortuna Sittard', 'NEC Nijmegen',\n",
       "       'Sparta Rotterdam', 'SC Cambuur Leeuwarden', 'Excelsior Rotterdam',\n",
       "       'FC Volendam', 'RKC Waalwijk', 'FC Emmen', 'Go Ahead Eagles',\n",
       "       'FC Utrecht', 'SC Heerenveen', 'Ajax Amsterdam', 'PSV Eindhoven',\n",
       "       'Feyenoord Rotterdam', 'Club Athletico Paranaense',\n",
       "       'Red Bull Bragantino', 'Santos FC',\n",
       "       'Clube de Regatas Vasco da Gama', 'Fluminense Football Club',\n",
       "       'Sport Club Internacional', 'Esporte Clube Bahia',\n",
       "       'Grêmio Foot-Ball Porto Alegrense', 'Coritiba Foot Ball Club',\n",
       "       'Fortaleza Esporte Clube', 'Cruzeiro Esporte Clube',\n",
       "       'Goiás Esporte Clube', 'Cuiabá Esporte Clube (MT)',\n",
       "       'Botafogo de Futebol e Regatas', 'Clube Atlético Mineiro',\n",
       "       'São Paulo Futebol Clube', 'América Futebol Clube (MG)',\n",
       "       'Sociedade Esportiva Palmeiras', 'CR Flamengo',\n",
       "       'Sport Club Corinthians Paulista', 'SC Braga', 'FC Famalicão',\n",
       "       'Vitória Guimarães SC', 'CD Santa Clara', 'GD Estoril Praia',\n",
       "       'Boavista FC', 'Portimonense SC', 'CS Marítimo', 'Casa Pia AC',\n",
       "       'FC Paços de Ferreira', 'FC Arouca', 'FC Vizela', 'Rio Ave FC',\n",
       "       'GD Chaves', 'Gil Vicente FC', 'FC Porto', 'Sporting CP',\n",
       "       'SL Benfica', 'Santos Laguna', 'Club León FC', 'FC Juárez',\n",
       "       'Club Tijuana', 'Atlético de San Luis', 'Club Necaxa', 'Puebla FC',\n",
       "       'Mazatlán FC', 'Querétaro FC', 'CF América', 'CF Monterrey',\n",
       "       'Atlas Guadalajara', 'UNAM Pumas', 'Deportivo Toluca',\n",
       "       'Tigres UANL', 'Deportivo Guadalajara', 'CD Cruz Azul',\n",
       "       'CF Pachuca', 'Dynamo Moscow', 'Lokomotiv Moscow', 'FK Rostov',\n",
       "       'Krylya Sovetov Samara', 'FC Sochi', 'Akhmat Grozny',\n",
       "       'Ural Yekaterinburg', 'FK Orenburg', 'FC Pari Nizhniy Novgorod',\n",
       "       'FK Khimki', 'Torpedo Moscow', 'Fakel Voronezh', 'Spartak Moscow',\n",
       "       'CSKA Moscow', 'FK Krasnodar', 'Zenit St. Petersburg',\n",
       "       'West Bromwich Albion', 'Sunderland AFC', 'Hull City',\n",
       "       'Preston North End', 'Stoke City', 'Queens Park Rangers',\n",
       "       'Birmingham City', 'Cardiff City', 'Millwall FC', 'Reading FC',\n",
       "       'Blackpool FC', 'Bristol City', 'Huddersfield Town',\n",
       "       'Rotherham United', 'Wigan Athletic', 'Middlesbrough FC',\n",
       "       'Coventry City', 'Luton Town', 'Swansea City', 'Burnley FC',\n",
       "       'Watford FC', 'Sheffield United', 'Blackburn Rovers',\n",
       "       'Norwich City', 'Trabzonspor', 'Besiktas JK', 'Basaksehir FK',\n",
       "       'Antalyaspor', 'Adana Demirspor', 'Alanyaspor', 'Kasimpasa',\n",
       "       'Konyaspor', 'MKE Ankaragücü', 'Sivasspor', 'Kayserispor',\n",
       "       'Giresunspor', 'Istanbulspor', 'Hatayspor', 'Gaziantep FK',\n",
       "       'Fatih Karagümrük', 'Ümraniyespor', 'Fenerbahce', 'Galatasaray',\n",
       "       'SK Sturm Graz', 'LASK', 'SCR Altach', 'SC Austria Lustenau',\n",
       "       'SV Ried', 'TSV Hartberg', 'WSG Tirol', 'Rapid Vienna',\n",
       "       'Austria Vienna', 'SK Austria Klagenfurt', 'Wolfsberger AC',\n",
       "       'Red Bull Salzburg', 'Philadelphia Union', 'FC Cincinnati',\n",
       "       'FC Dallas', 'Orlando City SC', 'Los Angeles Galaxy',\n",
       "       'New England Revolution', 'D.C. United', 'New York Red Bulls',\n",
       "       'Portland Timbers', 'Columbus Crew', 'Charlotte FC',\n",
       "       'Sporting Kansas City', 'Colorado Rapids',\n",
       "       'Vancouver Whitecaps FC', 'Chicago Fire FC', 'Inter Miami CF',\n",
       "       'Minnesota United FC', 'Houston Dynamo FC', 'St. Louis CITY SC',\n",
       "       'CF Montréal', 'Real Salt Lake City', 'Nashville SC',\n",
       "       'San Jose Earthquakes', 'Seattle Sounders FC', 'Atlanta United FC',\n",
       "       'New York City FC', 'Austin FC', 'Los Angeles FC', 'Toronto FC',\n",
       "       'CA Vélez Sarsfield', 'CA San Lorenzo de Almagro',\n",
       "       'Club Atlético Lanús', 'Defensa y Justicia',\n",
       "       'Club Estudiantes de La Plata', \"CA Newell's Old Boys\", 'CA Colon',\n",
       "       'CA Rosario Central', 'CA Banfield',\n",
       "       'Club de Gimnasia y Esgrima La Plata', 'Club Atlético Tucumán',\n",
       "       'CD Godoy Cruz Antonio Tomba', 'Club Atlético Unión',\n",
       "       'Club Atlético Platense', 'Instituto AC Córdoba',\n",
       "       'CA Sarmiento (Junin)', 'CA Central Córdoba (SdE)',\n",
       "       'CA Barracas Central', 'Arsenal Fútbol Club',\n",
       "       'Club Atlético Talleres', 'Club Atlético Belgrano',\n",
       "       'AA Argentinos Juniors', 'CA Independiente', 'Club Atlético Tigre',\n",
       "       'CA River Plate', 'CA Boca Juniors', 'CA Huracán', 'Racing Club',\n",
       "       'Kawasaki Frontale', 'Yokohama F. Marinos', 'Cerezo Osaka',\n",
       "       'Kyoto Sanga', 'FC Tokyo', 'Nagoya Grampus', 'Kashiwa Reysol',\n",
       "       'Yokohama FC', 'Avispa Fukuoka', 'Sagan Tosu', 'Vissel Kobe',\n",
       "       'Hokkaido Consadole Sapporo', 'Shonan Bellmare', 'Albirex Niigata',\n",
       "       'Kashima Antlers', 'Sanfrecce Hiroshima', 'Urawa Red Diamonds',\n",
       "       'Gamba Osaka', 'Al-Shabab Club (Riyadh)', 'Ettifaq FC',\n",
       "       'Al-Taawoun FC', 'Al-Wehda FC', 'Damac FC', 'Al-Tai',\n",
       "       'Al-Fayha FC', 'Abha Club', 'Al-Khaleej', 'Al-Raed SFC',\n",
       "       'Al-Batin FC', 'Al-Adalah FC', 'Al-Ittihad Club (Jeddah)',\n",
       "       'Al-Fateh SC', 'Al-Hilal Saudi FC', 'Al-Nassr FC',\n",
       "       'Suwon Samsung Bluewings', 'Jeju United', 'Incheon United',\n",
       "       'Gangwon FC', 'Daejeon Hana Citizen', 'Gwangju FC', 'Daegu FC',\n",
       "       'Suwon FC', 'Pohang Steelers', 'FC Seoul',\n",
       "       'Jeonbuk Hyundai Motors', 'Ulsan Hyundai', 'Sekhukhune United FC',\n",
       "       'AmaZulu FC', 'Lamontville Golden Arrows', 'Stellenbosch FC',\n",
       "       'Swallows FC', 'Maritzburg United FC', 'Royal AM FC',\n",
       "       'TS Galaxy FC', 'Richards Bay FC', 'Marumo Gallants FC',\n",
       "       'Cape Town City FC', 'Orlando Pirates', 'SuperSport United',\n",
       "       'Chippa United', 'Mamelodi Sundowns FC', 'Kaizer Chiefs',\n",
       "       'Melbourne Victory', 'Western United FC', 'Newcastle United Jets',\n",
       "       'Perth Glory', 'Macarthur FC', 'Brisbane Roar',\n",
       "       'Central Coast Mariners', 'Wellington Phoenix',\n",
       "       'Melbourne City FC', 'Sydney FC', 'Adelaide United',\n",
       "       'Western Sydney Wanderers'], dtype=object)"
      ]
     },
     "execution_count": 98,
     "metadata": {},
     "output_type": "execute_result"
    }
   ],
   "source": [
    "df_football['team'].unique()"
   ]
  },
  {
   "cell_type": "code",
   "execution_count": 99,
   "id": "295c108c-6a92-4ece-9ac4-25624caa523b",
   "metadata": {},
   "outputs": [
    {
     "data": {
      "text/plain": [
       "array(['Goalkeeper', 'Defender Centre-Back', 'Defender Left-Back',\n",
       "       'Defender Right-Back', 'midfield-DefensiveMidfield',\n",
       "       'midfield-CentralMidfield', 'midfield-AttackingMidfield',\n",
       "       'Attack-LeftWinger', 'Attack-RightWinger', 'Attack Centre-Forward',\n",
       "       'midfield-RightMidfield', 'midfield-LeftMidfield',\n",
       "       'Attack-SecondStriker', 'midfield', 'Attack', 'Defender'],\n",
       "      dtype=object)"
      ]
     },
     "execution_count": 99,
     "metadata": {},
     "output_type": "execute_result"
    }
   ],
   "source": [
    "df_football['position'].unique()"
   ]
  },
  {
   "cell_type": "code",
   "execution_count": 100,
   "id": "97ceed20-9499-4c48-94d2-9051ea81006b",
   "metadata": {},
   "outputs": [
    {
     "data": {
      "text/plain": [
       "16"
      ]
     },
     "execution_count": 100,
     "metadata": {},
     "output_type": "execute_result"
    }
   ],
   "source": [
    "len(df_football['position'].unique())"
   ]
  },
  {
   "cell_type": "code",
   "execution_count": 101,
   "id": "ee4faf61-37c5-4138-8d8d-622809a163f1",
   "metadata": {},
   "outputs": [
    {
     "data": {
      "text/plain": [
       "array([189.       , 196.       , 188.       , 175.       , 191.       ,\n",
       "       194.       , 187.       , 185.       , 186.       , 178.       ,\n",
       "       169.       , 180.       , 183.       , 182.       , 177.       ,\n",
       "       184.       , 181.       , 179.       , 172.       , 174.       ,\n",
       "       197.       , 195.       , 190.       , 176.       , 170.       ,\n",
       "       192.       , 167.       , 198.       , 199.       , 193.       ,\n",
       "       165.       , 200.       , 173.       , 163.       , 171.       ,\n",
       "       168.       , 166.       , 202.       , 181.2403529, 164.       ,\n",
       "       206.       , 160.       , 204.       , 156.       , 162.       ,\n",
       "       159.       , 161.       ])"
      ]
     },
     "execution_count": 101,
     "metadata": {},
     "output_type": "execute_result"
    }
   ],
   "source": [
    "df_football['height'].unique()"
   ]
  },
  {
   "cell_type": "code",
   "execution_count": 102,
   "id": "094e5acf-10e1-4327-83d9-a0d7eb2799ba",
   "metadata": {},
   "outputs": [
    {
     "data": {
      "text/html": [
       "<div>\n",
       "<style scoped>\n",
       "    .dataframe tbody tr th:only-of-type {\n",
       "        vertical-align: middle;\n",
       "    }\n",
       "\n",
       "    .dataframe tbody tr th {\n",
       "        vertical-align: top;\n",
       "    }\n",
       "\n",
       "    .dataframe thead th {\n",
       "        text-align: right;\n",
       "    }\n",
       "</style>\n",
       "<table border=\"1\" class=\"dataframe\">\n",
       "  <thead>\n",
       "    <tr style=\"text-align: right;\">\n",
       "      <th></th>\n",
       "      <th>player</th>\n",
       "      <th>team</th>\n",
       "      <th>name</th>\n",
       "      <th>position</th>\n",
       "      <th>height</th>\n",
       "      <th>age</th>\n",
       "      <th>appearance</th>\n",
       "      <th>goals</th>\n",
       "      <th>assists</th>\n",
       "      <th>yellow cards</th>\n",
       "      <th>...</th>\n",
       "      <th>goals conceded</th>\n",
       "      <th>clean sheets</th>\n",
       "      <th>minutes played</th>\n",
       "      <th>days_injured</th>\n",
       "      <th>games_injured</th>\n",
       "      <th>award</th>\n",
       "      <th>current_value</th>\n",
       "      <th>highest_value</th>\n",
       "      <th>position_encoded</th>\n",
       "      <th>winger</th>\n",
       "    </tr>\n",
       "  </thead>\n",
       "  <tbody>\n",
       "    <tr>\n",
       "      <th>1656</th>\n",
       "      <td>/vanja-milinkovi%C4%87-savi%C4%87/profil/spiel...</td>\n",
       "      <td>Torino FC</td>\n",
       "      <td>Vanja Milinković-Savić</td>\n",
       "      <td>Goalkeeper</td>\n",
       "      <td>202.0</td>\n",
       "      <td>26.0</td>\n",
       "      <td>70</td>\n",
       "      <td>0.000000</td>\n",
       "      <td>0.0</td>\n",
       "      <td>0.113208</td>\n",
       "      <td>...</td>\n",
       "      <td>1.075472</td>\n",
       "      <td>0.268868</td>\n",
       "      <td>6360</td>\n",
       "      <td>63</td>\n",
       "      <td>15</td>\n",
       "      <td>2</td>\n",
       "      <td>3500000</td>\n",
       "      <td>4500000</td>\n",
       "      <td>1</td>\n",
       "      <td>0</td>\n",
       "    </tr>\n",
       "    <tr>\n",
       "      <th>2439</th>\n",
       "      <td>/isaak-toure/profil/spieler/708678</td>\n",
       "      <td>AJ Auxerre</td>\n",
       "      <td>Isaak Touré</td>\n",
       "      <td>Defender Centre-Back</td>\n",
       "      <td>206.0</td>\n",
       "      <td>20.0</td>\n",
       "      <td>42</td>\n",
       "      <td>0.032597</td>\n",
       "      <td>0.0</td>\n",
       "      <td>0.260775</td>\n",
       "      <td>...</td>\n",
       "      <td>0.000000</td>\n",
       "      <td>0.000000</td>\n",
       "      <td>2761</td>\n",
       "      <td>129</td>\n",
       "      <td>1</td>\n",
       "      <td>0</td>\n",
       "      <td>5000000</td>\n",
       "      <td>5000000</td>\n",
       "      <td>2</td>\n",
       "      <td>0</td>\n",
       "    </tr>\n",
       "    <tr>\n",
       "      <th>2700</th>\n",
       "      <td>/kjell-scherpen/profil/spieler/463527</td>\n",
       "      <td>Vitesse Arnhem</td>\n",
       "      <td>Kjell Scherpen</td>\n",
       "      <td>Goalkeeper</td>\n",
       "      <td>206.0</td>\n",
       "      <td>23.0</td>\n",
       "      <td>39</td>\n",
       "      <td>0.000000</td>\n",
       "      <td>0.0</td>\n",
       "      <td>0.000000</td>\n",
       "      <td>...</td>\n",
       "      <td>1.288291</td>\n",
       "      <td>0.283424</td>\n",
       "      <td>3493</td>\n",
       "      <td>78</td>\n",
       "      <td>9</td>\n",
       "      <td>2</td>\n",
       "      <td>2000000</td>\n",
       "      <td>2800000</td>\n",
       "      <td>1</td>\n",
       "      <td>0</td>\n",
       "    </tr>\n",
       "    <tr>\n",
       "      <th>3039</th>\n",
       "      <td>/andries-noppert/profil/spieler/276853</td>\n",
       "      <td>SC Heerenveen</td>\n",
       "      <td>Andries Noppert</td>\n",
       "      <td>Goalkeeper</td>\n",
       "      <td>202.0</td>\n",
       "      <td>29.0</td>\n",
       "      <td>40</td>\n",
       "      <td>0.000000</td>\n",
       "      <td>0.0</td>\n",
       "      <td>0.025000</td>\n",
       "      <td>...</td>\n",
       "      <td>1.100000</td>\n",
       "      <td>0.375000</td>\n",
       "      <td>3600</td>\n",
       "      <td>507</td>\n",
       "      <td>27</td>\n",
       "      <td>0</td>\n",
       "      <td>5000000</td>\n",
       "      <td>5000000</td>\n",
       "      <td>1</td>\n",
       "      <td>0</td>\n",
       "    </tr>\n",
       "    <tr>\n",
       "      <th>3770</th>\n",
       "      <td>/carlos-miguel/profil/spieler/641458</td>\n",
       "      <td>Sport Club Corinthians Paulista</td>\n",
       "      <td>Carlos Miguel</td>\n",
       "      <td>Goalkeeper</td>\n",
       "      <td>204.0</td>\n",
       "      <td>24.0</td>\n",
       "      <td>0</td>\n",
       "      <td>0.000000</td>\n",
       "      <td>0.0</td>\n",
       "      <td>0.000000</td>\n",
       "      <td>...</td>\n",
       "      <td>0.000000</td>\n",
       "      <td>0.000000</td>\n",
       "      <td>0</td>\n",
       "      <td>0</td>\n",
       "      <td>0</td>\n",
       "      <td>0</td>\n",
       "      <td>1000000</td>\n",
       "      <td>1000000</td>\n",
       "      <td>1</td>\n",
       "      <td>0</td>\n",
       "    </tr>\n",
       "    <tr>\n",
       "      <th>5031</th>\n",
       "      <td>/stefan-sapic/profil/spieler/429243</td>\n",
       "      <td>Torpedo Moscow</td>\n",
       "      <td>Stefan Sapic</td>\n",
       "      <td>Defender Centre-Back</td>\n",
       "      <td>202.0</td>\n",
       "      <td>26.0</td>\n",
       "      <td>45</td>\n",
       "      <td>0.049628</td>\n",
       "      <td>0.0</td>\n",
       "      <td>0.248139</td>\n",
       "      <td>...</td>\n",
       "      <td>0.000000</td>\n",
       "      <td>0.000000</td>\n",
       "      <td>3627</td>\n",
       "      <td>0</td>\n",
       "      <td>0</td>\n",
       "      <td>0</td>\n",
       "      <td>500000</td>\n",
       "      <td>1600000</td>\n",
       "      <td>2</td>\n",
       "      <td>0</td>\n",
       "    </tr>\n",
       "    <tr>\n",
       "      <th>6394</th>\n",
       "      <td>/pape-alioune-ndiaye/profil/spieler/433219</td>\n",
       "      <td>SCR Altach</td>\n",
       "      <td>Pape-Alioune Ndiaye</td>\n",
       "      <td>Defender Centre-Back</td>\n",
       "      <td>202.0</td>\n",
       "      <td>25.0</td>\n",
       "      <td>39</td>\n",
       "      <td>0.000000</td>\n",
       "      <td>0.0</td>\n",
       "      <td>0.206287</td>\n",
       "      <td>...</td>\n",
       "      <td>0.000000</td>\n",
       "      <td>0.000000</td>\n",
       "      <td>3054</td>\n",
       "      <td>20</td>\n",
       "      <td>2</td>\n",
       "      <td>0</td>\n",
       "      <td>250000</td>\n",
       "      <td>900000</td>\n",
       "      <td>2</td>\n",
       "      <td>0</td>\n",
       "    </tr>\n",
       "    <tr>\n",
       "      <th>6884</th>\n",
       "      <td>/matthew-nocita/profil/spieler/972457</td>\n",
       "      <td>New York Red Bulls</td>\n",
       "      <td>Matthew Nocita</td>\n",
       "      <td>Defender Centre-Back</td>\n",
       "      <td>202.0</td>\n",
       "      <td>23.0</td>\n",
       "      <td>3</td>\n",
       "      <td>0.000000</td>\n",
       "      <td>0.0</td>\n",
       "      <td>0.407240</td>\n",
       "      <td>...</td>\n",
       "      <td>0.000000</td>\n",
       "      <td>0.000000</td>\n",
       "      <td>221</td>\n",
       "      <td>0</td>\n",
       "      <td>0</td>\n",
       "      <td>0</td>\n",
       "      <td>100000</td>\n",
       "      <td>100000</td>\n",
       "      <td>2</td>\n",
       "      <td>0</td>\n",
       "    </tr>\n",
       "    <tr>\n",
       "      <th>9472</th>\n",
       "      <td>/fejsal-mulic/profil/spieler/226194</td>\n",
       "      <td>Suwon Samsung Bluewings</td>\n",
       "      <td>Fejsal Mulic</td>\n",
       "      <td>Attack Centre-Forward</td>\n",
       "      <td>202.0</td>\n",
       "      <td>28.0</td>\n",
       "      <td>7</td>\n",
       "      <td>0.300000</td>\n",
       "      <td>0.0</td>\n",
       "      <td>0.300000</td>\n",
       "      <td>...</td>\n",
       "      <td>0.000000</td>\n",
       "      <td>0.000000</td>\n",
       "      <td>300</td>\n",
       "      <td>205</td>\n",
       "      <td>24</td>\n",
       "      <td>0</td>\n",
       "      <td>700000</td>\n",
       "      <td>750000</td>\n",
       "      <td>4</td>\n",
       "      <td>0</td>\n",
       "    </tr>\n",
       "  </tbody>\n",
       "</table>\n",
       "<p>9 rows × 22 columns</p>\n",
       "</div>"
      ],
      "text/plain": [
       "                                                 player  \\\n",
       "1656  /vanja-milinkovi%C4%87-savi%C4%87/profil/spiel...   \n",
       "2439                 /isaak-toure/profil/spieler/708678   \n",
       "2700              /kjell-scherpen/profil/spieler/463527   \n",
       "3039             /andries-noppert/profil/spieler/276853   \n",
       "3770               /carlos-miguel/profil/spieler/641458   \n",
       "5031                /stefan-sapic/profil/spieler/429243   \n",
       "6394         /pape-alioune-ndiaye/profil/spieler/433219   \n",
       "6884              /matthew-nocita/profil/spieler/972457   \n",
       "9472                /fejsal-mulic/profil/spieler/226194   \n",
       "\n",
       "                                 team                    name  \\\n",
       "1656                        Torino FC  Vanja Milinković-Savić   \n",
       "2439                       AJ Auxerre             Isaak Touré   \n",
       "2700                   Vitesse Arnhem          Kjell Scherpen   \n",
       "3039                    SC Heerenveen         Andries Noppert   \n",
       "3770  Sport Club Corinthians Paulista           Carlos Miguel   \n",
       "5031                   Torpedo Moscow            Stefan Sapic   \n",
       "6394                       SCR Altach     Pape-Alioune Ndiaye   \n",
       "6884               New York Red Bulls          Matthew Nocita   \n",
       "9472          Suwon Samsung Bluewings            Fejsal Mulic   \n",
       "\n",
       "                   position  height   age  appearance     goals  assists  \\\n",
       "1656             Goalkeeper   202.0  26.0          70  0.000000      0.0   \n",
       "2439   Defender Centre-Back   206.0  20.0          42  0.032597      0.0   \n",
       "2700             Goalkeeper   206.0  23.0          39  0.000000      0.0   \n",
       "3039             Goalkeeper   202.0  29.0          40  0.000000      0.0   \n",
       "3770             Goalkeeper   204.0  24.0           0  0.000000      0.0   \n",
       "5031   Defender Centre-Back   202.0  26.0          45  0.049628      0.0   \n",
       "6394   Defender Centre-Back   202.0  25.0          39  0.000000      0.0   \n",
       "6884   Defender Centre-Back   202.0  23.0           3  0.000000      0.0   \n",
       "9472  Attack Centre-Forward   202.0  28.0           7  0.300000      0.0   \n",
       "\n",
       "      yellow cards  ...  goals conceded  clean sheets  minutes played  \\\n",
       "1656      0.113208  ...        1.075472      0.268868            6360   \n",
       "2439      0.260775  ...        0.000000      0.000000            2761   \n",
       "2700      0.000000  ...        1.288291      0.283424            3493   \n",
       "3039      0.025000  ...        1.100000      0.375000            3600   \n",
       "3770      0.000000  ...        0.000000      0.000000               0   \n",
       "5031      0.248139  ...        0.000000      0.000000            3627   \n",
       "6394      0.206287  ...        0.000000      0.000000            3054   \n",
       "6884      0.407240  ...        0.000000      0.000000             221   \n",
       "9472      0.300000  ...        0.000000      0.000000             300   \n",
       "\n",
       "      days_injured  games_injured  award  current_value  highest_value  \\\n",
       "1656            63             15      2        3500000        4500000   \n",
       "2439           129              1      0        5000000        5000000   \n",
       "2700            78              9      2        2000000        2800000   \n",
       "3039           507             27      0        5000000        5000000   \n",
       "3770             0              0      0        1000000        1000000   \n",
       "5031             0              0      0         500000        1600000   \n",
       "6394            20              2      0         250000         900000   \n",
       "6884             0              0      0         100000         100000   \n",
       "9472           205             24      0         700000         750000   \n",
       "\n",
       "      position_encoded  winger  \n",
       "1656                 1       0  \n",
       "2439                 2       0  \n",
       "2700                 1       0  \n",
       "3039                 1       0  \n",
       "3770                 1       0  \n",
       "5031                 2       0  \n",
       "6394                 2       0  \n",
       "6884                 2       0  \n",
       "9472                 4       0  \n",
       "\n",
       "[9 rows x 22 columns]"
      ]
     },
     "execution_count": 102,
     "metadata": {},
     "output_type": "execute_result"
    }
   ],
   "source": [
    "df_football[df_football['height'] > 200]"
   ]
  },
  {
   "cell_type": "code",
   "execution_count": 103,
   "id": "d06e5f21-a399-4a94-980b-2ef5e722bbd6",
   "metadata": {},
   "outputs": [
    {
     "data": {
      "text/plain": [
       "array([32.        , 30.        , 37.        , 25.        , 28.        ,\n",
       "       31.        , 21.        , 27.        , 23.        , 22.        ,\n",
       "       24.        , 26.        , 29.        , 20.        , 18.        ,\n",
       "       38.        , 35.        , 33.        , 36.        , 19.        ,\n",
       "       34.        , 41.        , 39.        , 17.        , 40.        ,\n",
       "       42.        , 16.        , 15.        , 43.        , 26.04190334])"
      ]
     },
     "execution_count": 103,
     "metadata": {},
     "output_type": "execute_result"
    }
   ],
   "source": [
    "df_football['age'].unique()"
   ]
  },
  {
   "cell_type": "code",
   "execution_count": 104,
   "id": "8cb7ba5a-3f21-43c9-8a41-a189cbb652d4",
   "metadata": {},
   "outputs": [
    {
     "data": {
      "text/html": [
       "<div>\n",
       "<style scoped>\n",
       "    .dataframe tbody tr th:only-of-type {\n",
       "        vertical-align: middle;\n",
       "    }\n",
       "\n",
       "    .dataframe tbody tr th {\n",
       "        vertical-align: top;\n",
       "    }\n",
       "\n",
       "    .dataframe thead th {\n",
       "        text-align: right;\n",
       "    }\n",
       "</style>\n",
       "<table border=\"1\" class=\"dataframe\">\n",
       "  <thead>\n",
       "    <tr style=\"text-align: right;\">\n",
       "      <th></th>\n",
       "      <th>player</th>\n",
       "      <th>team</th>\n",
       "      <th>name</th>\n",
       "      <th>position</th>\n",
       "      <th>height</th>\n",
       "      <th>age</th>\n",
       "      <th>appearance</th>\n",
       "      <th>goals</th>\n",
       "      <th>assists</th>\n",
       "      <th>yellow cards</th>\n",
       "      <th>...</th>\n",
       "      <th>goals conceded</th>\n",
       "      <th>clean sheets</th>\n",
       "      <th>minutes played</th>\n",
       "      <th>days_injured</th>\n",
       "      <th>games_injured</th>\n",
       "      <th>award</th>\n",
       "      <th>current_value</th>\n",
       "      <th>highest_value</th>\n",
       "      <th>position_encoded</th>\n",
       "      <th>winger</th>\n",
       "    </tr>\n",
       "  </thead>\n",
       "  <tbody>\n",
       "    <tr>\n",
       "      <th>9165</th>\n",
       "      <td>/abdulrahman-al-alawi/profil/spieler/1128315</td>\n",
       "      <td>Abha Club</td>\n",
       "      <td>Abdulrahman Al-Alawi</td>\n",
       "      <td>midfield</td>\n",
       "      <td>181.240353</td>\n",
       "      <td>26.041903</td>\n",
       "      <td>1</td>\n",
       "      <td>0.000000</td>\n",
       "      <td>0.000000</td>\n",
       "      <td>0.000000</td>\n",
       "      <td>...</td>\n",
       "      <td>0.0</td>\n",
       "      <td>0.0</td>\n",
       "      <td>11</td>\n",
       "      <td>0</td>\n",
       "      <td>0</td>\n",
       "      <td>0</td>\n",
       "      <td>25000</td>\n",
       "      <td>25000</td>\n",
       "      <td>3</td>\n",
       "      <td>0</td>\n",
       "    </tr>\n",
       "    <tr>\n",
       "      <th>9209</th>\n",
       "      <td>/mohammed-al-abdullah/profil/spieler/1127314</td>\n",
       "      <td>Al-Khaleej</td>\n",
       "      <td>Mohammed Al-Abdullah</td>\n",
       "      <td>midfield-AttackingMidfield</td>\n",
       "      <td>171.000000</td>\n",
       "      <td>26.041903</td>\n",
       "      <td>0</td>\n",
       "      <td>0.000000</td>\n",
       "      <td>0.000000</td>\n",
       "      <td>0.000000</td>\n",
       "      <td>...</td>\n",
       "      <td>0.0</td>\n",
       "      <td>0.0</td>\n",
       "      <td>0</td>\n",
       "      <td>0</td>\n",
       "      <td>0</td>\n",
       "      <td>0</td>\n",
       "      <td>0</td>\n",
       "      <td>0</td>\n",
       "      <td>3</td>\n",
       "      <td>0</td>\n",
       "    </tr>\n",
       "    <tr>\n",
       "      <th>9280</th>\n",
       "      <td>/yousef-fawaz/profil/spieler/1021254</td>\n",
       "      <td>Al-Batin FC</td>\n",
       "      <td>Yousef Fawaz</td>\n",
       "      <td>Attack</td>\n",
       "      <td>181.240353</td>\n",
       "      <td>26.041903</td>\n",
       "      <td>25</td>\n",
       "      <td>0.239362</td>\n",
       "      <td>0.059840</td>\n",
       "      <td>0.239362</td>\n",
       "      <td>...</td>\n",
       "      <td>0.0</td>\n",
       "      <td>0.0</td>\n",
       "      <td>1504</td>\n",
       "      <td>0</td>\n",
       "      <td>0</td>\n",
       "      <td>0</td>\n",
       "      <td>125000</td>\n",
       "      <td>125000</td>\n",
       "      <td>4</td>\n",
       "      <td>0</td>\n",
       "    </tr>\n",
       "    <tr>\n",
       "      <th>9324</th>\n",
       "      <td>/al-baraa-adawi/profil/spieler/1120494</td>\n",
       "      <td>Al-Ittihad Club (Jeddah)</td>\n",
       "      <td>Al-Baraa Adawi</td>\n",
       "      <td>Defender</td>\n",
       "      <td>181.240353</td>\n",
       "      <td>26.041903</td>\n",
       "      <td>0</td>\n",
       "      <td>0.000000</td>\n",
       "      <td>0.000000</td>\n",
       "      <td>0.000000</td>\n",
       "      <td>...</td>\n",
       "      <td>0.0</td>\n",
       "      <td>0.0</td>\n",
       "      <td>0</td>\n",
       "      <td>0</td>\n",
       "      <td>0</td>\n",
       "      <td>1</td>\n",
       "      <td>25000</td>\n",
       "      <td>25000</td>\n",
       "      <td>2</td>\n",
       "      <td>0</td>\n",
       "    </tr>\n",
       "    <tr>\n",
       "      <th>10026</th>\n",
       "      <td>/buhle-thompson/profil/spieler/844592</td>\n",
       "      <td>Swallows FC</td>\n",
       "      <td>Buhle Thompson</td>\n",
       "      <td>Goalkeeper</td>\n",
       "      <td>181.240353</td>\n",
       "      <td>26.041903</td>\n",
       "      <td>0</td>\n",
       "      <td>0.000000</td>\n",
       "      <td>0.000000</td>\n",
       "      <td>0.000000</td>\n",
       "      <td>...</td>\n",
       "      <td>0.0</td>\n",
       "      <td>0.0</td>\n",
       "      <td>0</td>\n",
       "      <td>0</td>\n",
       "      <td>0</td>\n",
       "      <td>0</td>\n",
       "      <td>25000</td>\n",
       "      <td>25000</td>\n",
       "      <td>1</td>\n",
       "      <td>0</td>\n",
       "    </tr>\n",
       "    <tr>\n",
       "      <th>10042</th>\n",
       "      <td>/thandolwethu-ngwenya/profil/spieler/1101074</td>\n",
       "      <td>Swallows FC</td>\n",
       "      <td>Thandolwethu Ngwenya</td>\n",
       "      <td>midfield-DefensiveMidfield</td>\n",
       "      <td>181.240353</td>\n",
       "      <td>26.041903</td>\n",
       "      <td>0</td>\n",
       "      <td>0.000000</td>\n",
       "      <td>0.000000</td>\n",
       "      <td>0.000000</td>\n",
       "      <td>...</td>\n",
       "      <td>0.0</td>\n",
       "      <td>0.0</td>\n",
       "      <td>0</td>\n",
       "      <td>0</td>\n",
       "      <td>0</td>\n",
       "      <td>0</td>\n",
       "      <td>25000</td>\n",
       "      <td>25000</td>\n",
       "      <td>3</td>\n",
       "      <td>0</td>\n",
       "    </tr>\n",
       "    <tr>\n",
       "      <th>10046</th>\n",
       "      <td>/sphesihle-mbhele/profil/spieler/968494</td>\n",
       "      <td>Swallows FC</td>\n",
       "      <td>Sphesihle Mbhele</td>\n",
       "      <td>midfield-AttackingMidfield</td>\n",
       "      <td>181.240353</td>\n",
       "      <td>26.041903</td>\n",
       "      <td>9</td>\n",
       "      <td>0.000000</td>\n",
       "      <td>0.514286</td>\n",
       "      <td>0.514286</td>\n",
       "      <td>...</td>\n",
       "      <td>0.0</td>\n",
       "      <td>0.0</td>\n",
       "      <td>175</td>\n",
       "      <td>0</td>\n",
       "      <td>0</td>\n",
       "      <td>0</td>\n",
       "      <td>25000</td>\n",
       "      <td>50000</td>\n",
       "      <td>3</td>\n",
       "      <td>0</td>\n",
       "    </tr>\n",
       "    <tr>\n",
       "      <th>10053</th>\n",
       "      <td>/phelelani-mvelase/profil/spieler/1003543</td>\n",
       "      <td>Swallows FC</td>\n",
       "      <td>Phelelani Mvelase</td>\n",
       "      <td>Attack-RightWinger</td>\n",
       "      <td>181.240353</td>\n",
       "      <td>26.041903</td>\n",
       "      <td>6</td>\n",
       "      <td>0.000000</td>\n",
       "      <td>0.000000</td>\n",
       "      <td>0.000000</td>\n",
       "      <td>...</td>\n",
       "      <td>0.0</td>\n",
       "      <td>0.0</td>\n",
       "      <td>159</td>\n",
       "      <td>0</td>\n",
       "      <td>0</td>\n",
       "      <td>0</td>\n",
       "      <td>75000</td>\n",
       "      <td>75000</td>\n",
       "      <td>4</td>\n",
       "      <td>1</td>\n",
       "    </tr>\n",
       "    <tr>\n",
       "      <th>10128</th>\n",
       "      <td>/khetukuthula-ndlovu/profil/spieler/495303</td>\n",
       "      <td>Royal AM FC</td>\n",
       "      <td>Khetukuthula Ndlovu</td>\n",
       "      <td>Attack-LeftWinger</td>\n",
       "      <td>181.240353</td>\n",
       "      <td>26.041903</td>\n",
       "      <td>32</td>\n",
       "      <td>0.000000</td>\n",
       "      <td>0.000000</td>\n",
       "      <td>0.176817</td>\n",
       "      <td>...</td>\n",
       "      <td>0.0</td>\n",
       "      <td>0.0</td>\n",
       "      <td>1527</td>\n",
       "      <td>0</td>\n",
       "      <td>0</td>\n",
       "      <td>0</td>\n",
       "      <td>75000</td>\n",
       "      <td>75000</td>\n",
       "      <td>4</td>\n",
       "      <td>1</td>\n",
       "    </tr>\n",
       "    <tr>\n",
       "      <th>10162</th>\n",
       "      <td>/kamogelo-sebelebele/profil/spieler/994370</td>\n",
       "      <td>TS Galaxy FC</td>\n",
       "      <td>Kamogelo Sebelebele</td>\n",
       "      <td>Attack-RightWinger</td>\n",
       "      <td>181.240353</td>\n",
       "      <td>26.041903</td>\n",
       "      <td>32</td>\n",
       "      <td>0.125261</td>\n",
       "      <td>0.187891</td>\n",
       "      <td>0.313152</td>\n",
       "      <td>...</td>\n",
       "      <td>0.0</td>\n",
       "      <td>0.0</td>\n",
       "      <td>1437</td>\n",
       "      <td>0</td>\n",
       "      <td>0</td>\n",
       "      <td>0</td>\n",
       "      <td>50000</td>\n",
       "      <td>75000</td>\n",
       "      <td>4</td>\n",
       "      <td>1</td>\n",
       "    </tr>\n",
       "    <tr>\n",
       "      <th>10213</th>\n",
       "      <td>/sven-yidah/profil/spieler/735323</td>\n",
       "      <td>Marumo Gallants FC</td>\n",
       "      <td>Sven Yidah</td>\n",
       "      <td>midfield-DefensiveMidfield</td>\n",
       "      <td>181.240353</td>\n",
       "      <td>26.041903</td>\n",
       "      <td>3</td>\n",
       "      <td>0.000000</td>\n",
       "      <td>0.000000</td>\n",
       "      <td>0.000000</td>\n",
       "      <td>...</td>\n",
       "      <td>0.0</td>\n",
       "      <td>0.0</td>\n",
       "      <td>144</td>\n",
       "      <td>0</td>\n",
       "      <td>0</td>\n",
       "      <td>0</td>\n",
       "      <td>25000</td>\n",
       "      <td>25000</td>\n",
       "      <td>3</td>\n",
       "      <td>0</td>\n",
       "    </tr>\n",
       "    <tr>\n",
       "      <th>10218</th>\n",
       "      <td>/koketso-more/profil/spieler/1028395</td>\n",
       "      <td>Marumo Gallants FC</td>\n",
       "      <td>Koketso More</td>\n",
       "      <td>midfield-CentralMidfield</td>\n",
       "      <td>181.240353</td>\n",
       "      <td>26.041903</td>\n",
       "      <td>0</td>\n",
       "      <td>0.000000</td>\n",
       "      <td>0.000000</td>\n",
       "      <td>0.000000</td>\n",
       "      <td>...</td>\n",
       "      <td>0.0</td>\n",
       "      <td>0.0</td>\n",
       "      <td>0</td>\n",
       "      <td>0</td>\n",
       "      <td>0</td>\n",
       "      <td>0</td>\n",
       "      <td>25000</td>\n",
       "      <td>25000</td>\n",
       "      <td>3</td>\n",
       "      <td>0</td>\n",
       "    </tr>\n",
       "    <tr>\n",
       "      <th>10291</th>\n",
       "      <td>/relebohile-ratomo/profil/spieler/1125037</td>\n",
       "      <td>Orlando Pirates</td>\n",
       "      <td>Relebohile Ratomo</td>\n",
       "      <td>Attack-SecondStriker</td>\n",
       "      <td>181.240353</td>\n",
       "      <td>26.041903</td>\n",
       "      <td>2</td>\n",
       "      <td>0.500000</td>\n",
       "      <td>0.500000</td>\n",
       "      <td>0.000000</td>\n",
       "      <td>...</td>\n",
       "      <td>0.0</td>\n",
       "      <td>0.0</td>\n",
       "      <td>180</td>\n",
       "      <td>0</td>\n",
       "      <td>0</td>\n",
       "      <td>0</td>\n",
       "      <td>100000</td>\n",
       "      <td>100000</td>\n",
       "      <td>4</td>\n",
       "      <td>0</td>\n",
       "    </tr>\n",
       "    <tr>\n",
       "      <th>10574</th>\n",
       "      <td>/cardiff-pond/profil/spieler/1069564</td>\n",
       "      <td>Brisbane Roar</td>\n",
       "      <td>Cardiff Pond</td>\n",
       "      <td>Goalkeeper</td>\n",
       "      <td>181.240353</td>\n",
       "      <td>26.041903</td>\n",
       "      <td>0</td>\n",
       "      <td>0.000000</td>\n",
       "      <td>0.000000</td>\n",
       "      <td>0.000000</td>\n",
       "      <td>...</td>\n",
       "      <td>0.0</td>\n",
       "      <td>0.0</td>\n",
       "      <td>0</td>\n",
       "      <td>0</td>\n",
       "      <td>0</td>\n",
       "      <td>0</td>\n",
       "      <td>0</td>\n",
       "      <td>0</td>\n",
       "      <td>1</td>\n",
       "      <td>0</td>\n",
       "    </tr>\n",
       "    <tr>\n",
       "      <th>10587</th>\n",
       "      <td>/riley-gill/profil/spieler/1069561</td>\n",
       "      <td>Brisbane Roar</td>\n",
       "      <td>Riley Gill</td>\n",
       "      <td>midfield</td>\n",
       "      <td>181.240353</td>\n",
       "      <td>26.041903</td>\n",
       "      <td>0</td>\n",
       "      <td>0.000000</td>\n",
       "      <td>0.000000</td>\n",
       "      <td>0.000000</td>\n",
       "      <td>...</td>\n",
       "      <td>0.0</td>\n",
       "      <td>0.0</td>\n",
       "      <td>0</td>\n",
       "      <td>0</td>\n",
       "      <td>0</td>\n",
       "      <td>0</td>\n",
       "      <td>0</td>\n",
       "      <td>0</td>\n",
       "      <td>3</td>\n",
       "      <td>0</td>\n",
       "    </tr>\n",
       "  </tbody>\n",
       "</table>\n",
       "<p>15 rows × 22 columns</p>\n",
       "</div>"
      ],
      "text/plain": [
       "                                             player                      team  \\\n",
       "9165   /abdulrahman-al-alawi/profil/spieler/1128315                 Abha Club   \n",
       "9209   /mohammed-al-abdullah/profil/spieler/1127314                Al-Khaleej   \n",
       "9280           /yousef-fawaz/profil/spieler/1021254               Al-Batin FC   \n",
       "9324         /al-baraa-adawi/profil/spieler/1120494  Al-Ittihad Club (Jeddah)   \n",
       "10026         /buhle-thompson/profil/spieler/844592               Swallows FC   \n",
       "10042  /thandolwethu-ngwenya/profil/spieler/1101074               Swallows FC   \n",
       "10046       /sphesihle-mbhele/profil/spieler/968494               Swallows FC   \n",
       "10053     /phelelani-mvelase/profil/spieler/1003543               Swallows FC   \n",
       "10128    /khetukuthula-ndlovu/profil/spieler/495303               Royal AM FC   \n",
       "10162    /kamogelo-sebelebele/profil/spieler/994370              TS Galaxy FC   \n",
       "10213             /sven-yidah/profil/spieler/735323        Marumo Gallants FC   \n",
       "10218          /koketso-more/profil/spieler/1028395        Marumo Gallants FC   \n",
       "10291     /relebohile-ratomo/profil/spieler/1125037           Orlando Pirates   \n",
       "10574          /cardiff-pond/profil/spieler/1069564             Brisbane Roar   \n",
       "10587            /riley-gill/profil/spieler/1069561             Brisbane Roar   \n",
       "\n",
       "                       name                    position      height  \\\n",
       "9165   Abdulrahman Al-Alawi                    midfield  181.240353   \n",
       "9209   Mohammed Al-Abdullah  midfield-AttackingMidfield  171.000000   \n",
       "9280           Yousef Fawaz                      Attack  181.240353   \n",
       "9324         Al-Baraa Adawi                    Defender  181.240353   \n",
       "10026        Buhle Thompson                  Goalkeeper  181.240353   \n",
       "10042  Thandolwethu Ngwenya  midfield-DefensiveMidfield  181.240353   \n",
       "10046      Sphesihle Mbhele  midfield-AttackingMidfield  181.240353   \n",
       "10053     Phelelani Mvelase          Attack-RightWinger  181.240353   \n",
       "10128   Khetukuthula Ndlovu           Attack-LeftWinger  181.240353   \n",
       "10162   Kamogelo Sebelebele          Attack-RightWinger  181.240353   \n",
       "10213            Sven Yidah  midfield-DefensiveMidfield  181.240353   \n",
       "10218          Koketso More    midfield-CentralMidfield  181.240353   \n",
       "10291     Relebohile Ratomo        Attack-SecondStriker  181.240353   \n",
       "10574          Cardiff Pond                  Goalkeeper  181.240353   \n",
       "10587            Riley Gill                    midfield  181.240353   \n",
       "\n",
       "             age  appearance     goals   assists  yellow cards  ...  \\\n",
       "9165   26.041903           1  0.000000  0.000000      0.000000  ...   \n",
       "9209   26.041903           0  0.000000  0.000000      0.000000  ...   \n",
       "9280   26.041903          25  0.239362  0.059840      0.239362  ...   \n",
       "9324   26.041903           0  0.000000  0.000000      0.000000  ...   \n",
       "10026  26.041903           0  0.000000  0.000000      0.000000  ...   \n",
       "10042  26.041903           0  0.000000  0.000000      0.000000  ...   \n",
       "10046  26.041903           9  0.000000  0.514286      0.514286  ...   \n",
       "10053  26.041903           6  0.000000  0.000000      0.000000  ...   \n",
       "10128  26.041903          32  0.000000  0.000000      0.176817  ...   \n",
       "10162  26.041903          32  0.125261  0.187891      0.313152  ...   \n",
       "10213  26.041903           3  0.000000  0.000000      0.000000  ...   \n",
       "10218  26.041903           0  0.000000  0.000000      0.000000  ...   \n",
       "10291  26.041903           2  0.500000  0.500000      0.000000  ...   \n",
       "10574  26.041903           0  0.000000  0.000000      0.000000  ...   \n",
       "10587  26.041903           0  0.000000  0.000000      0.000000  ...   \n",
       "\n",
       "       goals conceded  clean sheets  minutes played  days_injured  \\\n",
       "9165              0.0           0.0              11             0   \n",
       "9209              0.0           0.0               0             0   \n",
       "9280              0.0           0.0            1504             0   \n",
       "9324              0.0           0.0               0             0   \n",
       "10026             0.0           0.0               0             0   \n",
       "10042             0.0           0.0               0             0   \n",
       "10046             0.0           0.0             175             0   \n",
       "10053             0.0           0.0             159             0   \n",
       "10128             0.0           0.0            1527             0   \n",
       "10162             0.0           0.0            1437             0   \n",
       "10213             0.0           0.0             144             0   \n",
       "10218             0.0           0.0               0             0   \n",
       "10291             0.0           0.0             180             0   \n",
       "10574             0.0           0.0               0             0   \n",
       "10587             0.0           0.0               0             0   \n",
       "\n",
       "       games_injured  award  current_value  highest_value  position_encoded  \\\n",
       "9165               0      0          25000          25000                 3   \n",
       "9209               0      0              0              0                 3   \n",
       "9280               0      0         125000         125000                 4   \n",
       "9324               0      1          25000          25000                 2   \n",
       "10026              0      0          25000          25000                 1   \n",
       "10042              0      0          25000          25000                 3   \n",
       "10046              0      0          25000          50000                 3   \n",
       "10053              0      0          75000          75000                 4   \n",
       "10128              0      0          75000          75000                 4   \n",
       "10162              0      0          50000          75000                 4   \n",
       "10213              0      0          25000          25000                 3   \n",
       "10218              0      0          25000          25000                 3   \n",
       "10291              0      0         100000         100000                 4   \n",
       "10574              0      0              0              0                 1   \n",
       "10587              0      0              0              0                 3   \n",
       "\n",
       "       winger  \n",
       "9165        0  \n",
       "9209        0  \n",
       "9280        0  \n",
       "9324        0  \n",
       "10026       0  \n",
       "10042       0  \n",
       "10046       0  \n",
       "10053       1  \n",
       "10128       1  \n",
       "10162       1  \n",
       "10213       0  \n",
       "10218       0  \n",
       "10291       0  \n",
       "10574       0  \n",
       "10587       0  \n",
       "\n",
       "[15 rows x 22 columns]"
      ]
     },
     "execution_count": 104,
     "metadata": {},
     "output_type": "execute_result"
    }
   ],
   "source": [
    "df_football[df_football['age'] == 26.04190334 ]"
   ]
  },
  {
   "cell_type": "code",
   "execution_count": 105,
   "id": "d74fcd69-091f-42a0-9694-3376ffa090c5",
   "metadata": {},
   "outputs": [
    {
     "data": {
      "text/plain": [
       "array([104,  15,   4,  82,  63,  68,  70,   8,  34,  74,  89,  72,  60,\n",
       "       101,  76,  55,  92,  31,  39,  51, 105,  88,  79,  80,  24,  52,\n",
       "        93,  41,  75,  65,  42,  71,  64, 100,  87,  69,  95,  33,  78,\n",
       "        50,  40,  25,  57,  12,  35,  61,  59,  85,  18,  17,  48,  83,\n",
       "        62,  73,  54,  36,  53,  47,  46,  77,  43,  38,  91,  11,  67,\n",
       "        32,  19,  66,  56,  29,   5,  58,  21,  45,  37,  23,  13,  14,\n",
       "        27,  30,  10,   0,  22,  28,  26,  16,  97,  49,  81,   7,  84,\n",
       "         2,  90,  94, 102,   1,   3,  44,  99,   9,  20,   6,  86,  98,\n",
       "        96, 107, 106, 103], dtype=int64)"
      ]
     },
     "execution_count": 105,
     "metadata": {},
     "output_type": "execute_result"
    }
   ],
   "source": [
    "df_football['appearance'].unique()"
   ]
  },
  {
   "cell_type": "code",
   "execution_count": 106,
   "id": "ec88909b-fd3e-439f-9b43-8be08a947590",
   "metadata": {},
   "outputs": [
    {
     "data": {
      "text/html": [
       "<div>\n",
       "<style scoped>\n",
       "    .dataframe tbody tr th:only-of-type {\n",
       "        vertical-align: middle;\n",
       "    }\n",
       "\n",
       "    .dataframe tbody tr th {\n",
       "        vertical-align: top;\n",
       "    }\n",
       "\n",
       "    .dataframe thead th {\n",
       "        text-align: right;\n",
       "    }\n",
       "</style>\n",
       "<table border=\"1\" class=\"dataframe\">\n",
       "  <thead>\n",
       "    <tr style=\"text-align: right;\">\n",
       "      <th></th>\n",
       "      <th>assists</th>\n",
       "    </tr>\n",
       "  </thead>\n",
       "  <tbody>\n",
       "    <tr>\n",
       "      <th>6180</th>\n",
       "      <td>3.461538</td>\n",
       "    </tr>\n",
       "    <tr>\n",
       "      <th>8387</th>\n",
       "      <td>4.000000</td>\n",
       "    </tr>\n",
       "  </tbody>\n",
       "</table>\n",
       "</div>"
      ],
      "text/plain": [
       "       assists\n",
       "6180  3.461538\n",
       "8387  4.000000"
      ]
     },
     "execution_count": 106,
     "metadata": {},
     "output_type": "execute_result"
    }
   ],
   "source": [
    "df_football[['assists']][df_football['assists'] > 3]"
   ]
  },
  {
   "cell_type": "code",
   "execution_count": 107,
   "id": "1c673a4e-2de9-42c7-ac4d-7dfacee40495",
   "metadata": {},
   "outputs": [
    {
     "data": {
      "text/html": [
       "<div>\n",
       "<style scoped>\n",
       "    .dataframe tbody tr th:only-of-type {\n",
       "        vertical-align: middle;\n",
       "    }\n",
       "\n",
       "    .dataframe tbody tr th {\n",
       "        vertical-align: top;\n",
       "    }\n",
       "\n",
       "    .dataframe thead th {\n",
       "        text-align: right;\n",
       "    }\n",
       "</style>\n",
       "<table border=\"1\" class=\"dataframe\">\n",
       "  <thead>\n",
       "    <tr style=\"text-align: right;\">\n",
       "      <th></th>\n",
       "      <th>goals</th>\n",
       "    </tr>\n",
       "  </thead>\n",
       "  <tbody>\n",
       "    <tr>\n",
       "      <th>9239</th>\n",
       "      <td>11.25</td>\n",
       "    </tr>\n",
       "  </tbody>\n",
       "</table>\n",
       "</div>"
      ],
      "text/plain": [
       "      goals\n",
       "9239  11.25"
      ]
     },
     "execution_count": 107,
     "metadata": {},
     "output_type": "execute_result"
    }
   ],
   "source": [
    "df_football[['goals']][df_football['goals'] > 10]"
   ]
  },
  {
   "cell_type": "code",
   "execution_count": 108,
   "id": "f07ff7c1-52c6-4aec-9166-59771d4cb1ce",
   "metadata": {},
   "outputs": [
    {
     "data": {
      "text/html": [
       "<div>\n",
       "<style scoped>\n",
       "    .dataframe tbody tr th:only-of-type {\n",
       "        vertical-align: middle;\n",
       "    }\n",
       "\n",
       "    .dataframe tbody tr th {\n",
       "        vertical-align: top;\n",
       "    }\n",
       "\n",
       "    .dataframe thead th {\n",
       "        text-align: right;\n",
       "    }\n",
       "</style>\n",
       "<table border=\"1\" class=\"dataframe\">\n",
       "  <thead>\n",
       "    <tr style=\"text-align: right;\">\n",
       "      <th></th>\n",
       "      <th>clean sheets</th>\n",
       "    </tr>\n",
       "  </thead>\n",
       "  <tbody>\n",
       "    <tr>\n",
       "      <th>1459</th>\n",
       "      <td>18.000000</td>\n",
       "    </tr>\n",
       "    <tr>\n",
       "      <th>2055</th>\n",
       "      <td>90.000000</td>\n",
       "    </tr>\n",
       "    <tr>\n",
       "      <th>2622</th>\n",
       "      <td>10.588235</td>\n",
       "    </tr>\n",
       "    <tr>\n",
       "      <th>7897</th>\n",
       "      <td>18.000000</td>\n",
       "    </tr>\n",
       "  </tbody>\n",
       "</table>\n",
       "</div>"
      ],
      "text/plain": [
       "      clean sheets\n",
       "1459     18.000000\n",
       "2055     90.000000\n",
       "2622     10.588235\n",
       "7897     18.000000"
      ]
     },
     "execution_count": 108,
     "metadata": {},
     "output_type": "execute_result"
    }
   ],
   "source": [
    "df_football[['clean sheets']][df_football['clean sheets'] > 10]"
   ]
  },
  {
   "cell_type": "code",
   "execution_count": 109,
   "id": "49f2dca6-6592-46a5-b78b-b2d5b25aa497",
   "metadata": {},
   "outputs": [
    {
     "data": {
      "text/html": [
       "<div>\n",
       "<style scoped>\n",
       "    .dataframe tbody tr th:only-of-type {\n",
       "        vertical-align: middle;\n",
       "    }\n",
       "\n",
       "    .dataframe tbody tr th {\n",
       "        vertical-align: top;\n",
       "    }\n",
       "\n",
       "    .dataframe thead th {\n",
       "        text-align: right;\n",
       "    }\n",
       "</style>\n",
       "<table border=\"1\" class=\"dataframe\">\n",
       "  <thead>\n",
       "    <tr style=\"text-align: right;\">\n",
       "      <th></th>\n",
       "      <th>second yellow cards</th>\n",
       "    </tr>\n",
       "  </thead>\n",
       "  <tbody>\n",
       "    <tr>\n",
       "      <th>7555</th>\n",
       "      <td>0.927835</td>\n",
       "    </tr>\n",
       "    <tr>\n",
       "      <th>7901</th>\n",
       "      <td>0.559006</td>\n",
       "    </tr>\n",
       "    <tr>\n",
       "      <th>8429</th>\n",
       "      <td>1.000000</td>\n",
       "    </tr>\n",
       "    <tr>\n",
       "      <th>9004</th>\n",
       "      <td>0.538922</td>\n",
       "    </tr>\n",
       "    <tr>\n",
       "      <th>9055</th>\n",
       "      <td>0.520231</td>\n",
       "    </tr>\n",
       "  </tbody>\n",
       "</table>\n",
       "</div>"
      ],
      "text/plain": [
       "      second yellow cards\n",
       "7555             0.927835\n",
       "7901             0.559006\n",
       "8429             1.000000\n",
       "9004             0.538922\n",
       "9055             0.520231"
      ]
     },
     "execution_count": 109,
     "metadata": {},
     "output_type": "execute_result"
    }
   ],
   "source": [
    "df_football[['second yellow cards']][df_football['second yellow cards'] > 0.5]"
   ]
  },
  {
   "cell_type": "code",
   "execution_count": 110,
   "id": "e29a9d8a-10dd-4e08-bc8c-c827db350f74",
   "metadata": {},
   "outputs": [
    {
     "data": {
      "text/html": [
       "<div>\n",
       "<style scoped>\n",
       "    .dataframe tbody tr th:only-of-type {\n",
       "        vertical-align: middle;\n",
       "    }\n",
       "\n",
       "    .dataframe tbody tr th {\n",
       "        vertical-align: top;\n",
       "    }\n",
       "\n",
       "    .dataframe thead th {\n",
       "        text-align: right;\n",
       "    }\n",
       "</style>\n",
       "<table border=\"1\" class=\"dataframe\">\n",
       "  <thead>\n",
       "    <tr style=\"text-align: right;\">\n",
       "      <th></th>\n",
       "      <th>yellow cards</th>\n",
       "    </tr>\n",
       "  </thead>\n",
       "  <tbody>\n",
       "    <tr>\n",
       "      <th>3911</th>\n",
       "      <td>12.857143</td>\n",
       "    </tr>\n",
       "    <tr>\n",
       "      <th>8176</th>\n",
       "      <td>30.000000</td>\n",
       "    </tr>\n",
       "    <tr>\n",
       "      <th>9484</th>\n",
       "      <td>11.250000</td>\n",
       "    </tr>\n",
       "  </tbody>\n",
       "</table>\n",
       "</div>"
      ],
      "text/plain": [
       "      yellow cards\n",
       "3911     12.857143\n",
       "8176     30.000000\n",
       "9484     11.250000"
      ]
     },
     "execution_count": 110,
     "metadata": {},
     "output_type": "execute_result"
    }
   ],
   "source": [
    "df_football[['yellow cards']][df_football['yellow cards'] > 10]"
   ]
  },
  {
   "cell_type": "code",
   "execution_count": 111,
   "id": "67b98b14-54e7-41ba-ace6-ee9bfa157583",
   "metadata": {},
   "outputs": [
    {
     "data": {
      "text/html": [
       "<div>\n",
       "<style scoped>\n",
       "    .dataframe tbody tr th:only-of-type {\n",
       "        vertical-align: middle;\n",
       "    }\n",
       "\n",
       "    .dataframe tbody tr th {\n",
       "        vertical-align: top;\n",
       "    }\n",
       "\n",
       "    .dataframe thead th {\n",
       "        text-align: right;\n",
       "    }\n",
       "</style>\n",
       "<table border=\"1\" class=\"dataframe\">\n",
       "  <thead>\n",
       "    <tr style=\"text-align: right;\">\n",
       "      <th></th>\n",
       "      <th>red cards</th>\n",
       "    </tr>\n",
       "  </thead>\n",
       "  <tbody>\n",
       "    <tr>\n",
       "      <th>3502</th>\n",
       "      <td>2.000000</td>\n",
       "    </tr>\n",
       "    <tr>\n",
       "      <th>3527</th>\n",
       "      <td>6.923077</td>\n",
       "    </tr>\n",
       "    <tr>\n",
       "      <th>7057</th>\n",
       "      <td>1.028571</td>\n",
       "    </tr>\n",
       "    <tr>\n",
       "      <th>7565</th>\n",
       "      <td>1.578947</td>\n",
       "    </tr>\n",
       "    <tr>\n",
       "      <th>7947</th>\n",
       "      <td>2.500000</td>\n",
       "    </tr>\n",
       "  </tbody>\n",
       "</table>\n",
       "</div>"
      ],
      "text/plain": [
       "      red cards\n",
       "3502   2.000000\n",
       "3527   6.923077\n",
       "7057   1.028571\n",
       "7565   1.578947\n",
       "7947   2.500000"
      ]
     },
     "execution_count": 111,
     "metadata": {},
     "output_type": "execute_result"
    }
   ],
   "source": [
    "df_football[['red cards']][df_football['red cards'] > 1]"
   ]
  },
  {
   "cell_type": "code",
   "execution_count": 112,
   "id": "2e672cfa-de2d-4bce-9308-1df16c5263d5",
   "metadata": {},
   "outputs": [
    {
     "data": {
      "text/html": [
       "<div>\n",
       "<style scoped>\n",
       "    .dataframe tbody tr th:only-of-type {\n",
       "        vertical-align: middle;\n",
       "    }\n",
       "\n",
       "    .dataframe tbody tr th {\n",
       "        vertical-align: top;\n",
       "    }\n",
       "\n",
       "    .dataframe thead th {\n",
       "        text-align: right;\n",
       "    }\n",
       "</style>\n",
       "<table border=\"1\" class=\"dataframe\">\n",
       "  <thead>\n",
       "    <tr style=\"text-align: right;\">\n",
       "      <th></th>\n",
       "      <th>red cards</th>\n",
       "      <th>yellow cards</th>\n",
       "    </tr>\n",
       "  </thead>\n",
       "  <tbody>\n",
       "    <tr>\n",
       "      <th>3527</th>\n",
       "      <td>6.923077</td>\n",
       "      <td>0.0</td>\n",
       "    </tr>\n",
       "  </tbody>\n",
       "</table>\n",
       "</div>"
      ],
      "text/plain": [
       "      red cards  yellow cards\n",
       "3527   6.923077           0.0"
      ]
     },
     "execution_count": 112,
     "metadata": {},
     "output_type": "execute_result"
    }
   ],
   "source": [
    "df_football[['red cards','yellow cards']][df_football['red cards'] > 6]"
   ]
  },
  {
   "cell_type": "code",
   "execution_count": 113,
   "id": "19d97eb8-6bce-44b9-94bc-3e9c24236067",
   "metadata": {},
   "outputs": [
    {
     "data": {
      "text/html": [
       "<div>\n",
       "<style scoped>\n",
       "    .dataframe tbody tr th:only-of-type {\n",
       "        vertical-align: middle;\n",
       "    }\n",
       "\n",
       "    .dataframe tbody tr th {\n",
       "        vertical-align: top;\n",
       "    }\n",
       "\n",
       "    .dataframe thead th {\n",
       "        text-align: right;\n",
       "    }\n",
       "</style>\n",
       "<table border=\"1\" class=\"dataframe\">\n",
       "  <thead>\n",
       "    <tr style=\"text-align: right;\">\n",
       "      <th></th>\n",
       "      <th>goals conceded</th>\n",
       "    </tr>\n",
       "  </thead>\n",
       "  <tbody>\n",
       "    <tr>\n",
       "      <th>6536</th>\n",
       "      <td>5.294118</td>\n",
       "    </tr>\n",
       "    <tr>\n",
       "      <th>9351</th>\n",
       "      <td>9.000000</td>\n",
       "    </tr>\n",
       "  </tbody>\n",
       "</table>\n",
       "</div>"
      ],
      "text/plain": [
       "      goals conceded\n",
       "6536        5.294118\n",
       "9351        9.000000"
      ]
     },
     "execution_count": 113,
     "metadata": {},
     "output_type": "execute_result"
    }
   ],
   "source": [
    "df_football[['goals conceded']][df_football['goals conceded'] > 5]"
   ]
  },
  {
   "cell_type": "code",
   "execution_count": 114,
   "id": "723e381d-2edc-4b26-bd52-02cdf06a9618",
   "metadata": {},
   "outputs": [
    {
     "data": {
      "text/html": [
       "<div>\n",
       "<style scoped>\n",
       "    .dataframe tbody tr th:only-of-type {\n",
       "        vertical-align: middle;\n",
       "    }\n",
       "\n",
       "    .dataframe tbody tr th {\n",
       "        vertical-align: top;\n",
       "    }\n",
       "\n",
       "    .dataframe thead th {\n",
       "        text-align: right;\n",
       "    }\n",
       "</style>\n",
       "<table border=\"1\" class=\"dataframe\">\n",
       "  <thead>\n",
       "    <tr style=\"text-align: right;\">\n",
       "      <th></th>\n",
       "      <th>minutes played</th>\n",
       "    </tr>\n",
       "  </thead>\n",
       "  <tbody>\n",
       "    <tr>\n",
       "      <th>0</th>\n",
       "      <td>9390</td>\n",
       "    </tr>\n",
       "    <tr>\n",
       "      <th>1</th>\n",
       "      <td>1304</td>\n",
       "    </tr>\n",
       "    <tr>\n",
       "      <th>2</th>\n",
       "      <td>292</td>\n",
       "    </tr>\n",
       "    <tr>\n",
       "      <th>3</th>\n",
       "      <td>6408</td>\n",
       "    </tr>\n",
       "    <tr>\n",
       "      <th>4</th>\n",
       "      <td>5031</td>\n",
       "    </tr>\n",
       "    <tr>\n",
       "      <th>...</th>\n",
       "      <td>...</td>\n",
       "    </tr>\n",
       "    <tr>\n",
       "      <th>10749</th>\n",
       "      <td>1023</td>\n",
       "    </tr>\n",
       "    <tr>\n",
       "      <th>10750</th>\n",
       "      <td>1449</td>\n",
       "    </tr>\n",
       "    <tr>\n",
       "      <th>10751</th>\n",
       "      <td>960</td>\n",
       "    </tr>\n",
       "    <tr>\n",
       "      <th>10752</th>\n",
       "      <td>865</td>\n",
       "    </tr>\n",
       "    <tr>\n",
       "      <th>10753</th>\n",
       "      <td>1046</td>\n",
       "    </tr>\n",
       "  </tbody>\n",
       "</table>\n",
       "<p>10754 rows × 1 columns</p>\n",
       "</div>"
      ],
      "text/plain": [
       "       minutes played\n",
       "0                9390\n",
       "1                1304\n",
       "2                 292\n",
       "3                6408\n",
       "4                5031\n",
       "...               ...\n",
       "10749            1023\n",
       "10750            1449\n",
       "10751             960\n",
       "10752             865\n",
       "10753            1046\n",
       "\n",
       "[10754 rows x 1 columns]"
      ]
     },
     "execution_count": 114,
     "metadata": {},
     "output_type": "execute_result"
    }
   ],
   "source": [
    "df_football[['minutes played']]"
   ]
  },
  {
   "cell_type": "code",
   "execution_count": 115,
   "id": "2db7342b-63e5-410f-b3f3-af29665263f4",
   "metadata": {},
   "outputs": [
    {
     "data": {
      "text/html": [
       "<div>\n",
       "<style scoped>\n",
       "    .dataframe tbody tr th:only-of-type {\n",
       "        vertical-align: middle;\n",
       "    }\n",
       "\n",
       "    .dataframe tbody tr th {\n",
       "        vertical-align: top;\n",
       "    }\n",
       "\n",
       "    .dataframe thead th {\n",
       "        text-align: right;\n",
       "    }\n",
       "</style>\n",
       "<table border=\"1\" class=\"dataframe\">\n",
       "  <thead>\n",
       "    <tr style=\"text-align: right;\">\n",
       "      <th></th>\n",
       "      <th>days_injured</th>\n",
       "    </tr>\n",
       "  </thead>\n",
       "  <tbody>\n",
       "    <tr>\n",
       "      <th>0</th>\n",
       "      <td>42</td>\n",
       "    </tr>\n",
       "    <tr>\n",
       "      <th>1</th>\n",
       "      <td>510</td>\n",
       "    </tr>\n",
       "    <tr>\n",
       "      <th>2</th>\n",
       "      <td>697</td>\n",
       "    </tr>\n",
       "    <tr>\n",
       "      <th>3</th>\n",
       "      <td>175</td>\n",
       "    </tr>\n",
       "    <tr>\n",
       "      <th>4</th>\n",
       "      <td>238</td>\n",
       "    </tr>\n",
       "    <tr>\n",
       "      <th>...</th>\n",
       "      <td>...</td>\n",
       "    </tr>\n",
       "    <tr>\n",
       "      <th>10749</th>\n",
       "      <td>0</td>\n",
       "    </tr>\n",
       "    <tr>\n",
       "      <th>10750</th>\n",
       "      <td>102</td>\n",
       "    </tr>\n",
       "    <tr>\n",
       "      <th>10751</th>\n",
       "      <td>0</td>\n",
       "    </tr>\n",
       "    <tr>\n",
       "      <th>10752</th>\n",
       "      <td>0</td>\n",
       "    </tr>\n",
       "    <tr>\n",
       "      <th>10753</th>\n",
       "      <td>0</td>\n",
       "    </tr>\n",
       "  </tbody>\n",
       "</table>\n",
       "<p>10754 rows × 1 columns</p>\n",
       "</div>"
      ],
      "text/plain": [
       "       days_injured\n",
       "0                42\n",
       "1               510\n",
       "2               697\n",
       "3               175\n",
       "4               238\n",
       "...             ...\n",
       "10749             0\n",
       "10750           102\n",
       "10751             0\n",
       "10752             0\n",
       "10753             0\n",
       "\n",
       "[10754 rows x 1 columns]"
      ]
     },
     "execution_count": 115,
     "metadata": {},
     "output_type": "execute_result"
    }
   ],
   "source": [
    "df_football[['days_injured']]#[df_football['days_injured']"
   ]
  },
  {
   "cell_type": "code",
   "execution_count": 116,
   "id": "373a07b5-396d-422e-b52a-e47779a2bdff",
   "metadata": {},
   "outputs": [
    {
     "data": {
      "text/html": [
       "<div>\n",
       "<style scoped>\n",
       "    .dataframe tbody tr th:only-of-type {\n",
       "        vertical-align: middle;\n",
       "    }\n",
       "\n",
       "    .dataframe tbody tr th {\n",
       "        vertical-align: top;\n",
       "    }\n",
       "\n",
       "    .dataframe thead th {\n",
       "        text-align: right;\n",
       "    }\n",
       "</style>\n",
       "<table border=\"1\" class=\"dataframe\">\n",
       "  <thead>\n",
       "    <tr style=\"text-align: right;\">\n",
       "      <th></th>\n",
       "      <th>games_injured</th>\n",
       "    </tr>\n",
       "  </thead>\n",
       "  <tbody>\n",
       "    <tr>\n",
       "      <th>0</th>\n",
       "      <td>5</td>\n",
       "    </tr>\n",
       "    <tr>\n",
       "      <th>1</th>\n",
       "      <td>58</td>\n",
       "    </tr>\n",
       "    <tr>\n",
       "      <th>2</th>\n",
       "      <td>84</td>\n",
       "    </tr>\n",
       "    <tr>\n",
       "      <th>3</th>\n",
       "      <td>22</td>\n",
       "    </tr>\n",
       "    <tr>\n",
       "      <th>4</th>\n",
       "      <td>51</td>\n",
       "    </tr>\n",
       "    <tr>\n",
       "      <th>...</th>\n",
       "      <td>...</td>\n",
       "    </tr>\n",
       "    <tr>\n",
       "      <th>10749</th>\n",
       "      <td>0</td>\n",
       "    </tr>\n",
       "    <tr>\n",
       "      <th>10750</th>\n",
       "      <td>18</td>\n",
       "    </tr>\n",
       "    <tr>\n",
       "      <th>10751</th>\n",
       "      <td>0</td>\n",
       "    </tr>\n",
       "    <tr>\n",
       "      <th>10752</th>\n",
       "      <td>0</td>\n",
       "    </tr>\n",
       "    <tr>\n",
       "      <th>10753</th>\n",
       "      <td>0</td>\n",
       "    </tr>\n",
       "  </tbody>\n",
       "</table>\n",
       "<p>10754 rows × 1 columns</p>\n",
       "</div>"
      ],
      "text/plain": [
       "       games_injured\n",
       "0                  5\n",
       "1                 58\n",
       "2                 84\n",
       "3                 22\n",
       "4                 51\n",
       "...              ...\n",
       "10749              0\n",
       "10750             18\n",
       "10751              0\n",
       "10752              0\n",
       "10753              0\n",
       "\n",
       "[10754 rows x 1 columns]"
      ]
     },
     "execution_count": 116,
     "metadata": {},
     "output_type": "execute_result"
    }
   ],
   "source": [
    "df_football[['games_injured']]"
   ]
  },
  {
   "cell_type": "code",
   "execution_count": 117,
   "id": "decd23f7-5004-4d88-b349-a329f4547a45",
   "metadata": {},
   "outputs": [
    {
     "data": {
      "text/plain": [
       "array([13,  1,  4,  9, 21, 10,  7,  0,  3, 23,  2,  8, 11,  6,  5, 16, 12,\n",
       "       15, 14, 26, 18, 20, 35, 22, 19, 17, 33, 36, 29, 43, 25, 24, 38, 53,\n",
       "       34, 65, 37, 57, 30, 31, 92, 28, 32, 27, 42, 90], dtype=int64)"
      ]
     },
     "execution_count": 117,
     "metadata": {},
     "output_type": "execute_result"
    }
   ],
   "source": [
    "df_football['award'].unique()"
   ]
  },
  {
   "cell_type": "code",
   "execution_count": 118,
   "id": "fc424882-519e-4787-aa3e-16abc257cd8a",
   "metadata": {},
   "outputs": [
    {
     "data": {
      "text/html": [
       "<div>\n",
       "<style scoped>\n",
       "    .dataframe tbody tr th:only-of-type {\n",
       "        vertical-align: middle;\n",
       "    }\n",
       "\n",
       "    .dataframe tbody tr th {\n",
       "        vertical-align: top;\n",
       "    }\n",
       "\n",
       "    .dataframe thead th {\n",
       "        text-align: right;\n",
       "    }\n",
       "</style>\n",
       "<table border=\"1\" class=\"dataframe\">\n",
       "  <thead>\n",
       "    <tr style=\"text-align: right;\">\n",
       "      <th></th>\n",
       "      <th>current_value</th>\n",
       "    </tr>\n",
       "  </thead>\n",
       "  <tbody>\n",
       "    <tr>\n",
       "      <th>0</th>\n",
       "      <td>15000000</td>\n",
       "    </tr>\n",
       "    <tr>\n",
       "      <th>1</th>\n",
       "      <td>1500000</td>\n",
       "    </tr>\n",
       "    <tr>\n",
       "      <th>2</th>\n",
       "      <td>600000</td>\n",
       "    </tr>\n",
       "    <tr>\n",
       "      <th>3</th>\n",
       "      <td>50000000</td>\n",
       "    </tr>\n",
       "    <tr>\n",
       "      <th>4</th>\n",
       "      <td>40000000</td>\n",
       "    </tr>\n",
       "    <tr>\n",
       "      <th>...</th>\n",
       "      <td>...</td>\n",
       "    </tr>\n",
       "    <tr>\n",
       "      <th>10749</th>\n",
       "      <td>75000</td>\n",
       "    </tr>\n",
       "    <tr>\n",
       "      <th>10750</th>\n",
       "      <td>300000</td>\n",
       "    </tr>\n",
       "    <tr>\n",
       "      <th>10751</th>\n",
       "      <td>50000</td>\n",
       "    </tr>\n",
       "    <tr>\n",
       "      <th>10752</th>\n",
       "      <td>50000</td>\n",
       "    </tr>\n",
       "    <tr>\n",
       "      <th>10753</th>\n",
       "      <td>25000</td>\n",
       "    </tr>\n",
       "  </tbody>\n",
       "</table>\n",
       "<p>10754 rows × 1 columns</p>\n",
       "</div>"
      ],
      "text/plain": [
       "       current_value\n",
       "0           15000000\n",
       "1            1500000\n",
       "2             600000\n",
       "3           50000000\n",
       "4           40000000\n",
       "...              ...\n",
       "10749          75000\n",
       "10750         300000\n",
       "10751          50000\n",
       "10752          50000\n",
       "10753          25000\n",
       "\n",
       "[10754 rows x 1 columns]"
      ]
     },
     "execution_count": 118,
     "metadata": {},
     "output_type": "execute_result"
    }
   ],
   "source": [
    "df_football[['current_value']]"
   ]
  },
  {
   "cell_type": "code",
   "execution_count": 119,
   "id": "d1d13dc7-7bfc-4685-913f-d546a3fd4208",
   "metadata": {},
   "outputs": [
    {
     "data": {
      "text/html": [
       "<div>\n",
       "<style scoped>\n",
       "    .dataframe tbody tr th:only-of-type {\n",
       "        vertical-align: middle;\n",
       "    }\n",
       "\n",
       "    .dataframe tbody tr th {\n",
       "        vertical-align: top;\n",
       "    }\n",
       "\n",
       "    .dataframe thead th {\n",
       "        text-align: right;\n",
       "    }\n",
       "</style>\n",
       "<table border=\"1\" class=\"dataframe\">\n",
       "  <thead>\n",
       "    <tr style=\"text-align: right;\">\n",
       "      <th></th>\n",
       "      <th>highest_value</th>\n",
       "    </tr>\n",
       "  </thead>\n",
       "  <tbody>\n",
       "    <tr>\n",
       "      <th>0</th>\n",
       "      <td>70000000</td>\n",
       "    </tr>\n",
       "    <tr>\n",
       "      <th>1</th>\n",
       "      <td>22000000</td>\n",
       "    </tr>\n",
       "    <tr>\n",
       "      <th>2</th>\n",
       "      <td>6000000</td>\n",
       "    </tr>\n",
       "    <tr>\n",
       "      <th>3</th>\n",
       "      <td>50000000</td>\n",
       "    </tr>\n",
       "    <tr>\n",
       "      <th>4</th>\n",
       "      <td>80000000</td>\n",
       "    </tr>\n",
       "    <tr>\n",
       "      <th>...</th>\n",
       "      <td>...</td>\n",
       "    </tr>\n",
       "    <tr>\n",
       "      <th>10749</th>\n",
       "      <td>75000</td>\n",
       "    </tr>\n",
       "    <tr>\n",
       "      <th>10750</th>\n",
       "      <td>300000</td>\n",
       "    </tr>\n",
       "    <tr>\n",
       "      <th>10751</th>\n",
       "      <td>50000</td>\n",
       "    </tr>\n",
       "    <tr>\n",
       "      <th>10752</th>\n",
       "      <td>50000</td>\n",
       "    </tr>\n",
       "    <tr>\n",
       "      <th>10753</th>\n",
       "      <td>25000</td>\n",
       "    </tr>\n",
       "  </tbody>\n",
       "</table>\n",
       "<p>10754 rows × 1 columns</p>\n",
       "</div>"
      ],
      "text/plain": [
       "       highest_value\n",
       "0           70000000\n",
       "1           22000000\n",
       "2            6000000\n",
       "3           50000000\n",
       "4           80000000\n",
       "...              ...\n",
       "10749          75000\n",
       "10750         300000\n",
       "10751          50000\n",
       "10752          50000\n",
       "10753          25000\n",
       "\n",
       "[10754 rows x 1 columns]"
      ]
     },
     "execution_count": 119,
     "metadata": {},
     "output_type": "execute_result"
    }
   ],
   "source": [
    "df_football[['highest_value']]"
   ]
  },
  {
   "cell_type": "code",
   "execution_count": 120,
   "id": "1c1e7475-8af3-46f2-b798-038fa3b6c93a",
   "metadata": {},
   "outputs": [
    {
     "data": {
      "text/html": [
       "<div>\n",
       "<style scoped>\n",
       "    .dataframe tbody tr th:only-of-type {\n",
       "        vertical-align: middle;\n",
       "    }\n",
       "\n",
       "    .dataframe tbody tr th {\n",
       "        vertical-align: top;\n",
       "    }\n",
       "\n",
       "    .dataframe thead th {\n",
       "        text-align: right;\n",
       "    }\n",
       "</style>\n",
       "<table border=\"1\" class=\"dataframe\">\n",
       "  <thead>\n",
       "    <tr style=\"text-align: right;\">\n",
       "      <th></th>\n",
       "      <th>position_encoded</th>\n",
       "    </tr>\n",
       "  </thead>\n",
       "  <tbody>\n",
       "    <tr>\n",
       "      <th>0</th>\n",
       "      <td>1</td>\n",
       "    </tr>\n",
       "    <tr>\n",
       "      <th>1</th>\n",
       "      <td>1</td>\n",
       "    </tr>\n",
       "    <tr>\n",
       "      <th>2</th>\n",
       "      <td>1</td>\n",
       "    </tr>\n",
       "    <tr>\n",
       "      <th>3</th>\n",
       "      <td>2</td>\n",
       "    </tr>\n",
       "    <tr>\n",
       "      <th>4</th>\n",
       "      <td>2</td>\n",
       "    </tr>\n",
       "    <tr>\n",
       "      <th>...</th>\n",
       "      <td>...</td>\n",
       "    </tr>\n",
       "    <tr>\n",
       "      <th>10749</th>\n",
       "      <td>4</td>\n",
       "    </tr>\n",
       "    <tr>\n",
       "      <th>10750</th>\n",
       "      <td>4</td>\n",
       "    </tr>\n",
       "    <tr>\n",
       "      <th>10751</th>\n",
       "      <td>4</td>\n",
       "    </tr>\n",
       "    <tr>\n",
       "      <th>10752</th>\n",
       "      <td>4</td>\n",
       "    </tr>\n",
       "    <tr>\n",
       "      <th>10753</th>\n",
       "      <td>4</td>\n",
       "    </tr>\n",
       "  </tbody>\n",
       "</table>\n",
       "<p>10754 rows × 1 columns</p>\n",
       "</div>"
      ],
      "text/plain": [
       "       position_encoded\n",
       "0                     1\n",
       "1                     1\n",
       "2                     1\n",
       "3                     2\n",
       "4                     2\n",
       "...                 ...\n",
       "10749                 4\n",
       "10750                 4\n",
       "10751                 4\n",
       "10752                 4\n",
       "10753                 4\n",
       "\n",
       "[10754 rows x 1 columns]"
      ]
     },
     "execution_count": 120,
     "metadata": {},
     "output_type": "execute_result"
    }
   ],
   "source": [
    "df_football[['position_encoded']]"
   ]
  },
  {
   "cell_type": "code",
   "execution_count": 121,
   "id": "2ca508b2-f1cb-4462-9246-c1ff2639cebb",
   "metadata": {},
   "outputs": [
    {
     "data": {
      "text/plain": [
       "array([0, 1], dtype=int64)"
      ]
     },
     "execution_count": 121,
     "metadata": {},
     "output_type": "execute_result"
    }
   ],
   "source": [
    "df_football['winger'].unique()"
   ]
  },
  {
   "cell_type": "markdown",
   "id": "bec3d183-bba0-4b12-b963-487daab1e876",
   "metadata": {},
   "source": [
    "#### 4. Relevance: \n",
    "Assess whether the data is appropriate and applicable for the intended analysis. Data that is not relevant can skew results and lead to incorrect conclusions.\n",
    "\n",
    "**Key considerations for relevance include:**\n",
    "\n",
    "> 1. Sample Appropriateness: Confirm that your data sample aligns with your analysis objectives. For instance, utilizing data from the Northern region will not yield accurate insights for the Western region of the Kingdom.\n",
    ">\n",
    "> 2. Variable Selection: Any column will not be relevant for our analysis, we can get rid of these using the drop() method. We will set the “axis” argument to 1 since we’re dealing with columns, and set the “inplace” argument to True to make the change permanent.\n"
   ]
  },
  {
   "cell_type": "code",
   "execution_count": 123,
   "id": "50a934b7-a0cd-443f-8a27-f10e9a6e8647",
   "metadata": {
    "scrolled": true
   },
   "outputs": [
    {
     "data": {
      "text/plain": [
       "Index(['player', 'team', 'name', 'position', 'height', 'age', 'appearance',\n",
       "       'goals', 'assists', 'yellow cards', 'second yellow cards', 'red cards',\n",
       "       'goals conceded', 'clean sheets', 'minutes played', 'days_injured',\n",
       "       'games_injured', 'award', 'current_value', 'highest_value',\n",
       "       'position_encoded', 'winger'],\n",
       "      dtype='object')"
      ]
     },
     "execution_count": 123,
     "metadata": {},
     "output_type": "execute_result"
    }
   ],
   "source": [
    "df_football.columns"
   ]
  },
  {
   "cell_type": "code",
   "execution_count": 124,
   "id": "ef79d72a-0086-4d93-b04a-66f901a1587f",
   "metadata": {},
   "outputs": [],
   "source": [
    "# because this column for profile player in the website\n",
    "#df_football.drop('player',axis=1,inplace=True)"
   ]
  },
  {
   "cell_type": "code",
   "execution_count": 125,
   "id": "080ed432-1961-42ce-bea8-2193a52e9e10",
   "metadata": {},
   "outputs": [],
   "source": [
    "# now we split the data set because each position has different feature"
   ]
  },
  {
   "cell_type": "code",
   "execution_count": 126,
   "id": "1d6dddf5-704c-41da-8dc2-d397ea8c1388",
   "metadata": {},
   "outputs": [
    {
     "data": {
      "text/plain": [
       "array(['Goalkeeper', 'Defender Centre-Back', 'Defender Left-Back',\n",
       "       'Defender Right-Back', 'midfield-DefensiveMidfield',\n",
       "       'midfield-CentralMidfield', 'midfield-AttackingMidfield',\n",
       "       'Attack-LeftWinger', 'Attack-RightWinger', 'Attack Centre-Forward',\n",
       "       'midfield-RightMidfield', 'midfield-LeftMidfield',\n",
       "       'Attack-SecondStriker', 'midfield', 'Attack', 'Defender'],\n",
       "      dtype=object)"
      ]
     },
     "execution_count": 126,
     "metadata": {},
     "output_type": "execute_result"
    }
   ],
   "source": [
    "df_football['position'].unique()"
   ]
  },
  {
   "cell_type": "code",
   "execution_count": 127,
   "id": "d4900bd1-2262-428f-8a95-05f267dba3a6",
   "metadata": {},
   "outputs": [
    {
     "data": {
      "text/plain": [
       "16"
      ]
     },
     "execution_count": 127,
     "metadata": {},
     "output_type": "execute_result"
    }
   ],
   "source": [
    "len(df_football['position'].unique())"
   ]
  },
  {
   "cell_type": "code",
   "execution_count": 128,
   "id": "4bb527f9-4e75-4b01-bcb0-ee3ff4caeaf8",
   "metadata": {},
   "outputs": [],
   "source": [
    "#first one for GK and Defenders"
   ]
  },
  {
   "cell_type": "code",
   "execution_count": 129,
   "id": "61a047bc-e134-4a08-b3c0-28183026c91f",
   "metadata": {},
   "outputs": [],
   "source": [
    "df_football_GK = df_football[df_football['position'] == 'Goalkeeper']\n",
    "\n",
    "\n",
    "df_football_Defender =  df_football[(df_football['position'] =='Defender Centre-Back')| \n",
    "                                    (df_football['position'] == 'Defender Left-Back')|\n",
    "                                    (df_football['position'] == 'Defender Right-Back')| \n",
    "                                    (df_football['position'] == 'Defender')\n",
    "\n",
    "]"
   ]
  },
  {
   "cell_type": "code",
   "execution_count": 130,
   "id": "d2c75a69-2f89-48dd-aee0-4adb3638cddf",
   "metadata": {},
   "outputs": [],
   "source": [
    "df_football_midfield = df_football[ (df_football['position'] == 'midfield-DefensiveMidfield' )|\n",
    "                                    (df_football['position'] == 'midfield-CentralMidfield')| \n",
    "                                    (df_football['position'] == 'midfield-AttackingMidfield')|\n",
    "                                    (df_football['position'] == 'midfield-RightMidfield')| \n",
    "                                    (df_football['position'] == 'midfield-LeftMidfield')|\n",
    "                                    (df_football['position'] == 'midfield')\n",
    "]\n"
   ]
  },
  {
   "cell_type": "code",
   "execution_count": 131,
   "id": "22a32e8d-941a-4c40-81a8-dc5ec2f5371f",
   "metadata": {},
   "outputs": [],
   "source": [
    "df_football_attack = df_football[(df_football['position'] == 'Attack-LeftWinger')| \n",
    "                                 (df_football['position'] == 'Attack-RightWinger')| \n",
    "                                 (df_football['position'] == 'Attack-SecondStriker') |\n",
    "                                 (df_football['position'] == 'Attack Centre-Forward')|\n",
    "                                 (df_football['position'] == 'Attack')\n",
    "\n",
    "\n",
    "]"
   ]
  },
  {
   "cell_type": "code",
   "execution_count": 132,
   "id": "7a71ba70-2107-4fa4-86c2-9869454abd6c",
   "metadata": {},
   "outputs": [],
   "source": [
    "#All are mportant except name and winger\n",
    "# but name we will remove it after uniquenes"
   ]
  },
  {
   "cell_type": "code",
   "execution_count": 133,
   "id": "b7cbb389-85d5-48d5-a8bf-78497a22fb9b",
   "metadata": {},
   "outputs": [
    {
     "name": "stdout",
     "output_type": "stream",
     "text": [
      "(1229, 22)\n",
      "(3528, 22)\n",
      "(3095, 22)\n",
      "(2902, 22)\n"
     ]
    }
   ],
   "source": [
    "print(df_football_GK.shape)\n",
    "print(df_football_Defender.shape)\n",
    "print(df_football_midfield.shape)\n",
    "print(df_football_attack.shape)"
   ]
  },
  {
   "cell_type": "code",
   "execution_count": 134,
   "id": "290fbf91-6e05-455a-a3ef-42f38100b4b3",
   "metadata": {},
   "outputs": [
    {
     "data": {
      "text/plain": [
       "Index(['player', 'team', 'name', 'position', 'height', 'age', 'appearance',\n",
       "       'goals', 'assists', 'yellow cards', 'second yellow cards', 'red cards',\n",
       "       'goals conceded', 'clean sheets', 'minutes played', 'days_injured',\n",
       "       'games_injured', 'award', 'current_value', 'highest_value',\n",
       "       'position_encoded', 'winger'],\n",
       "      dtype='object')"
      ]
     },
     "execution_count": 134,
     "metadata": {},
     "output_type": "execute_result"
    }
   ],
   "source": [
    "df_football_GK.columns"
   ]
  },
  {
   "cell_type": "code",
   "execution_count": 135,
   "id": "98e1119d-6e18-448c-9d4e-6b17a4b4c597",
   "metadata": {},
   "outputs": [
    {
     "name": "stderr",
     "output_type": "stream",
     "text": [
      "C:\\Users\\foooo\\AppData\\Local\\Temp\\ipykernel_12948\\4019530814.py:1: SettingWithCopyWarning: \n",
      "A value is trying to be set on a copy of a slice from a DataFrame\n",
      "\n",
      "See the caveats in the documentation: https://pandas.pydata.org/pandas-docs/stable/user_guide/indexing.html#returning-a-view-versus-a-copy\n",
      "  df_football_GK.drop('winger',axis=1, inplace=True)\n"
     ]
    }
   ],
   "source": [
    "df_football_GK.drop('winger',axis=1, inplace=True)"
   ]
  },
  {
   "cell_type": "code",
   "execution_count": 175,
   "id": "8ef9c3aa-8fe4-4998-8ddf-beef33ab4d6b",
   "metadata": {},
   "outputs": [],
   "source": [
    "#df_football_midfield_Attacks_position.columns"
   ]
  },
  {
   "cell_type": "code",
   "execution_count": null,
   "id": "993940cc-4663-42a2-9162-72726207e370",
   "metadata": {},
   "outputs": [],
   "source": [
    "#Here we will drod what for Defenders"
   ]
  },
  {
   "cell_type": "code",
   "execution_count": null,
   "id": "6694934b-b8ea-4976-8c79-86c31ef99f1e",
   "metadata": {},
   "outputs": [],
   "source": [
    "#df_football.drop(['goals conceded', 'clean sheets'],axis=1,inplace= True)"
   ]
  },
  {
   "cell_type": "code",
   "execution_count": null,
   "id": "424912c6-b4a5-4dc3-a32b-bb0994eb2a6d",
   "metadata": {},
   "outputs": [],
   "source": [
    "#df_football_GK_Defenders_position.shape"
   ]
  },
  {
   "cell_type": "markdown",
   "id": "0f5e3a2a-bbb7-4d06-8220-c93277b70146",
   "metadata": {},
   "source": [
    "#### 5. Uniqueness: \n",
    "Check for and remove duplicate records to prevent skewed analysis results.\n"
   ]
  },
  {
   "cell_type": "code",
   "execution_count": null,
   "id": "a509a7aa-58f4-4d39-8eb8-e8298a21f2a7",
   "metadata": {},
   "outputs": [],
   "source": [
    "# first data set "
   ]
  },
  {
   "cell_type": "code",
   "execution_count": null,
   "id": "ccb30c9d-6473-4fd8-a0d4-bf9d0b213ed7",
   "metadata": {},
   "outputs": [],
   "source": [
    "#df_football_GK_Defenders_position.duplicated().sum()"
   ]
  },
  {
   "cell_type": "code",
   "execution_count": null,
   "id": "17b558f6-bc68-48bf-9128-a3c83eeb8b3c",
   "metadata": {},
   "outputs": [],
   "source": [
    "#second data set "
   ]
  },
  {
   "cell_type": "code",
   "execution_count": null,
   "id": "9f96657e-a839-417a-b6eb-1d9d1bd1a18d",
   "metadata": {},
   "outputs": [],
   "source": [
    "#df_football_midfield_Attacks_position.duplicated().sum()"
   ]
  },
  {
   "cell_type": "code",
   "execution_count": null,
   "id": "0179ed6a-433a-4cb9-8bf1-5da0df7040a6",
   "metadata": {},
   "outputs": [],
   "source": [
    "#df_football_GK_Defenders_position['name'].duplicated().sum()"
   ]
  },
  {
   "cell_type": "code",
   "execution_count": null,
   "id": "9aa4909a-7423-4ca1-8e74-184884559d97",
   "metadata": {},
   "outputs": [],
   "source": [
    "#df_football_GK_Defenders_position['name'].duplicated()"
   ]
  },
  {
   "cell_type": "code",
   "execution_count": null,
   "id": "6917723d-2dae-4bff-919e-84b90c578a94",
   "metadata": {},
   "outputs": [],
   "source": [
    "#df_football_GK_Defenders_position[df_football_GK_Defenders_position['name'].duplicated()]"
   ]
  },
  {
   "cell_type": "code",
   "execution_count": null,
   "id": "ed4f90d3-c0af-4299-831d-c34f74fabefa",
   "metadata": {},
   "outputs": [],
   "source": [
    "#we should back to profile of player if we sure about him same player or deffrent"
   ]
  },
  {
   "cell_type": "code",
   "execution_count": null,
   "id": "ac76a2b4-3c86-4d97-a599-0401c072f71c",
   "metadata": {},
   "outputs": [],
   "source": [
    "#df_football_GK_Defenders_position[['player','name','team']][df_football_GK_Defenders_position['name'] == 'Danilo']"
   ]
  },
  {
   "cell_type": "code",
   "execution_count": null,
   "id": "31058891-fc03-474c-a848-f50db3c6f2d5",
   "metadata": {},
   "outputs": [],
   "source": [
    "#As we see not same "
   ]
  },
  {
   "cell_type": "code",
   "execution_count": null,
   "id": "d98a5017-2a11-418d-bddf-868c7764483c",
   "metadata": {},
   "outputs": [],
   "source": [
    "#print(df_football_GK_Defenders_position.columns)\n",
    "#print(df_football_midfield_Attacks_position.columns)"
   ]
  },
  {
   "cell_type": "code",
   "execution_count": null,
   "id": "11f7c75d-6c7d-4136-92c4-a716da8cdfff",
   "metadata": {},
   "outputs": [],
   "source": [
    "#df_football_GK_Defenders_position.drop(['player','name'],axis=1,inplace=True)\n",
    "#df_football_midfield_Attacks_position.drop(['player','name'],axis=1,inplace=True)"
   ]
  },
  {
   "cell_type": "code",
   "execution_count": null,
   "id": "7292db45-8a40-4fc2-b58f-8c06c57089e3",
   "metadata": {},
   "outputs": [],
   "source": [
    "#Now we can remove name "
   ]
  },
  {
   "cell_type": "code",
   "execution_count": null,
   "id": "04c62559-3b48-48cf-a4e9-857e2e0ff416",
   "metadata": {},
   "outputs": [],
   "source": [
    "# go to delete duplicates columns"
   ]
  },
  {
   "cell_type": "markdown",
   "id": "c7724ac2-4ea2-4cf4-a9e0-e64368f87b92",
   "metadata": {},
   "source": [
    "#### 6. Completeness: \n",
    "Ensure that no critical data is missing. This might mean checking for null values or required fields that are empty.\n",
    "\n",
    "We will start by checking the dataset for missing or null values. For this, we can use the isna() method which returns a dataframe of boolean values indicating if a field is null or not. To group all missing values by column, we can include the sum() method."
   ]
  },
  {
   "cell_type": "code",
   "execution_count": null,
   "id": "48a4de54-a344-4b94-9908-9528c15c13f7",
   "metadata": {},
   "outputs": [],
   "source": [
    "#Display number missing values per column"
   ]
  },
  {
   "cell_type": "code",
   "execution_count": null,
   "id": "1a6d4641-8f3b-4b8b-862d-3ff63a0aae1f",
   "metadata": {},
   "outputs": [],
   "source": [
    "#df_football_GK_Defenders_position.isnull().sum()"
   ]
  },
  {
   "cell_type": "code",
   "execution_count": null,
   "id": "7802646c-72ab-4b34-adb2-821f9a5de011",
   "metadata": {},
   "outputs": [],
   "source": [
    "#df_football_midfield_Attacks_position.isnull().sum()"
   ]
  },
  {
   "cell_type": "code",
   "execution_count": null,
   "id": "abec31c4-0904-4b73-8cee-b7bc14ab1e67",
   "metadata": {},
   "outputs": [],
   "source": [
    "# go to clean them "
   ]
  },
  {
   "cell_type": "markdown",
   "id": "b40de63c-5a1d-49ed-a87e-c5229ee08bbe",
   "metadata": {},
   "source": [
    "#### 7. Check Accuracy:\n",
    "\n",
    "Verify that the data is correct and precise. This could involve comparing data samples with known sources or using validation rules.\n",
    "\n",
    "**The process includes:**\n",
    "1. Validating the appropriateness of data types for the dataset.\n",
    "2. Identifying outliers  using established validation  rule"
   ]
  },
  {
   "cell_type": "code",
   "execution_count": null,
   "id": "68be5334-ae10-4abd-8097-3259fe5e72c8",
   "metadata": {},
   "outputs": [],
   "source": [
    "# check columns types "
   ]
  },
  {
   "cell_type": "code",
   "execution_count": null,
   "id": "6b217056-dfcd-4202-b624-b0995aa4d5d8",
   "metadata": {},
   "outputs": [],
   "source": [
    "#First data "
   ]
  },
  {
   "cell_type": "code",
   "execution_count": null,
   "id": "d2c9b6fb-f20e-4b43-be6c-d17aa1abdb07",
   "metadata": {},
   "outputs": [],
   "source": [
    "#df_football_GK_Defenders_position.dtypes"
   ]
  },
  {
   "cell_type": "code",
   "execution_count": null,
   "id": "1ed0c87b-8cff-4ed2-b339-88696c990b06",
   "metadata": {},
   "outputs": [],
   "source": [
    "# In football age is treated as an integer "
   ]
  },
  {
   "cell_type": "code",
   "execution_count": null,
   "id": "92d004e4-abf8-42ea-a21b-e4c53de7d8a3",
   "metadata": {},
   "outputs": [],
   "source": [
    "import math"
   ]
  },
  {
   "cell_type": "code",
   "execution_count": null,
   "id": "05254cf3-1839-43da-b902-3608e9e2155e",
   "metadata": {},
   "outputs": [],
   "source": [
    "df_football_GK_Defenders_position['age'] = df_football_GK_Defenders_position['age'].map(lambda x : math.floor(x))"
   ]
  },
  {
   "cell_type": "code",
   "execution_count": null,
   "id": "3340a177-783b-4359-a846-c7ebc1513249",
   "metadata": {},
   "outputs": [],
   "source": []
  },
  {
   "cell_type": "code",
   "execution_count": null,
   "id": "4694f319-43e4-419b-ba02-5b390c1dbc4b",
   "metadata": {},
   "outputs": [],
   "source": [
    "df_football_GK_Defenders_position = df_football_GK_Defenders_position.astype(\n",
    "    {'position': 'category',\n",
    "     'age': 'int',\n",
    "     'appearance' : 'int'\n",
    "    })\n"
   ]
  },
  {
   "cell_type": "code",
   "execution_count": null,
   "id": "285fff89-1b11-4388-b8c0-8980083b2c42",
   "metadata": {},
   "outputs": [],
   "source": [
    "df_football_GK_Defenders_position.dtypes"
   ]
  },
  {
   "cell_type": "code",
   "execution_count": null,
   "id": "bc0b631a-ea7b-49c6-ac7c-4ef9403e49ac",
   "metadata": {},
   "outputs": [],
   "source": [
    "# second data set"
   ]
  },
  {
   "cell_type": "code",
   "execution_count": null,
   "id": "096a4d28-bc9a-4b54-bc91-71573a22986b",
   "metadata": {},
   "outputs": [],
   "source": [
    "df_football_midfield_Attacks_position.dtypes"
   ]
  },
  {
   "cell_type": "code",
   "execution_count": null,
   "id": "bfd56072-29dd-42dc-a485-dbb96d82708d",
   "metadata": {},
   "outputs": [],
   "source": [
    "df_football_midfield_Attacks_position['age'] = df_football_midfield_Attacks_position['age'].map(lambda x : math.floor(x))"
   ]
  },
  {
   "cell_type": "code",
   "execution_count": null,
   "id": "ef92311c-b1ac-4705-a6cc-b4e4daf94af1",
   "metadata": {},
   "outputs": [],
   "source": [
    "df_football_midfield_Attacks_position = df_football_midfield_Attacks_position.astype(\n",
    "    {'position': 'category',\n",
    "     'age': 'int',\n",
    "     'appearance' : 'int'\n",
    "    })"
   ]
  },
  {
   "cell_type": "code",
   "execution_count": null,
   "id": "83d1125b-8803-4b83-bda8-358f890e2696",
   "metadata": {},
   "outputs": [],
   "source": [
    "df_football_midfield_Attacks_position.dtypes"
   ]
  },
  {
   "cell_type": "code",
   "execution_count": null,
   "id": "2ee790ba-dcc0-45f1-b6f8-0133e913e149",
   "metadata": {},
   "outputs": [],
   "source": [
    "# go to clean them "
   ]
  },
  {
   "cell_type": "code",
   "execution_count": null,
   "id": "c69b303a-5459-45f9-a28e-fcee45c21c05",
   "metadata": {},
   "outputs": [],
   "source": [
    "# check outliers "
   ]
  },
  {
   "cell_type": "markdown",
   "id": "4aca9d42-add6-45db-92cf-1f6dae5f277b",
   "metadata": {},
   "source": [
    "**What is an Outlier?** \n",
    "Outlier is an row/observation that appears far away and diverges from an overall pattern in a sample.\n",
    "\n",
    "**What are the types of Outliers?**\n",
    "1. Univariate: These outliers can be found when we look at distribution of a single variable\n",
    "2. Multivariate: are outliers in an n-dimensional space. In order to find them, you have to look at distributions in multi-dimensions. example (hight=100, weight=100) for a person\n",
    "\n",
    "**What causes Outliers?**\n",
    "Whenever we come across outliers, the ideal way to tackle them is to find out the reason of having these outliers. The method to deal with them would then depend on the reason of their occurrence.\n",
    "\n",
    "Let’s understand various types of outliers:\n",
    "\n",
    "1. Data Entry Errors:- Human errors such as errors caused during data collection, recording, or entry can cause outliers in data.\n",
    "2. Measurement Error: It is the most common source of outliers. This is caused when the measurement instrument used turns out to be faulty.\n",
    "3. Data Processing Error: Whenever we perform data mining, we extract data from multiple sources. It is possible that some manipulation or extraction errors may lead to outliers in the dataset.\n",
    "4. Sampling error: For instance, we have to measure the height of athletes. By mistake, we include a few basketball players in the sample. This inclusion is likely to cause outliers in the dataset.\n",
    "5. Natural Outlier: When an outlier is not artificial (due to error), it is a natural outlier. For instance: In my last assignment with one of the renowned insurance company, I noticed that the performance of top 50 financial advisors was far higher than rest of the population. Surprisingly, it was not due to any error. Hence, whenever we perform any data mining activity with advisors, we used to treat this segment separately.\n",
    "\n",
    "\n",
    "**What is the impact of Outliers on a dataset?**\n",
    "\n",
    "\n",
    "![image.png](https://www.analyticsvidhya.com/wp-content/uploads/2015/02/Outlier_31.png)\n",
    "\n",
    "\n",
    "\n",
    "**How to detect Outliers?**\n",
    "\n",
    "1. Most commonly used method to detect outliers is visualization (Univariate Graphical Analysis).\n",
    "\n",
    "We use 3 common visualization methods:\n",
    ">- Box-plot: A box plot is a method for graphically depicting groups of numerical data through their quartiles. The box extends from the Q1 to Q3 quartile values of the data, with a line at the median (Q2). The whiskers extend from the edges of the box to show the range of the data. Outlier points are those past the end of the whiskers. Box plots show robust measures of location and spread as well as providing information about symmetry and outliers.\n",
    ">\n",
    ">  \n",
    ">![image.png](https://miro.medium.com/v2/resize:fit:698/format:webp/1*VK5iHA2AB28HSZwWwUbNYg.png)\n",
    ">\n",
    ">\n",
    ">- Histogram\n",
    ">- Scatter Plot: A scatter plot is a mathematical diagram using Cartesian coordinates to display values for two variables for a set of data. The data are displayed as a collection of points, each having the value of one variable determining the position on the horizontal axis and the value of the other variable determining the position on the vertical axis. The points that are far from the population can be termed as an outlier.\n",
    ">\n",
    ">  \n",
    ">![image.png](https://miro.medium.com/v2/resize:fit:4800/format:webp/1*Ov6aH-8yIwNoUxtMFwgx4g.png)\n",
    ">\n",
    ">\n",
    "\n",
    "2. Using statistical method (Univariate Non-Graphical analysis):\n",
    ">- Any value, which is beyond the range of -1.5 x IQR to 1.5 x IQR\n",
    " \n",
    "![image.png](https://www.whatissixsigma.net/wp-content/uploads/2015/07/Box-Plot-Diagram-to-identify-Outliers-figure-1.png)\n",
    "\n",
    ">- Use capping methods. Any value which out of range of 5th and 95th percentile can be considered as outlier\n",
    ">- Data points, three or more standard deviation away from mean are considered outlier: The Z-score is the signed number of standard deviations by which the value of an observation or data point is above the mean value of what is being observed or measured. While calculating the Z-score we re-scale and center the data and look for data points that are too far from zero. These data points which are way too far from zero will be treated as the outliers. In most of the cases, a threshold of 3 or -3 is used i.e if the Z-score value is greater than or less than 3 or -3 respectively, that data point will be identified as outliers.\n",
    "> - Outlier detection is merely a special case of the examination of data for influential data points and it also depends on the business understanding\n"
   ]
  },
  {
   "cell_type": "code",
   "execution_count": null,
   "id": "74ea6194-cc01-45d8-be38-c4543eb1714e",
   "metadata": {},
   "outputs": [],
   "source": [
    "# go to univariate graphical analysis\n",
    "# go to lesson : data visualisation 1 - chart type section\n",
    "# then go to univariate graphical analysis\n",
    "# detect outliers using graphs varbaly"
   ]
  },
  {
   "cell_type": "code",
   "execution_count": null,
   "id": "48ecf77b-480c-4f64-9485-95be805bc357",
   "metadata": {},
   "outputs": [],
   "source": [
    "# go to lesson: statistics 1 then statistics 3\n",
    "# then go to univariate Non graphical analysis\n",
    "# detect outliers using numerical statistics "
   ]
  },
  {
   "cell_type": "code",
   "execution_count": null,
   "id": "73cf82b0-f710-4ce7-8310-aea7d438ee88",
   "metadata": {},
   "outputs": [],
   "source": []
  },
  {
   "cell_type": "code",
   "execution_count": null,
   "id": "4e66d611-6958-4860-8522-9ada7fce40b0",
   "metadata": {},
   "outputs": [],
   "source": [
    "# go to delete ouliers"
   ]
  },
  {
   "attachments": {},
   "cell_type": "markdown",
   "id": "4e886ec7-388c-414b-ada7-803c2fb1f2cb",
   "metadata": {},
   "source": [
    "## 2. Data Cleaning: \n",
    "\n",
    "Preliminary findings from data profiling can lead to cleaning the data by:\n",
    "- Handling missing values\n",
    "- Correcting errors.\n",
    "- Dealing with outliers.\n",
    "\n",
    "-------------------\n",
    "\n"
   ]
  },
  {
   "cell_type": "markdown",
   "id": "21876b48-f5ec-4970-85a9-0520d45d8841",
   "metadata": {},
   "source": [
    "### Handling missing values:"
   ]
  },
  {
   "cell_type": "markdown",
   "id": "c890d5a2-2a65-4090-9427-f89c0f011d3f",
   "metadata": {},
   "source": [
    "**Why my data has missing values?**\n",
    "They may occur at two stages:\n",
    "1. Data Extraction: It is possible that there are problems with extraction process. Errors at data extraction stage are typically easy to find and can be corrected easily as well.\n",
    "2. Data collection: These errors occur at time of data collection and are harder to correct.\n",
    "\n",
    "**Why do we need to handle the missing data?**\n",
    "To avoid:\n",
    "- Bias the conclusions.\n",
    "- Leading the business to make wrong decisions.\n",
    "\n",
    "**Which are the methods to treat missing values ?**\n",
    "1. Deletion: we delete rows where any of the variable is missing. Simplicity is one of the major advantage of this method, but this method reduces the power of model because it reduces the sample size.\n",
    "\n",
    "2. Imputation: is a method to fill in the missing values with estimated ones. This imputation is one of the most frequently used methods.\n",
    "\n",
    "    2.1. Mean/ Mode/ Median Imputation: It consists of replacing the missing data for a given attribute by the mean or median (quantitative attribute) or mode (qualitative attribute) of all known values of that variable.\n",
    "    > It can be of two types:\n",
    "    > - Generalized Imputation: In this case, we calculate the mean or median for all non missing values of that variable then replace missing value with mean or median.\n",
    "    > - Similar case Imputation: In this case, we calculate average for each group individually of non missing values then replace the missing value based on the group.\n",
    "\n",
    "    2.2. Constant Value\n",
    "   \n",
    "    2.3. Forward Filling\n",
    "   \n",
    "    2.4. Backward Filling\n",
    "\n",
    "6. Prediction Model:  Prediction model is one of the sophisticated method for handling missing data. Here, we create a predictive model to estimate values that will substitute the missing data.  In this case, we divide our data set into two sets: One set with no missing values for the variable and another one with missing values. First data set become training data set of the model while second data set with missing values is test data set and variable with missing values is treated as target variable. Next, we create a model to predict target variable based on other attributes of the training data set and populate missing values of test data set.\n",
    "\n",
    "> There are 2 drawbacks for this approach:\n",
    "> - The model estimated values are usually more well-behaved than the true values\n",
    "> - If there are no relationships with attributes in the data set and the attribute with missing values, then the model will not be precise for estimating missing values.\n",
    "\n",
    "9. KNN Imputation: In this method of imputation, the missing values of an attribute are imputed using the given number of attributes that are most similar to the attribute whose values are missing. The similarity of two attributes is determined using a distance function. It is also known to have certain advantage & disadvantages.\n",
    "\n",
    "   > **Advantages:**\n",
    "   > - k-nearest neighbour can predict both qualitative & quantitative attributes\n",
    "   > - Creation of predictive model for each attribute with missing data is not required\n",
    "   > - Attributes with multiple missing values can be easily treated\n",
    "   > - Correlation structure of the data is taken into consideration\n",
    "\n",
    "   > **Disadvantage:**\n",
    "   > - KNN algorithm is very time-consuming in analyzing large database. It searches through all the dataset looking for the most similar instances.\n",
    "   > - Choice of k-value is very critical. Higher value of k would include attributes which are significantly different from what we need whereas lower value of k implies missing out of significant attributes.\n",
    "\n",
    "--------------------\n"
   ]
  },
  {
   "cell_type": "code",
   "execution_count": null,
   "id": "57e741fb-71c1-46ad-a526-d8f0b1564dc3",
   "metadata": {},
   "outputs": [],
   "source": []
  },
  {
   "cell_type": "code",
   "execution_count": null,
   "id": "01287962-8077-4c01-8d1d-5f8aed6cb37a",
   "metadata": {},
   "outputs": [],
   "source": [
    "# go back to 6th dimention --> Completeness"
   ]
  },
  {
   "cell_type": "markdown",
   "id": "f7cee10f-0af8-44e5-b595-8e965294daad",
   "metadata": {},
   "source": [
    "### Correcting errors\n",
    "\n",
    "-------------------"
   ]
  },
  {
   "cell_type": "code",
   "execution_count": null,
   "id": "06273b88-a169-42e8-81f5-5d71cb3f9c21",
   "metadata": {},
   "outputs": [],
   "source": []
  },
  {
   "cell_type": "code",
   "execution_count": null,
   "id": "f1d95da5-a3ba-473a-8243-aa177cadae20",
   "metadata": {},
   "outputs": [],
   "source": [
    "# go back to 7th dimension Accuracy "
   ]
  },
  {
   "cell_type": "markdown",
   "id": "5ecc7dbb-6867-44cf-8f99-1b969a80be40",
   "metadata": {},
   "source": [
    "### Dealing with outliers:"
   ]
  },
  {
   "attachments": {},
   "cell_type": "markdown",
   "id": "88347887-4bdf-48af-9486-cb8fe80c97af",
   "metadata": {},
   "source": [
    "**How to remove Outliers?**\n",
    "Most of the ways to deal with outliers are similar to the methods of missing values like deleting rows, transforming them, binning them, treat them as a separate group, imputing values and other statistical methods. Here, we will discuss the common techniques used to deal with outliers:\n",
    "\n",
    "1. Deleting rows: We delete outlier values if it is due to data entry error, data processing error or outlier rows are very small in numbers. We can also use trimming at both ends to remove outliers.\n",
    "\n",
    "2. Imputing: Like imputation of missing values, we can also impute outliers. We can use mean, median, mode imputation methods. Before imputing values, we should analyse if it is natural outlier or artificial. If it is artificial, we can go with imputing values. We can also use statistical model to predict values of outlier rows and after that we can impute it with predicted values.\n",
    "\n",
    "3. Treat separately: If there are significant number of outliers, we should treat them separately in the statistical model. One of the approach is to treat both groups as two different groups and build individual model for both groups and then combine the output.\n"
   ]
  },
  {
   "cell_type": "code",
   "execution_count": null,
   "id": "25a585f0-2b9c-42fa-bf21-cacc6aa3be3f",
   "metadata": {},
   "outputs": [],
   "source": []
  },
  {
   "cell_type": "markdown",
   "id": "98548b66-e309-4eb8-a5dc-65fe0abbf1e8",
   "metadata": {},
   "source": [
    "## 3. Univariate Analysis: \n",
    "\n",
    "This involves examining single variables to understand their characteristics (distribution, central tendency, dispersion, and shape).\n",
    "\n",
    "We calculate **numerical values** about the data that tells us about the distribution of the data. We also **draw graphs** showing visually how the data is distributed. **To answer the following questions about Features/characteristics of Data:**\n",
    "- Where is the center of the data? (location)\n",
    "- How much does the data vary? (scale)\n",
    "- What is the shape of the data? (shape)\n",
    "\n",
    "**The benefits of this analysis:**\n",
    "Statistics summary gives a high-level idea to identify whether the data has any outliers, data entry error, distribution of data such as the data is normally distributed or left/right skewed\n",
    "\n",
    "**In this step, we will explore variables one by one using following approaches:**"
   ]
  },
  {
   "cell_type": "markdown",
   "id": "d6718111-7ac2-4fff-9851-654655b62e0b",
   "metadata": {},
   "source": [
    "### 1. Univariate Graphical Analysis:\n",
    "Method to perform uni-variate analysis will depend on whether the variable type is categorical or numerical."
   ]
  },
  {
   "cell_type": "code",
   "execution_count": null,
   "id": "db79d803-b75c-4686-a623-e8420321a90f",
   "metadata": {},
   "outputs": [],
   "source": []
  },
  {
   "cell_type": "markdown",
   "id": "0d57c4b9-9bb3-494d-85dd-b8d39afda139",
   "metadata": {},
   "source": [
    "#### I. Categorical Variables:\n",
    "\n",
    "we’ll use frequency table to understand distribution of each category\n",
    "- Bar Chart (Ordinal) - Orderd\n",
    "- Pie Chart (Nominal) - non Orderd"
   ]
  },
  {
   "cell_type": "code",
   "execution_count": null,
   "id": "238d5d00-3a3c-4672-a964-8ebeb4834103",
   "metadata": {},
   "outputs": [],
   "source": [
    "#df_football_.dtypes"
   ]
  },
  {
   "cell_type": "code",
   "execution_count": null,
   "id": "a3ec6ee8-2d27-4b11-9571-7182c58befa6",
   "metadata": {},
   "outputs": [],
   "source": [
    "#data set 1"
   ]
  },
  {
   "cell_type": "code",
   "execution_count": 188,
   "id": "19a57389-c0cc-41f9-ab75-ef881487a5a6",
   "metadata": {},
   "outputs": [],
   "source": [
    "count_GK_def_p = df_football_GK['goals'].value_counts()"
   ]
  },
  {
   "cell_type": "code",
   "execution_count": 190,
   "id": "72ece4b7-5508-403a-8fb0-f519fc74272a",
   "metadata": {},
   "outputs": [
    {
     "data": {
      "image/png": "[encoded data removed]",
      "text/plain": [
       "<Figure size 640x480 with 1 Axes>"
      ]
     },
     "metadata": {},
     "output_type": "display_data"
    }
   ],
   "source": [
    "plt.pie(x=count_GK_def_p.values,\n",
    "        labels=count_GK_def_p.index,\n",
    "        startangle=90,\n",
    "        shadow=True,\n",
    "       )\n",
    "plt.show()"
   ]
  },
  {
   "cell_type": "code",
   "execution_count": null,
   "id": "517925de-150a-4c96-bb57-573c8fed90c7",
   "metadata": {},
   "outputs": [],
   "source": [
    "#data set 2"
   ]
  },
  {
   "cell_type": "code",
   "execution_count": 194,
   "id": "feeef50b-0cc8-446a-b8e5-9144e463cd1b",
   "metadata": {},
   "outputs": [],
   "source": [
    "count_med_at_p = df_football_Defender['position'].value_counts()"
   ]
  },
  {
   "cell_type": "code",
   "execution_count": 196,
   "id": "ebee3057-22cf-4fdb-b6d0-e4b830d530b6",
   "metadata": {},
   "outputs": [
    {
     "data": {
      "image/png": "[encoded data removed]",
      "text/plain": [
       "<Figure size 640x480 with 1 Axes>"
      ]
     },
     "metadata": {},
     "output_type": "display_data"
    }
   ],
   "source": [
    "plt.pie(x= count_med_at_p.values,\n",
    "        labels=count_med_at_p.index,\n",
    "       #startangle=90,\n",
    "        shadow=True)\n",
    "plt.show()"
   ]
  },
  {
   "cell_type": "code",
   "execution_count": null,
   "id": "360dcdda-4141-415e-aac9-f1e129a5f0e2",
   "metadata": {},
   "outputs": [],
   "source": [
    "plt.bar(x=count_med_at_p.index,\n",
    "        height=count_med_at_p.values,\n",
    "        color='skyblue', \n",
    "        edgecolor='black'\n",
    "       )\n",
    "\n",
    "plt.xticks(rotation=45) \n",
    "plt.show()\n"
   ]
  },
  {
   "cell_type": "markdown",
   "id": "d2641f0d-80f2-493b-99b7-15476379a1e2",
   "metadata": {},
   "source": [
    "#### II. Numerical Variables:\n",
    "\n",
    "we need to understand the central tendency and spread of the variable (Descriptive Analysis) using:\n",
    "   - Box plot\n",
    "   - Histogram"
   ]
  },
  {
   "cell_type": "code",
   "execution_count": null,
   "id": "ef7766b2-d30f-4085-b30a-e0fe1064d944",
   "metadata": {},
   "outputs": [],
   "source": [
    "#data set one "
   ]
  },
  {
   "cell_type": "code",
   "execution_count": null,
   "id": "8e9b75c0-33dd-427b-993a-c340cf7b5415",
   "metadata": {},
   "outputs": [],
   "source": [
    "df_football_GK_Defenders_position.dtypes"
   ]
  },
  {
   "cell_type": "code",
   "execution_count": 198,
   "id": "5be16f08-a072-4a02-a3ee-6f9d57786fb4",
   "metadata": {},
   "outputs": [
    {
     "data": {
      "image/png": "[encoded data removed]",
      "text/plain": [
       "<Figure size 640x480 with 1 Axes>"
      ]
     },
     "metadata": {},
     "output_type": "display_data"
    }
   ],
   "source": [
    "plt.hist(df_football_GK['height'],\n",
    "         bins = 40\n",
    "        )\n",
    "plt.ylabel('Frequency')\n",
    "plt.show()"
   ]
  },
  {
   "cell_type": "code",
   "execution_count": 204,
   "id": "9f916c2a-5540-4073-8366-3426c176156d",
   "metadata": {},
   "outputs": [
    {
     "data": {
      "image/png": "[encoded data removed]",
      "text/plain": [
       "<Figure size 640x480 with 1 Axes>"
      ]
     },
     "metadata": {},
     "output_type": "display_data"
    }
   ],
   "source": [
    "plt.hist(df_football_GK['age'],\n",
    "         bins = 40\n",
    "        )\n",
    "plt.ylabel('Frequency')\n",
    "plt.show()"
   ]
  },
  {
   "cell_type": "code",
   "execution_count": 206,
   "id": "22bb5ca1-03fb-463c-852e-80d2a082a474",
   "metadata": {},
   "outputs": [],
   "source": [
    "df_football_GK = df_football_GK[(df_football_GK['age'] > 18) & \n",
    "(df_football_GK['age'] < 40) ]"
   ]
  },
  {
   "cell_type": "code",
   "execution_count": 208,
   "id": "47d00ac3-4d1e-42fa-adfe-4b2997368bf6",
   "metadata": {},
   "outputs": [
    {
     "data": {
      "image/png": "[encoded data removed]",
      "text/plain": [
       "<Figure size 640x480 with 1 Axes>"
      ]
     },
     "metadata": {},
     "output_type": "display_data"
    }
   ],
   "source": [
    "plt.hist(df_football_GK['goals conceded'],\n",
    "         bins = 40\n",
    "        )\n",
    "plt.ylabel('Frequency')\n",
    "plt.show()"
   ]
  },
  {
   "cell_type": "code",
   "execution_count": 226,
   "id": "289c376b-fe9f-4b25-a59b-9a5e86c0a3b1",
   "metadata": {},
   "outputs": [],
   "source": [
    "df_try_cut = df_football_GK[df_football_GK['goals conceded'] < 3]"
   ]
  },
  {
   "cell_type": "code",
   "execution_count": 230,
   "id": "d852a56d-03df-4800-bcd4-b5b60c97a220",
   "metadata": {},
   "outputs": [
    {
     "data": {
      "text/plain": [
       "(1158, 21)"
      ]
     },
     "execution_count": 230,
     "metadata": {},
     "output_type": "execute_result"
    }
   ],
   "source": [
    "df_try_cut.shape"
   ]
  },
  {
   "cell_type": "code",
   "execution_count": 228,
   "id": "15d5d8c1-369f-4971-ae06-5b4c1489af03",
   "metadata": {},
   "outputs": [
    {
     "data": {
      "image/png": "[encoded data removed]",
      "text/plain": [
       "<Figure size 640x480 with 1 Axes>"
      ]
     },
     "metadata": {},
     "output_type": "display_data"
    }
   ],
   "source": [
    "plt.hist(df_try_cut['goals conceded'],\n",
    "         bins = 40\n",
    "        )\n",
    "plt.ylabel('Frequency')\n",
    "plt.show()"
   ]
  },
  {
   "cell_type": "code",
   "execution_count": 232,
   "id": "d3a42117-df75-4d56-874a-f4bac747c0b1",
   "metadata": {},
   "outputs": [],
   "source": [
    "df_football_GK = df_football_GK[df_football_GK['goals conceded'] < 3]"
   ]
  },
  {
   "cell_type": "code",
   "execution_count": 241,
   "id": "f562ba47-8723-425e-8540-4b3436b17b93",
   "metadata": {},
   "outputs": [],
   "source": [
    "#### DEF:"
   ]
  },
  {
   "cell_type": "code",
   "execution_count": null,
   "id": "c1eea0ba-6238-499b-8ef0-89427da8a932",
   "metadata": {},
   "outputs": [],
   "source": [
    "df_cut_def = df_football_Defender[df_football_Defender['goals conceded'] < 3]"
   ]
  },
  {
   "cell_type": "code",
   "execution_count": null,
   "id": "bf6e8557-830f-4f59-a6e8-7270fe4b3500",
   "metadata": {},
   "outputs": [],
   "source": [
    "df_try_cut_ = df_football_GK_Defenders_position[(df_football_GK_Defenders_position['height'] > 165) & \n",
    "(df_football_GK_Defenders_position['height'] < 200) ]"
   ]
  },
  {
   "cell_type": "code",
   "execution_count": null,
   "id": "e74685fd-f479-4e3d-acaf-8a7067d2824d",
   "metadata": {},
   "outputs": [],
   "source": [
    "df_try_cut.shape"
   ]
  },
  {
   "cell_type": "code",
   "execution_count": null,
   "id": "ae37807b-4307-4554-a902-c2000e83da9e",
   "metadata": {},
   "outputs": [],
   "source": [
    "df_football_GK_Defenders_position.shape"
   ]
  },
  {
   "cell_type": "code",
   "execution_count": null,
   "id": "33dc10fb-1ac5-494a-a900-031c508e2e6a",
   "metadata": {},
   "outputs": [],
   "source": [
    "# remove out laier from height\n",
    "df_football_GK_Defenders_position = df_football_GK_Defenders_position[(df_football_GK_Defenders_position['height'] > 165) & \n",
    "(df_football_GK_Defenders_position['height'] < 200) ]"
   ]
  },
  {
   "cell_type": "code",
   "execution_count": null,
   "id": "bfb88e2b-7d59-4b15-8f97-d8cc3303e720",
   "metadata": {},
   "outputs": [],
   "source": [
    "plt.hist(df_football_GK_Defenders_position['age'],\n",
    "         bins = 40\n",
    "        ) \n",
    "plt.ylabel('Frequency')\n",
    "plt.show()"
   ]
  },
  {
   "cell_type": "code",
   "execution_count": null,
   "id": "d825c915-1e33-454b-ab12-e0b9d74f661a",
   "metadata": {},
   "outputs": [],
   "source": [
    "df_football_GK_Defenders_position.dtypes"
   ]
  },
  {
   "cell_type": "code",
   "execution_count": null,
   "id": "697303ba-9b07-4825-835e-cc60a83d0c54",
   "metadata": {},
   "outputs": [],
   "source": [
    "plt.hist(df_football_GK_Defenders_position['goals'],\n",
    "         bins = 40\n",
    "        ) \n",
    "plt.ylabel('Frequency')\n",
    "plt.show()"
   ]
  },
  {
   "cell_type": "code",
   "execution_count": null,
   "id": "fd349fce-caff-4942-89e1-e438ccbebdfc",
   "metadata": {},
   "outputs": [],
   "source": [
    "plt.hist(df_football_GK_Defenders_position['appearance'],\n",
    "         bins = 40\n",
    "        )\n",
    "plt.ylabel('Frequency')\n",
    "plt.show()"
   ]
  },
  {
   "cell_type": "code",
   "execution_count": null,
   "id": "4555547b-a163-4fba-b84f-47141772d318",
   "metadata": {},
   "outputs": [],
   "source": [
    " \n",
    "plt.hist(df_football_GK_Defenders_position['minutes played'],\n",
    "         bins = 40\n",
    "        )\n",
    "plt.ylabel('Frequency')\n",
    "plt.show()"
   ]
  },
  {
   "cell_type": "code",
   "execution_count": null,
   "id": "223c0f1f-6a77-4073-9972-ee5d90a69176",
   "metadata": {},
   "outputs": [],
   "source": []
  },
  {
   "cell_type": "code",
   "execution_count": null,
   "id": "c557d37a-f31f-4213-8f89-83b2fda616cc",
   "metadata": {},
   "outputs": [],
   "source": [
    "plt.hist(df_football_GK_Defenders_position['current_value'],\n",
    "         bins = 20\n",
    "        )\n",
    "plt.ylabel('Frequency')\n",
    "plt.show()"
   ]
  },
  {
   "cell_type": "code",
   "execution_count": null,
   "id": "404308f6-4367-447c-a016-580c4df6b30f",
   "metadata": {},
   "outputs": [],
   "source": [
    "df_football_GK_Defenders_position[['current_value']]"
   ]
  },
  {
   "cell_type": "code",
   "execution_count": null,
   "id": "fb786341-6dd9-4ce3-99ae-29f2f7e9d04b",
   "metadata": {},
   "outputs": [],
   "source": [
    "df_try_current_value = df_football_GK_Defenders_position[(df_football_GK_Defenders_position['current_value'] > 165) & \n",
    "(df_football_GK_Defenders_position['current_value'] < 200) ]"
   ]
  },
  {
   "cell_type": "code",
   "execution_count": null,
   "id": "8c2cace1-d51e-482b-a425-13f05fb55e75",
   "metadata": {},
   "outputs": [],
   "source": [
    "df_try_current_value = df_football_GK_Defenders_position[df_football_GK_Defenders_position['current_value'] < 5500000]"
   ]
  },
  {
   "cell_type": "code",
   "execution_count": null,
   "id": "c7099102-fd26-4fa5-95a1-e5e764e95726",
   "metadata": {},
   "outputs": [],
   "source": [
    "plt.hist(df_try_current_value['current_value'],\n",
    "         bins = 20\n",
    "        ) \n",
    "plt.ylabel('Frequency')\n",
    "plt.show()"
   ]
  },
  {
   "cell_type": "code",
   "execution_count": null,
   "id": "cc170059-cedb-4ec0-8fcd-7c38a9e311b8",
   "metadata": {},
   "outputs": [],
   "source": [
    "# if we cut here we will lost a lot of data"
   ]
  },
  {
   "cell_type": "code",
   "execution_count": null,
   "id": "308515a0-3d7b-4003-b116-94e29174ff3e",
   "metadata": {},
   "outputs": [],
   "source": [
    "df_football_GK_Defenders_position.shape"
   ]
  },
  {
   "cell_type": "code",
   "execution_count": null,
   "id": "47276fd7-196c-426c-a3db-e7da4b8082fd",
   "metadata": {},
   "outputs": [],
   "source": [
    "plt.hist(df_football_GK_Defenders_position['highest_value'],\n",
    "         bins = 20\n",
    "        )\n",
    "plt.ylabel('Frequency')\n",
    "plt.show()"
   ]
  },
  {
   "cell_type": "code",
   "execution_count": null,
   "id": "9c6e8a00-45eb-4737-976c-cf469f7e1731",
   "metadata": {},
   "outputs": [],
   "source": [
    "df_try_highest_value = df_football_GK_Defenders_position[df_football_GK_Defenders_position['highest_value'] < 5500000]"
   ]
  },
  {
   "cell_type": "code",
   "execution_count": null,
   "id": "7850e3a8-bdbb-482b-bf21-c3a9863e45e3",
   "metadata": {},
   "outputs": [],
   "source": [
    "plt.hist(df_try_highest_value['highest_value'],\n",
    "         bins = 20\n",
    "        )\n",
    "plt.ylabel('Frequency')\n",
    "plt.show()"
   ]
  },
  {
   "cell_type": "code",
   "execution_count": null,
   "id": "3a50a2b9-be6b-4a93-b84c-a473f2c7baeb",
   "metadata": {},
   "outputs": [],
   "source": [
    "# if we cut here we will lost a lot of data"
   ]
  },
  {
   "cell_type": "code",
   "execution_count": null,
   "id": "da10af28-3169-43cd-94b2-d5d2ada0c589",
   "metadata": {},
   "outputs": [],
   "source": []
  },
  {
   "cell_type": "code",
   "execution_count": null,
   "id": "8f25625b-4576-4301-ad09-7e27ca0fbcd6",
   "metadata": {},
   "outputs": [],
   "source": [
    "#data set 2 "
   ]
  },
  {
   "cell_type": "code",
   "execution_count": null,
   "id": "f4c222b8-f2d7-4802-96b2-4534c0c119e7",
   "metadata": {},
   "outputs": [],
   "source": [
    "##mid"
   ]
  },
  {
   "cell_type": "code",
   "execution_count": 253,
   "id": "d7a60c2a-2b65-465d-ae79-40a5885888aa",
   "metadata": {},
   "outputs": [],
   "source": [
    "df_football_attack_try_cut = df_football_attack [df_football_attack['goals'] <0.8]"
   ]
  },
  {
   "cell_type": "code",
   "execution_count": null,
   "id": "0335429d-5b0f-45ee-b474-694c5bb82041",
   "metadata": {},
   "outputs": [],
   "source": [
    "df_football_midfield_Attacks_position.head(3)"
   ]
  },
  {
   "cell_type": "code",
   "execution_count": null,
   "id": "a4767b60-677b-4ebc-924a-921ab3abf5c8",
   "metadata": {},
   "outputs": [],
   "source": [
    "#depandent on highst recoed in genits"
   ]
  },
  {
   "cell_type": "code",
   "execution_count": 255,
   "id": "82c8c875-851d-4302-bd5f-39d39102c019",
   "metadata": {},
   "outputs": [
    {
     "data": {
      "image/png": "[encoded data removed]",
      "text/plain": [
       "<Figure size 640x480 with 1 Axes>"
      ]
     },
     "metadata": {},
     "output_type": "display_data"
    }
   ],
   "source": [
    "plt.hist(df_football_attack_try_cut['goals'],\n",
    "         bins = 40\n",
    "        )\n",
    "plt.ylabel('Frequency')\n",
    "plt.show()"
   ]
  },
  {
   "cell_type": "code",
   "execution_count": 257,
   "id": "7a32a1b9-2d9c-41e1-a2c3-f602af57372c",
   "metadata": {},
   "outputs": [],
   "source": [
    "df_football_attack = df_football_attack [df_football_attack['goals'] <0.8]"
   ]
  },
  {
   "cell_type": "code",
   "execution_count": null,
   "id": "ba33845b-b161-4213-8456-e3b5982b03e5",
   "metadata": {},
   "outputs": [],
   "source": [
    "plt.hist(df_football_midfield_Attacks_position['height'],\n",
    "         bins = 40\n",
    "        )\n",
    "plt.ylabel('Frequency')\n",
    "plt.show()"
   ]
  },
  {
   "cell_type": "code",
   "execution_count": null,
   "id": "5992bb65-a3cb-463a-bc02-85c3ee4f6b0b",
   "metadata": {},
   "outputs": [],
   "source": [
    "df_try_cut_h2 = df_football_midfield_Attacks_position[(df_football_midfield_Attacks_position['height'] > 165) & \n",
    "(df_football_midfield_Attacks_position['height'] < 200) ]"
   ]
  },
  {
   "cell_type": "code",
   "execution_count": null,
   "id": "7723f9b7-2795-403c-9fe0-b9253dbc71b7",
   "metadata": {},
   "outputs": [],
   "source": [
    "plt.hist(df_try_cut_h2['height'],\n",
    "         bins = 40\n",
    "        )\n",
    "plt.ylabel('Frequency')\n",
    "plt.show()"
   ]
  },
  {
   "cell_type": "code",
   "execution_count": null,
   "id": "d1389289-f8d8-42aa-b9de-09a37137279d",
   "metadata": {},
   "outputs": [],
   "source": [
    "# we cut out laier\n",
    "df_football_midfield_Attacks_position = df_football_midfield_Attacks_position[(df_football_midfield_Attacks_position['height'] > 165) & (df_football_midfield_Attacks_position['height'] < 200) ]"
   ]
  },
  {
   "cell_type": "code",
   "execution_count": null,
   "id": "d107fbe8-0cdb-4bf5-af98-30d237162a24",
   "metadata": {},
   "outputs": [],
   "source": [
    "df_football_midfield_Attacks_position.shape"
   ]
  },
  {
   "cell_type": "code",
   "execution_count": null,
   "id": "ba258eca-a2e5-46c8-9103-d9662f5e2ed8",
   "metadata": {},
   "outputs": [],
   "source": []
  },
  {
   "cell_type": "markdown",
   "id": "d66677d3-44ad-414f-9b39-f9c1995ad043",
   "metadata": {},
   "source": [
    "### 2. Univariate Non-Graphical analysis: \n",
    "\n",
    "- Where is the center of the data? (location) --> **Measures of central tendency**\n",
    "- How much does the data vary? (scale) --> **Measure of variability**\n",
    "- What is the shape of the data? (shape) --> **Measures of variation combined with an average (measure of center) gives a good picture of the distribution of the data.**"
   ]
  },
  {
   "cell_type": "code",
   "execution_count": null,
   "id": "f1058d84-e61e-4f5b-b66a-29931e77821b",
   "metadata": {},
   "outputs": [],
   "source": []
  },
  {
   "cell_type": "markdown",
   "id": "f09bb809-0edd-432b-bf23-abd0840b3e16",
   "metadata": {},
   "source": [
    "## 4. Bivariate/Multivariate Analysis:\n",
    "\n",
    "Here, you look at the relationships between two or more variables. This can involve looking for correlations, patterns, and trends that suggest a relationship or an association.\n",
    "\n",
    "We can perform bi-variate analysis for any combination of categorical and numerical variables. The combination can be:\n",
    "| bi-variate variables   | Plot type |\n",
    "| ------------- | ------------- |\n",
    "| Categorical & Categorical| Stacked Bar Chart |\n",
    "| Categorical & numerical  | scatter plot, histogram, box plot|\n",
    "| numerical  & numerical  | Scatter plot, line chart| \n",
    "\n",
    "\n",
    "Multivariate Analysis:\n",
    "- Heat map\n",
    "- Bar Chart\n",
    "- Scatter Chart\n",
    "- Line Chart"
   ]
  },
  {
   "cell_type": "markdown",
   "id": "838f2864-ce9e-4f15-99c8-052d053154a7",
   "metadata": {},
   "source": [
    "**Categorical & Categorical --> (Stacked Column Chart)**"
   ]
  },
  {
   "cell_type": "code",
   "execution_count": null,
   "id": "73f9f2ac-8477-49ea-9c68-4fe44d4395b6",
   "metadata": {},
   "outputs": [],
   "source": []
  },
  {
   "cell_type": "markdown",
   "id": "730e088f-fe13-40da-8fbb-686f5135fa4d",
   "metadata": {},
   "source": [
    "**Categorical & numerical --> (scatter plot, histogram, box plot)**"
   ]
  },
  {
   "cell_type": "code",
   "execution_count": null,
   "id": "3590e345-2051-4215-91ac-07d196b510ef",
   "metadata": {},
   "outputs": [],
   "source": []
  },
  {
   "cell_type": "markdown",
   "id": "20aed48d-b78e-46da-963f-e7f15e2f4dc7",
   "metadata": {},
   "source": [
    "**numerical & numerical --> (Scatter plot, line chart)**"
   ]
  },
  {
   "cell_type": "code",
   "execution_count": null,
   "id": "41023177-01cb-4f39-a750-12be71b13bda",
   "metadata": {},
   "outputs": [],
   "source": []
  },
  {
   "cell_type": "markdown",
   "id": "efb43b30-b1f0-48a4-a19c-195810cc8a0f",
   "metadata": {},
   "source": [
    "We could also use a correlation matrix to get more specific information about the relationship between these two variables."
   ]
  },
  {
   "cell_type": "code",
   "execution_count": null,
   "id": "bb522848-7fcd-4894-82e5-7a6a19a7be88",
   "metadata": {},
   "outputs": [],
   "source": [
    "#data set 1 "
   ]
  },
  {
   "cell_type": "code",
   "execution_count": null,
   "id": "ab15a653-b88a-4cb6-adf9-5e52a51ae32f",
   "metadata": {},
   "outputs": [],
   "source": []
  },
  {
   "cell_type": "code",
   "execution_count": null,
   "id": "8406f58f-b825-4a15-8f6e-c68ca66bd483",
   "metadata": {},
   "outputs": [],
   "source": [
    "corr_matrix_1 = df_football_GK_Defenders_position.select_dtypes(include=np.number).corr()\n",
    "corr_matrix_1"
   ]
  },
  {
   "cell_type": "code",
   "execution_count": null,
   "id": "a704b006-001c-4618-b6ab-87d620ca4aab",
   "metadata": {},
   "outputs": [],
   "source": [
    "correlation_with_column_1 = corr_matrix_1[['current_value']]"
   ]
  },
  {
   "cell_type": "code",
   "execution_count": null,
   "id": "6ec93862-4568-4790-a7ec-b4f59820c09e",
   "metadata": {},
   "outputs": [],
   "source": [
    "# Create the heatmap\n",
    "plt.figure(figsize=(10, 8))\n",
    "sns.heatmap(correlation_with_column_1,\n",
    "            annot=True, \n",
    "            cmap='coolwarm',\n",
    "            fmt=\".1f\"\n",
    "           )\n",
    "\n",
    "plt.show()"
   ]
  },
  {
   "cell_type": "code",
   "execution_count": null,
   "id": "9aa50628-297f-4c3f-9120-08786127cc8b",
   "metadata": {},
   "outputs": [],
   "source": [
    "#data set 2"
   ]
  },
  {
   "cell_type": "code",
   "execution_count": null,
   "id": "0c87d669-a72c-456c-a1c4-48af46d0cf1b",
   "metadata": {},
   "outputs": [],
   "source": [
    "corr_matrix_2 = df_football_midfield_Attacks_position.select_dtypes(include=np.number).corr()\n",
    "corr_matrix_2"
   ]
  },
  {
   "cell_type": "code",
   "execution_count": null,
   "id": "402c93bd-62e1-4e48-a108-cb73d2fe7130",
   "metadata": {},
   "outputs": [],
   "source": [
    "correlation_with_column_2 = corr_matrix_2[['current_value']]"
   ]
  },
  {
   "cell_type": "code",
   "execution_count": null,
   "id": "a319521a-bb30-4854-b8a1-4caf5a1bd1e2",
   "metadata": {},
   "outputs": [],
   "source": [
    "# Create the heatmap\n",
    "plt.figure(figsize=(10, 8))\n",
    "sns.heatmap(correlation_with_column_1,\n",
    "            annot=True, \n",
    "            cmap='coolwarm',\n",
    "            fmt=\".1f\"\n",
    "           )\n",
    "\n",
    "plt.show()"
   ]
  },
  {
   "cell_type": "code",
   "execution_count": null,
   "id": "50e8410b-67d9-443f-83ff-6ae42f9c9edc",
   "metadata": {},
   "outputs": [],
   "source": [
    "df_football_GK_Defenders_position.to_csv('df_football_GK_Defenders_position_cleaned.csv')"
   ]
  },
  {
   "cell_type": "code",
   "execution_count": null,
   "id": "273f4a3b-fae9-4e50-8d3e-02e6025dfd40",
   "metadata": {},
   "outputs": [],
   "source": [
    "df_football_midfield_Attacks_position.to_csv('df_football_midfield_Attacks_position_cleaned_2.csv')"
   ]
  },
  {
   "cell_type": "code",
   "execution_count": null,
   "id": "ec3f4ac4-517c-4be2-ba6a-8463e99d4441",
   "metadata": {},
   "outputs": [],
   "source": []
  },
  {
   "cell_type": "code",
   "execution_count": 263,
   "id": "084e7e6c-a651-4fa0-9b46-8d39fff14718",
   "metadata": {},
   "outputs": [],
   "source": [
    "df_football_GK.to_csv('df_GK.csv')\n",
    "df_football_Defender.to_csv('df_def.csv')\n",
    "df_football_midfield.to_csv('df_mid.csv')\n",
    "df_football_attack.to_csv('df_att.csv')"
   ]
  },
  {
   "cell_type": "code",
   "execution_count": null,
   "id": "3876f3a1-43de-4ae4-9202-d7a495525281",
   "metadata": {},
   "outputs": [],
   "source": []
  }
 ],
 "metadata": {
  "kernelspec": {
   "display_name": "Python 3 (ipykernel)",
   "language": "python",
   "name": "python3"
  },
  "language_info": {
   "codemirror_mode": {
    "name": "ipython",
    "version": 3
   },
   "file_extension": ".py",
   "mimetype": "text/x-python",
   "name": "python",
   "nbconvert_exporter": "python",
   "pygments_lexer": "ipython3",
   "version": "3.11.7"
  }
 },
 "nbformat": 4,
 "nbformat_minor": 5
}
