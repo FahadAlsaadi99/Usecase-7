{
 "cells": [
  {
   "cell_type": "code",
   "execution_count": 1,
   "id": "00b1b9d1-a563-4783-927d-2512447a24e7",
   "metadata": {},
   "outputs": [],
   "source": [
    "# To ignore warnings\n",
    "import warnings\n",
    "warnings.filterwarnings(\"ignore\")\n",
    "import pandas as pd\n",
    "import numpy as np\n",
    "import matplotlib.pyplot as plt\n",
    "import seaborn as sns\n",
    "\n",
    "from sklearn.model_selection import train_test_split\n",
    "from sklearn.metrics import mean_squared_error, r2_score, mean_absolute_error\n",
    "from sklearn.preprocessing import StandardScaler\n",
    "from sklearn.linear_model import LinearRegression\n",
    "from sklearn import metrics\n",
    "\n",
    "%matplotlib inline"
   ]
  },
  {
   "cell_type": "code",
   "execution_count": 3,
   "id": "cea01266-fac1-4415-9fe3-3db9cf88e805",
   "metadata": {},
   "outputs": [],
   "source": [
    "df_football_GK_Defenders_position = pd.read_csv(r\"C:\\Users\\foooo\\Datascincecamp\\Usecase-7\\df_football_GK_Defenders_position_cleaned.csv\")"
   ]
  },
  {
   "cell_type": "code",
   "execution_count": 5,
   "id": "2a373fba-6e20-4788-bcf7-efec6e48035f",
   "metadata": {},
   "outputs": [
    {
     "data": {
      "text/plain": [
       "(5629, 20)"
      ]
     },
     "execution_count": 5,
     "metadata": {},
     "output_type": "execute_result"
    }
   ],
   "source": [
    "df_football_GK_Defenders_position.shape"
   ]
  },
  {
   "cell_type": "code",
   "execution_count": 7,
   "id": "957b5201-9669-4e88-b855-dc85864e2862",
   "metadata": {},
   "outputs": [
    {
     "data": {
      "text/html": [
       "<div>\n",
       "<style scoped>\n",
       "    .dataframe tbody tr th:only-of-type {\n",
       "        vertical-align: middle;\n",
       "    }\n",
       "\n",
       "    .dataframe tbody tr th {\n",
       "        vertical-align: top;\n",
       "    }\n",
       "\n",
       "    .dataframe thead th {\n",
       "        text-align: right;\n",
       "    }\n",
       "</style>\n",
       "<table border=\"1\" class=\"dataframe\">\n",
       "  <thead>\n",
       "    <tr style=\"text-align: right;\">\n",
       "      <th></th>\n",
       "      <th>Unnamed: 0</th>\n",
       "      <th>team</th>\n",
       "      <th>position</th>\n",
       "      <th>height</th>\n",
       "      <th>age</th>\n",
       "      <th>appearance</th>\n",
       "      <th>goals</th>\n",
       "      <th>assists</th>\n",
       "      <th>yellow cards</th>\n",
       "      <th>second yellow cards</th>\n",
       "      <th>red cards</th>\n",
       "      <th>goals conceded</th>\n",
       "      <th>clean sheets</th>\n",
       "      <th>minutes played</th>\n",
       "      <th>days_injured</th>\n",
       "      <th>games_injured</th>\n",
       "      <th>award</th>\n",
       "      <th>current_value</th>\n",
       "      <th>highest_value</th>\n",
       "      <th>position_encoded</th>\n",
       "    </tr>\n",
       "  </thead>\n",
       "  <tbody>\n",
       "    <tr>\n",
       "      <th>0</th>\n",
       "      <td>0</td>\n",
       "      <td>Manchester United</td>\n",
       "      <td>Goalkeeper</td>\n",
       "      <td>189.0</td>\n",
       "      <td>32</td>\n",
       "      <td>104</td>\n",
       "      <td>0.0</td>\n",
       "      <td>0.0</td>\n",
       "      <td>0.009585</td>\n",
       "      <td>0.0</td>\n",
       "      <td>0.0</td>\n",
       "      <td>1.217252</td>\n",
       "      <td>0.335463</td>\n",
       "      <td>9390</td>\n",
       "      <td>42</td>\n",
       "      <td>5</td>\n",
       "      <td>13</td>\n",
       "      <td>15000000</td>\n",
       "      <td>70000000</td>\n",
       "      <td>1</td>\n",
       "    </tr>\n",
       "    <tr>\n",
       "      <th>1</th>\n",
       "      <td>1</td>\n",
       "      <td>Manchester United</td>\n",
       "      <td>Goalkeeper</td>\n",
       "      <td>196.0</td>\n",
       "      <td>30</td>\n",
       "      <td>15</td>\n",
       "      <td>0.0</td>\n",
       "      <td>0.0</td>\n",
       "      <td>0.069018</td>\n",
       "      <td>0.0</td>\n",
       "      <td>0.0</td>\n",
       "      <td>1.242331</td>\n",
       "      <td>0.207055</td>\n",
       "      <td>1304</td>\n",
       "      <td>510</td>\n",
       "      <td>58</td>\n",
       "      <td>1</td>\n",
       "      <td>1500000</td>\n",
       "      <td>22000000</td>\n",
       "      <td>1</td>\n",
       "    </tr>\n",
       "  </tbody>\n",
       "</table>\n",
       "</div>"
      ],
      "text/plain": [
       "   Unnamed: 0               team    position  height  age  appearance  goals  \\\n",
       "0           0  Manchester United  Goalkeeper   189.0   32         104    0.0   \n",
       "1           1  Manchester United  Goalkeeper   196.0   30          15    0.0   \n",
       "\n",
       "   assists  yellow cards  second yellow cards  red cards  goals conceded  \\\n",
       "0      0.0      0.009585                  0.0        0.0        1.217252   \n",
       "1      0.0      0.069018                  0.0        0.0        1.242331   \n",
       "\n",
       "   clean sheets  minutes played  days_injured  games_injured  award  \\\n",
       "0      0.335463            9390            42              5     13   \n",
       "1      0.207055            1304           510             58      1   \n",
       "\n",
       "   current_value  highest_value  position_encoded  \n",
       "0       15000000       70000000                 1  \n",
       "1        1500000       22000000                 1  "
      ]
     },
     "execution_count": 7,
     "metadata": {},
     "output_type": "execute_result"
    }
   ],
   "source": [
    "df_football_GK_Defenders_position.head(2)"
   ]
  },
  {
   "cell_type": "code",
   "execution_count": 11,
   "id": "6c84c6a3-8b17-42ee-ba75-cc3dc805da36",
   "metadata": {},
   "outputs": [
    {
     "data": {
      "text/plain": [
       "Index(['Unnamed: 0', 'team', 'position', 'height', 'age', 'appearance',\n",
       "       'goals', 'assists', 'yellow cards', 'second yellow cards', 'red cards',\n",
       "       'goals conceded', 'clean sheets', 'minutes played', 'days_injured',\n",
       "       'games_injured', 'award', 'current_value', 'highest_value',\n",
       "       'position_encoded'],\n",
       "      dtype='object')"
      ]
     },
     "execution_count": 11,
     "metadata": {},
     "output_type": "execute_result"
    }
   ],
   "source": [
    "df_football_GK_Defenders_position.columns"
   ]
  },
  {
   "cell_type": "code",
   "execution_count": 15,
   "id": "28c19b32-a5e6-4d7f-aa06-84d03a4e9ffe",
   "metadata": {},
   "outputs": [],
   "source": [
    "df_football_GK_Defenders_position.drop('Unnamed: 0',axis=1, inplace= True)"
   ]
  },
  {
   "cell_type": "code",
   "execution_count": 19,
   "id": "26043024-dabc-4bb7-99b8-21d0e4de9998",
   "metadata": {},
   "outputs": [
    {
     "data": {
      "text/plain": [
       "team                    object\n",
       "position                object\n",
       "height                 float64\n",
       "age                      int64\n",
       "appearance               int64\n",
       "goals                  float64\n",
       "assists                float64\n",
       "yellow cards           float64\n",
       "second yellow cards    float64\n",
       "red cards              float64\n",
       "goals conceded         float64\n",
       "clean sheets           float64\n",
       "minutes played           int64\n",
       "days_injured             int64\n",
       "games_injured            int64\n",
       "award                    int64\n",
       "current_value            int64\n",
       "highest_value            int64\n",
       "position_encoded         int64\n",
       "dtype: object"
      ]
     },
     "execution_count": 19,
     "metadata": {},
     "output_type": "execute_result"
    }
   ],
   "source": [
    "df_football_GK_Defenders_position.dtypes"
   ]
  },
  {
   "cell_type": "code",
   "execution_count": 21,
   "id": "e498924a-ebb8-4d5c-981a-17a2b04c5dfa",
   "metadata": {},
   "outputs": [],
   "source": [
    "categorical_features = ['team' ,'position']\n",
    "numeric_features = ['position', 'height', 'age', 'appearance',\n",
    "       'goals', 'assists', 'yellow cards', 'second yellow cards', 'red cards',\n",
    "       'goals conceded', 'clean sheets', 'minutes played', 'days_injured',\n",
    "       'games_injured', 'award', 'current_value', 'highest_value',\n",
    "       'position_encoded']"
   ]
  },
  {
   "cell_type": "code",
   "execution_count": 23,
   "id": "450dd5ef-5c25-4bd3-bbf3-ade441d8c501",
   "metadata": {},
   "outputs": [],
   "source": [
    "df_football_GK_Defenders_position = pd.get_dummies(df_football_GK_Defenders_position, columns=categorical_features)"
   ]
  },
  {
   "cell_type": "code",
   "execution_count": 25,
   "id": "23f57eec-524c-490a-9a0f-99880047601c",
   "metadata": {},
   "outputs": [
    {
     "data": {
      "text/html": [
       "<div>\n",
       "<style scoped>\n",
       "    .dataframe tbody tr th:only-of-type {\n",
       "        vertical-align: middle;\n",
       "    }\n",
       "\n",
       "    .dataframe tbody tr th {\n",
       "        vertical-align: top;\n",
       "    }\n",
       "\n",
       "    .dataframe thead th {\n",
       "        text-align: right;\n",
       "    }\n",
       "</style>\n",
       "<table border=\"1\" class=\"dataframe\">\n",
       "  <thead>\n",
       "    <tr style=\"text-align: right;\">\n",
       "      <th></th>\n",
       "      <th>height</th>\n",
       "      <th>age</th>\n",
       "      <th>appearance</th>\n",
       "      <th>goals</th>\n",
       "      <th>assists</th>\n",
       "      <th>yellow cards</th>\n",
       "      <th>second yellow cards</th>\n",
       "      <th>red cards</th>\n",
       "      <th>goals conceded</th>\n",
       "      <th>clean sheets</th>\n",
       "      <th>...</th>\n",
       "      <th>team_Yokohama F. Marinos</th>\n",
       "      <th>team_Yokohama FC</th>\n",
       "      <th>team_Zenit St. Petersburg</th>\n",
       "      <th>team_Ümraniyespor</th>\n",
       "      <th>position_Defender</th>\n",
       "      <th>position_Defender Centre-Back</th>\n",
       "      <th>position_Defender Left-Back</th>\n",
       "      <th>position_Defender Right-Back</th>\n",
       "      <th>position_Goalkeeper</th>\n",
       "      <th>position_midfield-DefensiveMidfield</th>\n",
       "    </tr>\n",
       "  </thead>\n",
       "  <tbody>\n",
       "    <tr>\n",
       "      <th>0</th>\n",
       "      <td>189.0</td>\n",
       "      <td>32</td>\n",
       "      <td>104</td>\n",
       "      <td>0.0</td>\n",
       "      <td>0.0</td>\n",
       "      <td>0.009585</td>\n",
       "      <td>0.0</td>\n",
       "      <td>0.0</td>\n",
       "      <td>1.217252</td>\n",
       "      <td>0.335463</td>\n",
       "      <td>...</td>\n",
       "      <td>False</td>\n",
       "      <td>False</td>\n",
       "      <td>False</td>\n",
       "      <td>False</td>\n",
       "      <td>False</td>\n",
       "      <td>False</td>\n",
       "      <td>False</td>\n",
       "      <td>False</td>\n",
       "      <td>True</td>\n",
       "      <td>False</td>\n",
       "    </tr>\n",
       "  </tbody>\n",
       "</table>\n",
       "<p>1 rows × 397 columns</p>\n",
       "</div>"
      ],
      "text/plain": [
       "   height  age  appearance  goals  assists  yellow cards  second yellow cards  \\\n",
       "0   189.0   32         104    0.0      0.0      0.009585                  0.0   \n",
       "\n",
       "   red cards  goals conceded  clean sheets  ...  team_Yokohama F. Marinos  \\\n",
       "0        0.0        1.217252      0.335463  ...                     False   \n",
       "\n",
       "   team_Yokohama FC  team_Zenit St. Petersburg  team_Ümraniyespor  \\\n",
       "0             False                      False              False   \n",
       "\n",
       "   position_Defender  position_Defender Centre-Back  \\\n",
       "0              False                          False   \n",
       "\n",
       "   position_Defender Left-Back  position_Defender Right-Back  \\\n",
       "0                        False                         False   \n",
       "\n",
       "   position_Goalkeeper  position_midfield-DefensiveMidfield  \n",
       "0                 True                                False  \n",
       "\n",
       "[1 rows x 397 columns]"
      ]
     },
     "execution_count": 25,
     "metadata": {},
     "output_type": "execute_result"
    }
   ],
   "source": [
    "df_football_GK_Defenders_position.head(1)"
   ]
  },
  {
   "cell_type": "code",
   "execution_count": 27,
   "id": "48dcccc7-01f5-47a8-a2c8-bceefe34a724",
   "metadata": {},
   "outputs": [
    {
     "name": "stdout",
     "output_type": "stream",
     "text": [
      "current_value                  1.000000\n",
      "highest_value                  0.847484\n",
      "minutes played                 0.435470\n",
      "appearance                     0.435064\n",
      "award                          0.261865\n",
      "                                 ...   \n",
      "team_Jeonbuk Hyundai Motors   -0.024655\n",
      "position_Defender             -0.030689\n",
      "age                           -0.062845\n",
      "goals conceded                -0.078861\n",
      "position_Goalkeeper           -0.099745\n",
      "Name: current_value, Length: 397, dtype: float64\n"
     ]
    }
   ],
   "source": [
    "correlation = df_football_GK_Defenders_position.corr()\n",
    "print(correlation['current_value'].sort_values(ascending=False))"
   ]
  },
  {
   "cell_type": "code",
   "execution_count": 31,
   "id": "ef700fb4-f6a8-49a4-962b-2b126824edef",
   "metadata": {},
   "outputs": [
    {
     "data": {
      "text/plain": [
       "Index(['appearance', 'minutes played', 'current_value', 'highest_value'], dtype='object')"
      ]
     },
     "execution_count": 31,
     "metadata": {},
     "output_type": "execute_result"
    }
   ],
   "source": [
    "threshold = 0.4  # You can change this value based on your requirement\n",
    "\n",
    "# Filter the correlations\n",
    "# We use `abs()` for absolute value to consider both strong positive and negative correlations\n",
    "selected_features = correlation[abs(correlation['current_value']) > threshold]['current_value'].index\n",
    "selected_features"
   ]
  },
  {
   "cell_type": "code",
   "execution_count": 33,
   "id": "94c4b982-c05d-4cbd-bafe-45832b62181f",
   "metadata": {},
   "outputs": [],
   "source": [
    "selected_features = ['appearance', 'minutes played', 'current_value', 'highest_value']"
   ]
  },
  {
   "cell_type": "code",
   "execution_count": 37,
   "id": "0dfcef69-5a62-4d2c-ad61-f064fcd0af04",
   "metadata": {},
   "outputs": [
    {
     "data": {
      "text/html": [
       "<div>\n",
       "<style scoped>\n",
       "    .dataframe tbody tr th:only-of-type {\n",
       "        vertical-align: middle;\n",
       "    }\n",
       "\n",
       "    .dataframe tbody tr th {\n",
       "        vertical-align: top;\n",
       "    }\n",
       "\n",
       "    .dataframe thead th {\n",
       "        text-align: right;\n",
       "    }\n",
       "</style>\n",
       "<table border=\"1\" class=\"dataframe\">\n",
       "  <thead>\n",
       "    <tr style=\"text-align: right;\">\n",
       "      <th></th>\n",
       "      <th>appearance</th>\n",
       "      <th>minutes played</th>\n",
       "      <th>current_value</th>\n",
       "      <th>highest_value</th>\n",
       "    </tr>\n",
       "  </thead>\n",
       "  <tbody>\n",
       "    <tr>\n",
       "      <th>0</th>\n",
       "      <td>104</td>\n",
       "      <td>9390</td>\n",
       "      <td>15000000</td>\n",
       "      <td>70000000</td>\n",
       "    </tr>\n",
       "    <tr>\n",
       "      <th>1</th>\n",
       "      <td>15</td>\n",
       "      <td>1304</td>\n",
       "      <td>1500000</td>\n",
       "      <td>22000000</td>\n",
       "    </tr>\n",
       "    <tr>\n",
       "      <th>2</th>\n",
       "      <td>4</td>\n",
       "      <td>292</td>\n",
       "      <td>600000</td>\n",
       "      <td>6000000</td>\n",
       "    </tr>\n",
       "    <tr>\n",
       "      <th>3</th>\n",
       "      <td>82</td>\n",
       "      <td>6408</td>\n",
       "      <td>50000000</td>\n",
       "      <td>50000000</td>\n",
       "    </tr>\n",
       "    <tr>\n",
       "      <th>4</th>\n",
       "      <td>63</td>\n",
       "      <td>5031</td>\n",
       "      <td>40000000</td>\n",
       "      <td>80000000</td>\n",
       "    </tr>\n",
       "  </tbody>\n",
       "</table>\n",
       "</div>"
      ],
      "text/plain": [
       "   appearance  minutes played  current_value  highest_value\n",
       "0         104            9390       15000000       70000000\n",
       "1          15            1304        1500000       22000000\n",
       "2           4             292         600000        6000000\n",
       "3          82            6408       50000000       50000000\n",
       "4          63            5031       40000000       80000000"
      ]
     },
     "execution_count": 37,
     "metadata": {},
     "output_type": "execute_result"
    }
   ],
   "source": [
    "df_football_GK_Defenders_position = df_football_GK_Defenders_position[selected_features]\n",
    "df_football_GK_Defenders_position.head()"
   ]
  },
  {
   "cell_type": "code",
   "execution_count": 39,
   "id": "b26530cf-6699-4d74-9976-bcd7444f44dc",
   "metadata": {},
   "outputs": [],
   "source": [
    "X = df_football_GK_Defenders_position.drop(['current_value'], axis=1)\n",
    "y = df_football_GK_Defenders_position['current_value']\n",
    "\n",
    "# Split data into training and testing sets\n",
    "X_train, X_test, y_train, y_test = train_test_split(X, y,\n",
    "                                                    test_size=0.2,\n",
    "                                                    shuffle=True,\n",
    "                                                    random_state=42)\n",
    "\n",
    "# sacle the data\n",
    "scaler = StandardScaler()\n",
    "scaler.fit(X_train)\n",
    "X_train_scaled = scaler.transform(X_train)\n",
    "X_test_scaled = scaler.transform(X_test)"
   ]
  },
  {
   "cell_type": "code",
   "execution_count": 41,
   "id": "6ce3693a-40a7-496d-9ef6-392d3caae1b0",
   "metadata": {},
   "outputs": [],
   "source": [
    "model = LinearRegression()"
   ]
  },
  {
   "cell_type": "code",
   "execution_count": 43,
   "id": "9798ce77-d834-4025-978c-88e3e3b21f62",
   "metadata": {},
   "outputs": [
    {
     "data": {
      "text/html": [
       "<style>#sk-container-id-1 {color: black;background-color: white;}#sk-container-id-1 pre{padding: 0;}#sk-container-id-1 div.sk-toggleable {background-color: white;}#sk-container-id-1 label.sk-toggleable__label {cursor: pointer;display: block;width: 100%;margin-bottom: 0;padding: 0.3em;box-sizing: border-box;text-align: center;}#sk-container-id-1 label.sk-toggleable__label-arrow:before {content: \"▸\";float: left;margin-right: 0.25em;color: #696969;}#sk-container-id-1 label.sk-toggleable__label-arrow:hover:before {color: black;}#sk-container-id-1 div.sk-estimator:hover label.sk-toggleable__label-arrow:before {color: black;}#sk-container-id-1 div.sk-toggleable__content {max-height: 0;max-width: 0;overflow: hidden;text-align: left;background-color: #f0f8ff;}#sk-container-id-1 div.sk-toggleable__content pre {margin: 0.2em;color: black;border-radius: 0.25em;background-color: #f0f8ff;}#sk-container-id-1 input.sk-toggleable__control:checked~div.sk-toggleable__content {max-height: 200px;max-width: 100%;overflow: auto;}#sk-container-id-1 input.sk-toggleable__control:checked~label.sk-toggleable__label-arrow:before {content: \"▾\";}#sk-container-id-1 div.sk-estimator input.sk-toggleable__control:checked~label.sk-toggleable__label {background-color: #d4ebff;}#sk-container-id-1 div.sk-label input.sk-toggleable__control:checked~label.sk-toggleable__label {background-color: #d4ebff;}#sk-container-id-1 input.sk-hidden--visually {border: 0;clip: rect(1px 1px 1px 1px);clip: rect(1px, 1px, 1px, 1px);height: 1px;margin: -1px;overflow: hidden;padding: 0;position: absolute;width: 1px;}#sk-container-id-1 div.sk-estimator {font-family: monospace;background-color: #f0f8ff;border: 1px dotted black;border-radius: 0.25em;box-sizing: border-box;margin-bottom: 0.5em;}#sk-container-id-1 div.sk-estimator:hover {background-color: #d4ebff;}#sk-container-id-1 div.sk-parallel-item::after {content: \"\";width: 100%;border-bottom: 1px solid gray;flex-grow: 1;}#sk-container-id-1 div.sk-label:hover label.sk-toggleable__label {background-color: #d4ebff;}#sk-container-id-1 div.sk-serial::before {content: \"\";position: absolute;border-left: 1px solid gray;box-sizing: border-box;top: 0;bottom: 0;left: 50%;z-index: 0;}#sk-container-id-1 div.sk-serial {display: flex;flex-direction: column;align-items: center;background-color: white;padding-right: 0.2em;padding-left: 0.2em;position: relative;}#sk-container-id-1 div.sk-item {position: relative;z-index: 1;}#sk-container-id-1 div.sk-parallel {display: flex;align-items: stretch;justify-content: center;background-color: white;position: relative;}#sk-container-id-1 div.sk-item::before, #sk-container-id-1 div.sk-parallel-item::before {content: \"\";position: absolute;border-left: 1px solid gray;box-sizing: border-box;top: 0;bottom: 0;left: 50%;z-index: -1;}#sk-container-id-1 div.sk-parallel-item {display: flex;flex-direction: column;z-index: 1;position: relative;background-color: white;}#sk-container-id-1 div.sk-parallel-item:first-child::after {align-self: flex-end;width: 50%;}#sk-container-id-1 div.sk-parallel-item:last-child::after {align-self: flex-start;width: 50%;}#sk-container-id-1 div.sk-parallel-item:only-child::after {width: 0;}#sk-container-id-1 div.sk-dashed-wrapped {border: 1px dashed gray;margin: 0 0.4em 0.5em 0.4em;box-sizing: border-box;padding-bottom: 0.4em;background-color: white;}#sk-container-id-1 div.sk-label label {font-family: monospace;font-weight: bold;display: inline-block;line-height: 1.2em;}#sk-container-id-1 div.sk-label-container {text-align: center;}#sk-container-id-1 div.sk-container {/* jupyter's `normalize.less` sets `[hidden] { display: none; }` but bootstrap.min.css set `[hidden] { display: none !important; }` so we also need the `!important` here to be able to override the default hidden behavior on the sphinx rendered scikit-learn.org. See: https://github.com/scikit-learn/scikit-learn/issues/21755 */display: inline-block !important;position: relative;}#sk-container-id-1 div.sk-text-repr-fallback {display: none;}</style><div id=\"sk-container-id-1\" class=\"sk-top-container\"><div class=\"sk-text-repr-fallback\"><pre>LinearRegression()</pre><b>In a Jupyter environment, please rerun this cell to show the HTML representation or trust the notebook. <br />On GitHub, the HTML representation is unable to render, please try loading this page with nbviewer.org.</b></div><div class=\"sk-container\" hidden><div class=\"sk-item\"><div class=\"sk-estimator sk-toggleable\"><input class=\"sk-toggleable__control sk-hidden--visually\" id=\"sk-estimator-id-1\" type=\"checkbox\" checked><label for=\"sk-estimator-id-1\" class=\"sk-toggleable__label sk-toggleable__label-arrow\">LinearRegression</label><div class=\"sk-toggleable__content\"><pre>LinearRegression()</pre></div></div></div></div></div>"
      ],
      "text/plain": [
       "LinearRegression()"
      ]
     },
     "execution_count": 43,
     "metadata": {},
     "output_type": "execute_result"
    }
   ],
   "source": [
    "model.fit(X_train_scaled, y_train)"
   ]
  },
  {
   "cell_type": "code",
   "execution_count": 45,
   "id": "bf252e4e-75aa-4ce1-94f4-d647fcc59c24",
   "metadata": {},
   "outputs": [],
   "source": [
    "y_pred = model.predict(X_test_scaled)"
   ]
  },
  {
   "cell_type": "code",
   "execution_count": 47,
   "id": "8097099b-9924-4d36-b52b-a6233c895035",
   "metadata": {},
   "outputs": [
    {
     "data": {
      "text/plain": [
       "array([-642606.54732267, 1298764.26307753, 5893512.83455238])"
      ]
     },
     "execution_count": 47,
     "metadata": {},
     "output_type": "execute_result"
    }
   ],
   "source": [
    "model.coef_"
   ]
  },
  {
   "cell_type": "code",
   "execution_count": 49,
   "id": "64a9b6d0-dcd6-4dcd-a334-8611b7a21914",
   "metadata": {},
   "outputs": [
    {
     "data": {
      "text/html": [
       "<div>\n",
       "<style scoped>\n",
       "    .dataframe tbody tr th:only-of-type {\n",
       "        vertical-align: middle;\n",
       "    }\n",
       "\n",
       "    .dataframe tbody tr th {\n",
       "        vertical-align: top;\n",
       "    }\n",
       "\n",
       "    .dataframe thead th {\n",
       "        text-align: right;\n",
       "    }\n",
       "</style>\n",
       "<table border=\"1\" class=\"dataframe\">\n",
       "  <thead>\n",
       "    <tr style=\"text-align: right;\">\n",
       "      <th></th>\n",
       "      <th>Coefficient</th>\n",
       "    </tr>\n",
       "  </thead>\n",
       "  <tbody>\n",
       "    <tr>\n",
       "      <th>appearance</th>\n",
       "      <td>-6.426065e+05</td>\n",
       "    </tr>\n",
       "    <tr>\n",
       "      <th>minutes played</th>\n",
       "      <td>1.298764e+06</td>\n",
       "    </tr>\n",
       "    <tr>\n",
       "      <th>highest_value</th>\n",
       "      <td>5.893513e+06</td>\n",
       "    </tr>\n",
       "  </tbody>\n",
       "</table>\n",
       "</div>"
      ],
      "text/plain": [
       "                 Coefficient\n",
       "appearance     -6.426065e+05\n",
       "minutes played  1.298764e+06\n",
       "highest_value   5.893513e+06"
      ]
     },
     "execution_count": 49,
     "metadata": {},
     "output_type": "execute_result"
    }
   ],
   "source": [
    "coeff_df = pd.DataFrame(model.coef_,X.columns,columns=['Coefficient'])\n",
    "coeff_df"
   ]
  },
  {
   "cell_type": "code",
   "execution_count": 51,
   "id": "e744b1dc-f4cc-4ab6-a483-c50773fbb85e",
   "metadata": {},
   "outputs": [
    {
     "name": "stdout",
     "output_type": "stream",
     "text": [
      "2942388.407728181\n"
     ]
    }
   ],
   "source": [
    "print(model.intercept_) "
   ]
  }
 ],
 "metadata": {
  "kernelspec": {
   "display_name": "Python 3 (ipykernel)",
   "language": "python",
   "name": "python3"
  },
  "language_info": {
   "codemirror_mode": {
    "name": "ipython",
    "version": 3
   },
   "file_extension": ".py",
   "mimetype": "text/x-python",
   "name": "python",
   "nbconvert_exporter": "python",
   "pygments_lexer": "ipython3",
   "version": "3.11.7"
  }
 },
 "nbformat": 4,
 "nbformat_minor": 5
}
