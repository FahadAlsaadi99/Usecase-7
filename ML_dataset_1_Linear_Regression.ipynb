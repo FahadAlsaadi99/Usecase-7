{
 "cells": [
  {
   "cell_type": "code",
   "execution_count": 1,
   "id": "00b1b9d1-a563-4783-927d-2512447a24e7",
   "metadata": {},
   "outputs": [],
   "source": [
    "# To ignore warnings\n",
    "import warnings\n",
    "warnings.filterwarnings(\"ignore\")\n",
    "import pandas as pd\n",
    "import numpy as np\n",
    "import matplotlib.pyplot as plt\n",
    "import seaborn as sns\n",
    "\n",
    "from sklearn.model_selection import train_test_split\n",
    "from sklearn.metrics import mean_squared_error, r2_score, mean_absolute_error\n",
    "from sklearn.preprocessing import StandardScaler\n",
    "from sklearn.linear_model import LinearRegression\n",
    "from sklearn import metrics\n",
    "\n",
    "%matplotlib inline"
   ]
  },
  {
   "cell_type": "code",
   "execution_count": 2,
   "id": "cea01266-fac1-4415-9fe3-3db9cf88e805",
   "metadata": {},
   "outputs": [],
   "source": [
    "df_football_GK_Defenders_position = pd.read_csv(r\"C:\\Users\\foooo\\Datascincecamp\\Usecase-7\\df_football_GK_Defenders_position_cleaned.csv\")"
   ]
  },
  {
   "cell_type": "code",
   "execution_count": 3,
   "id": "f1e75b9c-1ac5-43f9-8863-0755a28b163d",
   "metadata": {},
   "outputs": [],
   "source": [
    "# I want get nathonalty"
   ]
  },
  {
   "cell_type": "code",
   "execution_count": 4,
   "id": "2a373fba-6e20-4788-bcf7-efec6e48035f",
   "metadata": {},
   "outputs": [
    {
     "data": {
      "text/plain": [
       "(5629, 20)"
      ]
     },
     "execution_count": 4,
     "metadata": {},
     "output_type": "execute_result"
    }
   ],
   "source": [
    "df_football_GK_Defenders_position.shape"
   ]
  },
  {
   "cell_type": "code",
   "execution_count": 5,
   "id": "957b5201-9669-4e88-b855-dc85864e2862",
   "metadata": {},
   "outputs": [
    {
     "data": {
      "text/html": [
       "<div>\n",
       "<style scoped>\n",
       "    .dataframe tbody tr th:only-of-type {\n",
       "        vertical-align: middle;\n",
       "    }\n",
       "\n",
       "    .dataframe tbody tr th {\n",
       "        vertical-align: top;\n",
       "    }\n",
       "\n",
       "    .dataframe thead th {\n",
       "        text-align: right;\n",
       "    }\n",
       "</style>\n",
       "<table border=\"1\" class=\"dataframe\">\n",
       "  <thead>\n",
       "    <tr style=\"text-align: right;\">\n",
       "      <th></th>\n",
       "      <th>Unnamed: 0</th>\n",
       "      <th>team</th>\n",
       "      <th>position</th>\n",
       "      <th>height</th>\n",
       "      <th>age</th>\n",
       "      <th>appearance</th>\n",
       "      <th>goals</th>\n",
       "      <th>assists</th>\n",
       "      <th>yellow cards</th>\n",
       "      <th>second yellow cards</th>\n",
       "      <th>red cards</th>\n",
       "      <th>goals conceded</th>\n",
       "      <th>clean sheets</th>\n",
       "      <th>minutes played</th>\n",
       "      <th>days_injured</th>\n",
       "      <th>games_injured</th>\n",
       "      <th>award</th>\n",
       "      <th>current_value</th>\n",
       "      <th>highest_value</th>\n",
       "      <th>position_encoded</th>\n",
       "    </tr>\n",
       "  </thead>\n",
       "  <tbody>\n",
       "    <tr>\n",
       "      <th>0</th>\n",
       "      <td>0</td>\n",
       "      <td>Manchester United</td>\n",
       "      <td>Goalkeeper</td>\n",
       "      <td>189.0</td>\n",
       "      <td>32</td>\n",
       "      <td>104</td>\n",
       "      <td>0.0</td>\n",
       "      <td>0.0</td>\n",
       "      <td>0.009585</td>\n",
       "      <td>0.0</td>\n",
       "      <td>0.0</td>\n",
       "      <td>1.217252</td>\n",
       "      <td>0.335463</td>\n",
       "      <td>9390</td>\n",
       "      <td>42</td>\n",
       "      <td>5</td>\n",
       "      <td>13</td>\n",
       "      <td>15000000</td>\n",
       "      <td>70000000</td>\n",
       "      <td>1</td>\n",
       "    </tr>\n",
       "    <tr>\n",
       "      <th>1</th>\n",
       "      <td>1</td>\n",
       "      <td>Manchester United</td>\n",
       "      <td>Goalkeeper</td>\n",
       "      <td>196.0</td>\n",
       "      <td>30</td>\n",
       "      <td>15</td>\n",
       "      <td>0.0</td>\n",
       "      <td>0.0</td>\n",
       "      <td>0.069018</td>\n",
       "      <td>0.0</td>\n",
       "      <td>0.0</td>\n",
       "      <td>1.242331</td>\n",
       "      <td>0.207055</td>\n",
       "      <td>1304</td>\n",
       "      <td>510</td>\n",
       "      <td>58</td>\n",
       "      <td>1</td>\n",
       "      <td>1500000</td>\n",
       "      <td>22000000</td>\n",
       "      <td>1</td>\n",
       "    </tr>\n",
       "  </tbody>\n",
       "</table>\n",
       "</div>"
      ],
      "text/plain": [
       "   Unnamed: 0               team    position  height  age  appearance  goals  \\\n",
       "0           0  Manchester United  Goalkeeper   189.0   32         104    0.0   \n",
       "1           1  Manchester United  Goalkeeper   196.0   30          15    0.0   \n",
       "\n",
       "   assists  yellow cards  second yellow cards  red cards  goals conceded  \\\n",
       "0      0.0      0.009585                  0.0        0.0        1.217252   \n",
       "1      0.0      0.069018                  0.0        0.0        1.242331   \n",
       "\n",
       "   clean sheets  minutes played  days_injured  games_injured  award  \\\n",
       "0      0.335463            9390            42              5     13   \n",
       "1      0.207055            1304           510             58      1   \n",
       "\n",
       "   current_value  highest_value  position_encoded  \n",
       "0       15000000       70000000                 1  \n",
       "1        1500000       22000000                 1  "
      ]
     },
     "execution_count": 5,
     "metadata": {},
     "output_type": "execute_result"
    }
   ],
   "source": [
    "df_football_GK_Defenders_position.head(2)"
   ]
  },
  {
   "cell_type": "code",
   "execution_count": 6,
   "id": "6c84c6a3-8b17-42ee-ba75-cc3dc805da36",
   "metadata": {},
   "outputs": [
    {
     "data": {
      "text/plain": [
       "Index(['Unnamed: 0', 'team', 'position', 'height', 'age', 'appearance',\n",
       "       'goals', 'assists', 'yellow cards', 'second yellow cards', 'red cards',\n",
       "       'goals conceded', 'clean sheets', 'minutes played', 'days_injured',\n",
       "       'games_injured', 'award', 'current_value', 'highest_value',\n",
       "       'position_encoded'],\n",
       "      dtype='object')"
      ]
     },
     "execution_count": 6,
     "metadata": {},
     "output_type": "execute_result"
    }
   ],
   "source": [
    "df_football_GK_Defenders_position.columns"
   ]
  },
  {
   "cell_type": "code",
   "execution_count": 7,
   "id": "28c19b32-a5e6-4d7f-aa06-84d03a4e9ffe",
   "metadata": {},
   "outputs": [],
   "source": [
    "df_football_GK_Defenders_position.drop('Unnamed: 0',axis=1, inplace= True)"
   ]
  },
  {
   "cell_type": "code",
   "execution_count": 8,
   "id": "26043024-dabc-4bb7-99b8-21d0e4de9998",
   "metadata": {},
   "outputs": [
    {
     "data": {
      "text/plain": [
       "team                    object\n",
       "position                object\n",
       "height                 float64\n",
       "age                      int64\n",
       "appearance               int64\n",
       "goals                  float64\n",
       "assists                float64\n",
       "yellow cards           float64\n",
       "second yellow cards    float64\n",
       "red cards              float64\n",
       "goals conceded         float64\n",
       "clean sheets           float64\n",
       "minutes played           int64\n",
       "days_injured             int64\n",
       "games_injured            int64\n",
       "award                    int64\n",
       "current_value            int64\n",
       "highest_value            int64\n",
       "position_encoded         int64\n",
       "dtype: object"
      ]
     },
     "execution_count": 8,
     "metadata": {},
     "output_type": "execute_result"
    }
   ],
   "source": [
    "df_football_GK_Defenders_position.dtypes"
   ]
  },
  {
   "cell_type": "code",
   "execution_count": 9,
   "id": "7e556aad-3137-4830-8208-61d8ca07190d",
   "metadata": {},
   "outputs": [],
   "source": [
    "df_football_GK_Defenders_position_copy = df_football_GK_Defenders_position.copy()"
   ]
  },
  {
   "cell_type": "code",
   "execution_count": 10,
   "id": "35515627-e206-4034-8f28-08419a8855f5",
   "metadata": {},
   "outputs": [
    {
     "data": {
      "text/plain": [
       "array(['Manchester United', 'West Ham United', 'Leicester City',\n",
       "       'Aston Villa', 'Wolverhampton Wanderers', 'Southampton FC',\n",
       "       'Brighton &amp; Hove Albion', 'Everton FC', 'Nottingham Forest',\n",
       "       'Leeds United', 'Crystal Palace', 'Fulham FC', 'AFC Bournemouth',\n",
       "       'Brentford FC', 'Liverpool FC', 'Newcastle United',\n",
       "       'Manchester City', 'Arsenal FC', 'Tottenham Hotspur', 'Chelsea FC',\n",
       "       'Borussia Mönchengladbach', 'VfL Wolfsburg', 'TSG 1899 Hoffenheim',\n",
       "       '1.FC Union Berlin', 'FC Augsburg', 'VfB Stuttgart',\n",
       "       '1.FSV Mainz 05', '1.FC Köln', 'Hertha BSC', 'FC Schalke 04',\n",
       "       'VfL Bochum', 'SV Werder Bremen', 'Eintracht Frankfurt',\n",
       "       'SC Freiburg', 'Borussia Dortmund', 'Bayer 04 Leverkusen',\n",
       "       'Bayern Munich', 'RB Leipzig', 'Real Sociedad', 'Villarreal CF',\n",
       "       'Real Betis Balompié', 'Athletic Bilbao', 'Valencia CF',\n",
       "       'Sevilla FC', 'Celta de Vigo', 'CA Osasuna', 'Girona FC',\n",
       "       'Rayo Vallecano', 'RCD Mallorca', 'UD Almería',\n",
       "       'Real Valladolid CF', 'Cádiz CF', 'Elche CF',\n",
       "       'RCD Espanyol Barcelona', 'Getafe CF', 'Atlético de Madrid',\n",
       "       'Real Madrid', 'FC Barcelona', 'AS Roma', 'SS Lazio',\n",
       "       'ACF Fiorentina', 'US Sassuolo', 'Torino FC', 'Udinese Calcio',\n",
       "       'Bologna FC 1909', 'AC Monza', 'FC Empoli', 'US Lecce',\n",
       "       'Spezia Calcio', 'Hellas Verona', 'UC Sampdoria', 'US Cremonese',\n",
       "       'US Salernitana 1919', 'Atalanta BC', 'SSC Napoli', 'Inter Milan',\n",
       "       'AC Milan', 'Juventus FC', 'AS Monaco', 'Stade Rennais FC',\n",
       "       'Olympique Marseille', 'OGC Nice', 'RC Lens', 'FC Nantes',\n",
       "       'Montpellier HSC', 'FC Lorient', 'FC Toulouse', 'ESTAC Troyes',\n",
       "       'Stade Brestois 29', 'Angers SCO', 'AJ Auxerre',\n",
       "       'Clermont Foot 63', 'AC Ajaccio', 'Olympique Lyon', 'LOSC Lille',\n",
       "       'Stade Reims', 'RC Strasbourg Alsace', 'Paris Saint-Germain',\n",
       "       'AZ Alkmaar', 'Twente Enschede FC', 'Vitesse Arnhem',\n",
       "       'FC Groningen', 'Fortuna Sittard', 'NEC Nijmegen',\n",
       "       'Sparta Rotterdam', 'SC Cambuur Leeuwarden', 'Excelsior Rotterdam',\n",
       "       'FC Volendam', 'RKC Waalwijk', 'FC Emmen', 'Go Ahead Eagles',\n",
       "       'FC Utrecht', 'SC Heerenveen', 'Ajax Amsterdam', 'PSV Eindhoven',\n",
       "       'Feyenoord Rotterdam', 'Club Athletico Paranaense',\n",
       "       'Red Bull Bragantino', 'Santos FC',\n",
       "       'Clube de Regatas Vasco da Gama', 'Fluminense Football Club',\n",
       "       'Sport Club Internacional', 'Esporte Clube Bahia',\n",
       "       'Grêmio Foot-Ball Porto Alegrense', 'Coritiba Foot Ball Club',\n",
       "       'Fortaleza Esporte Clube', 'Cruzeiro Esporte Clube',\n",
       "       'Goiás Esporte Clube', 'Cuiabá Esporte Clube (MT)',\n",
       "       'Botafogo de Futebol e Regatas', 'Clube Atlético Mineiro',\n",
       "       'São Paulo Futebol Clube', 'América Futebol Clube (MG)',\n",
       "       'Sociedade Esportiva Palmeiras', 'CR Flamengo',\n",
       "       'Sport Club Corinthians Paulista', 'SC Braga', 'FC Famalicão',\n",
       "       'Vitória Guimarães SC', 'CD Santa Clara', 'GD Estoril Praia',\n",
       "       'Boavista FC', 'Portimonense SC', 'CS Marítimo', 'Casa Pia AC',\n",
       "       'FC Paços de Ferreira', 'FC Arouca', 'FC Vizela', 'Rio Ave FC',\n",
       "       'GD Chaves', 'Gil Vicente FC', 'FC Porto', 'Sporting CP',\n",
       "       'SL Benfica', 'Santos Laguna', 'Club León FC', 'FC Juárez',\n",
       "       'Club Tijuana', 'Atlético de San Luis', 'Club Necaxa', 'Puebla FC',\n",
       "       'Mazatlán FC', 'Querétaro FC', 'CF América', 'CF Monterrey',\n",
       "       'Atlas Guadalajara', 'UNAM Pumas', 'Deportivo Toluca',\n",
       "       'Tigres UANL', 'Deportivo Guadalajara', 'CD Cruz Azul',\n",
       "       'CF Pachuca', 'Dynamo Moscow', 'Lokomotiv Moscow', 'FK Rostov',\n",
       "       'Krylya Sovetov Samara', 'FC Sochi', 'Akhmat Grozny',\n",
       "       'Ural Yekaterinburg', 'FK Orenburg', 'FC Pari Nizhniy Novgorod',\n",
       "       'FK Khimki', 'Torpedo Moscow', 'Fakel Voronezh', 'Spartak Moscow',\n",
       "       'CSKA Moscow', 'FK Krasnodar', 'Zenit St. Petersburg',\n",
       "       'West Bromwich Albion', 'Sunderland AFC', 'Hull City',\n",
       "       'Preston North End', 'Stoke City', 'Queens Park Rangers',\n",
       "       'Birmingham City', 'Cardiff City', 'Millwall FC', 'Reading FC',\n",
       "       'Blackpool FC', 'Bristol City', 'Huddersfield Town',\n",
       "       'Rotherham United', 'Wigan Athletic', 'Middlesbrough FC',\n",
       "       'Coventry City', 'Luton Town', 'Swansea City', 'Burnley FC',\n",
       "       'Watford FC', 'Sheffield United', 'Blackburn Rovers',\n",
       "       'Norwich City', 'Trabzonspor', 'Besiktas JK', 'Basaksehir FK',\n",
       "       'Antalyaspor', 'Adana Demirspor', 'Alanyaspor', 'Kasimpasa',\n",
       "       'Konyaspor', 'MKE Ankaragücü', 'Sivasspor', 'Kayserispor',\n",
       "       'Giresunspor', 'Istanbulspor', 'Hatayspor', 'Gaziantep FK',\n",
       "       'Fatih Karagümrük', 'Ümraniyespor', 'Fenerbahce', 'Galatasaray',\n",
       "       'SK Sturm Graz', 'LASK', 'SCR Altach', 'SC Austria Lustenau',\n",
       "       'SV Ried', 'TSV Hartberg', 'WSG Tirol', 'Rapid Vienna',\n",
       "       'Austria Vienna', 'SK Austria Klagenfurt', 'Wolfsberger AC',\n",
       "       'Red Bull Salzburg', 'Philadelphia Union', 'FC Cincinnati',\n",
       "       'FC Dallas', 'Orlando City SC', 'Los Angeles Galaxy',\n",
       "       'New England Revolution', 'D.C. United', 'New York Red Bulls',\n",
       "       'Portland Timbers', 'Columbus Crew', 'Charlotte FC',\n",
       "       'Sporting Kansas City', 'Colorado Rapids',\n",
       "       'Vancouver Whitecaps FC', 'Chicago Fire FC', 'Inter Miami CF',\n",
       "       'Minnesota United FC', 'Houston Dynamo FC', 'St. Louis CITY SC',\n",
       "       'CF Montréal', 'Real Salt Lake City', 'Nashville SC',\n",
       "       'San Jose Earthquakes', 'Seattle Sounders FC', 'Atlanta United FC',\n",
       "       'New York City FC', 'Austin FC', 'Los Angeles FC', 'Toronto FC',\n",
       "       'CA Vélez Sarsfield', 'CA San Lorenzo de Almagro',\n",
       "       'Club Atlético Lanús', 'Defensa y Justicia',\n",
       "       'Club Estudiantes de La Plata', \"CA Newell's Old Boys\", 'CA Colon',\n",
       "       'CA Rosario Central', 'CA Banfield',\n",
       "       'Club de Gimnasia y Esgrima La Plata', 'Club Atlético Tucumán',\n",
       "       'CD Godoy Cruz Antonio Tomba', 'Club Atlético Unión',\n",
       "       'Club Atlético Platense', 'Instituto AC Córdoba',\n",
       "       'CA Sarmiento (Junin)', 'CA Central Córdoba (SdE)',\n",
       "       'CA Barracas Central', 'Arsenal Fútbol Club',\n",
       "       'Club Atlético Talleres', 'Club Atlético Belgrano',\n",
       "       'AA Argentinos Juniors', 'CA Independiente', 'Club Atlético Tigre',\n",
       "       'CA River Plate', 'CA Boca Juniors', 'CA Huracán', 'Racing Club',\n",
       "       'Kawasaki Frontale', 'Yokohama F. Marinos', 'Cerezo Osaka',\n",
       "       'Kyoto Sanga', 'FC Tokyo', 'Nagoya Grampus', 'Kashiwa Reysol',\n",
       "       'Yokohama FC', 'Avispa Fukuoka', 'Sagan Tosu', 'Vissel Kobe',\n",
       "       'Hokkaido Consadole Sapporo', 'Shonan Bellmare', 'Albirex Niigata',\n",
       "       'Kashima Antlers', 'Sanfrecce Hiroshima', 'Urawa Red Diamonds',\n",
       "       'Gamba Osaka', 'Al-Shabab Club (Riyadh)', 'Ettifaq FC',\n",
       "       'Al-Taawoun FC', 'Al-Wehda FC', 'Damac FC', 'Al-Tai',\n",
       "       'Al-Fayha FC', 'Abha Club', 'Al-Khaleej', 'Al-Raed SFC',\n",
       "       'Al-Batin FC', 'Al-Adalah FC', 'Al-Ittihad Club (Jeddah)',\n",
       "       'Al-Fateh SC', 'Al-Hilal Saudi FC', 'Al-Nassr FC',\n",
       "       'Suwon Samsung Bluewings', 'Jeju United', 'Incheon United',\n",
       "       'Gangwon FC', 'Daejeon Hana Citizen', 'Gwangju FC', 'Daegu FC',\n",
       "       'Suwon FC', 'Pohang Steelers', 'FC Seoul',\n",
       "       'Jeonbuk Hyundai Motors', 'Ulsan Hyundai', 'Sekhukhune United FC',\n",
       "       'AmaZulu FC', 'Lamontville Golden Arrows', 'Stellenbosch FC',\n",
       "       'Swallows FC', 'Maritzburg United FC', 'Royal AM FC',\n",
       "       'TS Galaxy FC', 'Richards Bay FC', 'Marumo Gallants FC',\n",
       "       'Cape Town City FC', 'Orlando Pirates', 'SuperSport United',\n",
       "       'Chippa United', 'Mamelodi Sundowns FC', 'Kaizer Chiefs',\n",
       "       'Melbourne Victory', 'Western United FC', 'Newcastle United Jets',\n",
       "       'Perth Glory', 'Macarthur FC', 'Brisbane Roar',\n",
       "       'Central Coast Mariners', 'Wellington Phoenix',\n",
       "       'Melbourne City FC', 'Sydney FC', 'Adelaide United',\n",
       "       'Western Sydney Wanderers'], dtype=object)"
      ]
     },
     "execution_count": 10,
     "metadata": {},
     "output_type": "execute_result"
    }
   ],
   "source": [
    "df_football_GK_Defenders_position_copy['team'].unique()"
   ]
  },
  {
   "cell_type": "code",
   "execution_count": 11,
   "id": "7ddc567b-9762-408d-8659-ffff64741860",
   "metadata": {},
   "outputs": [
    {
     "data": {
      "text/plain": [
       "374"
      ]
     },
     "execution_count": 11,
     "metadata": {},
     "output_type": "execute_result"
    }
   ],
   "source": [
    "len(df_football_GK_Defenders_position_copy['team'].unique())"
   ]
  },
  {
   "cell_type": "code",
   "execution_count": 12,
   "id": "5ef95381-5a79-45dd-99e9-fcd884b9fa60",
   "metadata": {},
   "outputs": [
    {
     "name": "stdout",
     "output_type": "stream",
     "text": [
      "365\n"
     ]
    }
   ],
   "source": [
    "\n",
    "\n",
    "# الدوري الإنجليزي الممتاز (Premier League)\n",
    "premier_league = [\n",
    "    'Manchester United', 'West Ham United', 'Leicester City',\n",
    "    'Aston Villa', 'Wolverhampton Wanderers', 'Southampton FC',\n",
    "    'Brighton & Hove Albion', 'Everton FC', 'Nottingham Forest',\n",
    "    'Leeds United', 'Crystal Palace', 'Fulham FC', 'AFC Bournemouth',\n",
    "    'Brentford FC', 'Liverpool FC', 'Newcastle United', 'Manchester City',\n",
    "    'Arsenal FC', 'Tottenham Hotspur', 'Chelsea FC'\n",
    "]\n",
    "\n",
    "# الدوري الألماني (Bundesliga)\n",
    "bundesliga = [\n",
    "    'Borussia Mönchengladbach', 'VfL Wolfsburg', 'TSG 1899 Hoffenheim',\n",
    "    '1.FC Union Berlin', 'FC Augsburg', 'VfB Stuttgart', '1.FSV Mainz 05',\n",
    "    '1.FC Köln', 'Hertha BSC', 'FC Schalke 04', 'VfL Bochum', 'SV Werder Bremen',\n",
    "    'Eintracht Frankfurt', 'SC Freiburg', 'Borussia Dortmund', 'Bayer 04 Leverkusen',\n",
    "    'Bayern Munich', 'RB Leipzig'\n",
    "]\n",
    "\n",
    "# الدوري الإسباني (La Liga)\n",
    "la_liga = [\n",
    "    'Real Sociedad', 'Villarreal CF', 'Real Betis Balompié', 'Athletic Bilbao',\n",
    "    'Valencia CF', 'Sevilla FC', 'Celta de Vigo', 'CA Osasuna', 'Girona FC',\n",
    "    'Rayo Vallecano', 'RCD Mallorca', 'UD Almería', 'Real Valladolid CF',\n",
    "    'Cádiz CF', 'Elche CF', 'RCD Espanyol Barcelona', 'Getafe CF',\n",
    "    'Atlético de Madrid', 'Real Madrid', 'FC Barcelona'\n",
    "]\n",
    "\n",
    "# الدوري الإيطالي (Serie A)\n",
    "serie_a = [\n",
    "    'AS Roma', 'SS Lazio', 'ACF Fiorentina', 'US Sassuolo', 'Torino FC',\n",
    "    'Udinese Calcio', 'Bologna FC 1909', 'AC Monza', 'FC Empoli',\n",
    "    'US Lecce', 'Spezia Calcio', 'Hellas Verona', 'UC Sampdoria',\n",
    "    'US Cremonese', 'US Salernitana 1919', 'Atalanta BC', 'SSC Napoli',\n",
    "    'Inter Milan', 'AC Milan', 'Juventus FC'\n",
    "]\n",
    "\n",
    "# الدوري الفرنسي (Ligue 1)\n",
    "ligue_1 = [\n",
    "    'AS Monaco', 'Stade Rennais FC', 'Olympique Marseille', 'OGC Nice',\n",
    "    'RC Lens', 'FC Nantes', 'Montpellier HSC', 'FC Lorient', 'FC Toulouse',\n",
    "    'ESTAC Troyes', 'Stade Brestois 29', 'Angers SCO', 'AJ Auxerre',\n",
    "    'Clermont Foot 63', 'AC Ajaccio', 'Olympique Lyon', 'LOSC Lille',\n",
    "    'Stade Reims', 'RC Strasbourg Alsace', 'Paris Saint-Germain'\n",
    "]\n",
    "\n",
    "# الدوري الهولندي (Eredivisie)\n",
    "eredivisie = [\n",
    "    'AZ Alkmaar', 'Twente Enschede FC', 'Vitesse Arnhem', 'FC Groningen',\n",
    "    'Fortuna Sittard', 'NEC Nijmegen', 'Sparta Rotterdam',\n",
    "    'SC Cambuur Leeuwarden', 'Excelsior Rotterdam', 'FC Volendam',\n",
    "    'RKC Waalwijk', 'FC Emmen', 'Go Ahead Eagles', 'FC Utrecht',\n",
    "    'SC Heerenveen', 'Ajax Amsterdam', 'PSV Eindhoven', 'Feyenoord Rotterdam'\n",
    "]\n",
    "\n",
    "# الدوري البرازيلي (Brasileirão)\n",
    "brasileirao = [\n",
    "    'Club Athletico Paranaense', 'Red Bull Bragantino', 'Santos FC',\n",
    "    'Clube de Regatas Vasco da Gama', 'Fluminense Football Club',\n",
    "    'Sport Club Internacional', 'Esporte Clube Bahia',\n",
    "    'Grêmio Foot-Ball Porto Alegrense', 'Coritiba Foot Ball Club',\n",
    "    'Fortaleza Esporte Clube', 'Cruzeiro Esporte Clube', 'Goiás Esporte Clube',\n",
    "    'Cuiabá Esporte Clube (MT)', 'Botafogo de Futebol e Regatas',\n",
    "    'Clube Atlético Mineiro', 'São Paulo Futebol Clube',\n",
    "    'América Futebol Clube (MG)', 'Sociedade Esportiva Palmeiras',\n",
    "    'CR Flamengo', 'Sport Club Corinthians Paulista'\n",
    "]\n",
    "\n",
    "# الدوري البرتغالي (Primeira Liga)\n",
    "primeira_liga = [\n",
    "    'SC Braga', 'FC Famalicão', 'Vitória Guimarães SC', 'CD Santa Clara',\n",
    "    'GD Estoril Praia', 'Boavista FC', 'Portimonense SC', 'CS Marítimo',\n",
    "    'Casa Pia AC', 'FC Paços de Ferreira', 'FC Arouca', 'FC Vizela',\n",
    "    'Rio Ave FC', 'GD Chaves', 'Gil Vicente FC', 'FC Porto', 'Sporting CP',\n",
    "    'SL Benfica'\n",
    "]\n",
    "\n",
    "# الدوري المكسيكي (Liga MX)\n",
    "liga_mx = [\n",
    "    'Santos Laguna', 'Club León FC', 'FC Juárez', 'Club Tijuana',\n",
    "    'Atlético de San Luis', 'Club Necaxa', 'Puebla FC', 'Mazatlán FC',\n",
    "    'Querétaro FC', 'CF América', 'CF Monterrey', 'Atlas Guadalajara',\n",
    "    'UNAM Pumas', 'Deportivo Toluca', 'Tigres UANL', 'Deportivo Guadalajara',\n",
    "    'CD Cruz Azul', 'CF Pachuca'\n",
    "]\n",
    "\n",
    "# الدوري الروسي (Russian Premier League)\n",
    "russian_premier_league = [\n",
    "    'Dynamo Moscow', 'Lokomotiv Moscow', 'FK Rostov', 'Krylya Sovetov Samara',\n",
    "    'FC Sochi', 'Akhmat Grozny', 'Ural Yekaterinburg', 'FK Orenburg',\n",
    "    'FC Pari Nizhniy Novgorod', 'FK Khimki', 'Torpedo Moscow', 'Fakel Voronezh',\n",
    "    'Spartak Moscow', 'CSKA Moscow', 'FK Krasnodar', 'Zenit St. Petersburg'\n",
    "]\n",
    "\n",
    "# الدوري الإنجليزي الدرجة الأولى (Championship)\n",
    "championship = [\n",
    "    'West Bromwich Albion', 'Sunderland AFC', 'Hull City', 'Preston North End',\n",
    "    'Stoke City', 'Queens Park Rangers', 'Birmingham City', 'Cardiff City',\n",
    "    'Millwall FC', 'Reading FC', 'Blackpool FC', 'Bristol City',\n",
    "    'Huddersfield Town', 'Rotherham United', 'Wigan Athletic',\n",
    "    'Middlesbrough FC', 'Coventry City', 'Luton Town', 'Swansea City',\n",
    "    'Burnley FC', 'Watford FC', 'Sheffield United', 'Blackburn Rovers',\n",
    "    'Norwich City'\n",
    "]\n",
    "\n",
    "# الدوري التركي (Süper Lig)\n",
    "super_lig = [\n",
    "    'Trabzonspor', 'Besiktas JK', 'Basaksehir FK', 'Antalyaspor',\n",
    "    'Adana Demirspor', 'Alanyaspor', 'Kasimpasa', 'Konyaspor',\n",
    "    'MKE Ankaragücü', 'Sivasspor', 'Kayserispor', 'Giresunspor',\n",
    "    'Istanbulspor', 'Hatayspor', 'Gaziantep FK', 'Fatih Karagümrük',\n",
    "    'Ümraniyespor', 'Fenerbahce', 'Galatasaray'\n",
    "]\n",
    "\n",
    "# الدوري النمساوي (Austrian Bundesliga)\n",
    "austrian_bundesliga = [\n",
    "    'SK Sturm Graz', 'LASK', 'SCR Altach', 'SC Austria Lustenau', 'SV Ried',\n",
    "    'TSV Hartberg', 'WSG Tirol', 'Rapid Vienna', 'Austria Vienna',\n",
    "    'SK Austria Klagenfurt', 'Wolfsberger AC', 'Red Bull Salzburg'\n",
    "]\n",
    "\n",
    "# الدوري الأمريكي (Major League Soccer - MLS)\n",
    "mls = [\n",
    "    'Philadelphia Union', 'FC Cincinnati', 'FC Dallas', 'Orlando City SC',\n",
    "    'Los Angeles Galaxy', 'New England Revolution', 'D.C. United',\n",
    "    'New York Red Bulls', 'Portland Timbers', 'Columbus Crew', 'Charlotte FC',\n",
    "    'Sporting Kansas City', 'Colorado Rapids', 'Vancouver Whitecaps FC',\n",
    "    'Chicago Fire FC', 'Inter Miami CF', 'Minnesota United FC',\n",
    "    'Houston Dynamo FC', 'St. Louis CITY SC', 'CF Montréal', 'Real Salt Lake City',\n",
    "    'Nashville SC', 'San Jose Earthquakes', 'Seattle Sounders FC',\n",
    "    'Atlanta United FC', 'New York City FC', 'Austin FC', 'Los Angeles FC',\n",
    "    'Toronto FC'\n",
    "]\n",
    "\n",
    "# الدوري الأرجنتيني (Argentine Primera División)\n",
    "argentine_primera = [\n",
    "    'CA Vélez Sarsfield', 'CA San Lorenzo de Almagro', 'Club Atlético Lanús',\n",
    "    'Defensa y Justicia', 'Club Estudiantes de La Plata', \"CA Newell's Old Boys\",\n",
    "    'CA Colon', 'CA Rosario Central', 'CA Banfield',\n",
    "    'Club de Gimnasia y Esgrima La Plata', 'Club Atlético Tucumán',\n",
    "    'CD Godoy Cruz Antonio Tomba', 'Club Atlético Unión',\n",
    "    'Club Atlético Platense', 'Instituto AC Córdoba', 'CA Sarmiento (Junin)',\n",
    "    'CA Central Córdoba (SdE)', 'CA Barracas Central', 'Arsenal Fútbol Club',\n",
    "    'Club Atlético Talleres', 'Club Atlético Belgrano', 'AA Argentinos Juniors',\n",
    "    'CA Independiente', 'Club Atlético Tigre', 'CA River Plate', 'CA Boca Juniors',\n",
    "    'CA Huracán', 'Racing Club'\n",
    "]\n",
    "\n",
    "# الدوري الياباني (J1 League)\n",
    "j1_league = [\n",
    "    'Kawasaki Frontale', 'Yokohama F. Marinos', 'Cerezo Osaka', 'Kyoto Sanga',\n",
    "    'FC Tokyo', 'Nagoya Grampus', 'Kashiwa Reysol', 'Yokohama FC',\n",
    "    'Avispa Fukuoka', 'Sagan Tosu', 'Vissel Kobe', 'Hokkaido Consadole Sapporo',\n",
    "    'Shonan Bellmare', 'Albirex Niigata', 'Kashima Antlers',\n",
    "    'Sanfrecce Hiroshima', 'Urawa Red Diamonds', 'Gamba Osaka'\n",
    "]\n",
    "\n",
    "# الدوري السعودي (Saudi Pro League)\n",
    "saudi_pro_league = [\n",
    "    'Al-Shabab Club (Riyadh)', 'Ettifaq FC', 'Al-Taawoun FC', 'Al-Wehda FC',\n",
    "    'Damac FC', 'Al-Tai', 'Al-Fayha FC'\n",
    "]\n",
    "\n",
    "k_league_1 = [\n",
    "    'Suwon Samsung Bluewings', 'Jeju United', 'Incheon United',\n",
    "    'Gangwon FC', 'Daejeon Hana Citizen', 'Gwangju FC', 'Daegu FC',\n",
    "    'Suwon FC', 'Pohang Steelers', 'FC Seoul',\n",
    "    'Jeonbuk Hyundai Motors', 'Ulsan Hyundai'\n",
    "]\n",
    "\n",
    "premier_soccer_league = [\n",
    "    'Sekhukhune United FC', 'AmaZulu FC', 'Lamontville Golden Arrows',\n",
    "    'Stellenbosch FC', 'Swallows FC', 'Maritzburg United FC', 'Royal AM FC',\n",
    "    'TS Galaxy FC', 'Richards Bay FC', 'Marumo Gallants FC',\n",
    "    'Cape Town City FC', 'Orlando Pirates', 'SuperSport United',\n",
    "    'Chippa United', 'Mamelodi Sundowns FC', 'Kaizer Chiefs'\n",
    "]\n",
    "\n",
    "\n",
    "a_league = [\n",
    "    'Melbourne Victory', 'Western United FC', 'Newcastle United Jets',\n",
    "    'Perth Glory', 'Macarthur FC', 'Brisbane Roar',\n",
    "    'Central Coast Mariners', 'Wellington Phoenix',\n",
    "    'Melbourne City FC', 'Sydney FC', 'Adelaide United',\n",
    "    'Western Sydney Wanderers'\n",
    "]\n",
    "\n",
    "\n",
    "\n",
    "print(len(premier_league) + len(bundesliga) + len(la_liga) + len(serie_a) + len(ligue_1) + len(eredivisie) + len(brasileirao) + \n",
    "      len(primeira_liga) + len(liga_mx) + len(russian_premier_league) + len(championship) + len(super_lig) + len(austrian_bundesliga) + \n",
    "      len(mls) + len(argentine_primera) + len(j1_league) + len(saudi_pro_league) + len(k_league_1) + len(premier_soccer_league) + \n",
    "      len(a_league) )\n"
   ]
  },
  {
   "cell_type": "code",
   "execution_count": 13,
   "id": "30e85bae-cb95-4a8f-be8b-13e7d51d1aa1",
   "metadata": {},
   "outputs": [],
   "source": [
    "#WE WILL HAVE BEEN NULL BUT WE WILL IMPUTE LATER"
   ]
  },
  {
   "cell_type": "code",
   "execution_count": 14,
   "id": "d7cb078b-70af-4b33-bbc6-52125b318a2e",
   "metadata": {},
   "outputs": [],
   "source": [
    "#data = {'Club': ['Manchester United', 'Borussia Dortmund', 'Real Madrid', 'AS Roma', 'PSG', 'Santos FC']}\n",
    "#df = pd.DataFrame(data)\n",
    "\n",
    "# دالة لتحديد الدوري بناءً على النادي\n",
    "def get_league(club):\n",
    "    if club in premier_league:\n",
    "        return 'Premier League'\n",
    "    elif club in bundesliga:\n",
    "        return 'Bundesliga'\n",
    "    elif club in la_liga:\n",
    "        return 'La Liga'\n",
    "    elif club in serie_a:\n",
    "        return 'Serie A'\n",
    "    elif club in ligue_1:\n",
    "        return 'Ligue 1'\n",
    "    elif club in eredivisie:\n",
    "        return 'Eredivisie'\n",
    "    elif club in brasileirao:\n",
    "        return 'Brasileirão'\n",
    "    elif club in primeira_liga:\n",
    "        return 'Primeira Liga'\n",
    "    elif club in liga_mx:\n",
    "        return 'Liga MX'\n",
    "    elif club in russian_premier_league:\n",
    "        return 'Russian Premier League'\n",
    "    elif club in championship:\n",
    "        return 'Championship'\n",
    "    elif club in super_lig:\n",
    "        return 'Süper Lig'\n",
    "    elif club in austrian_bundesliga:\n",
    "        return 'Austrian Bundesliga'\n",
    "    elif club in mls:\n",
    "        return 'MLS'\n",
    "    elif club in argentine_primera:\n",
    "        return 'Argentine Primera División'\n",
    "    elif club in j1_league:\n",
    "        return 'J1 League'\n",
    "    elif club in saudi_pro_league:\n",
    "        return 'Saudi Pro League'\n",
    "    elif club in k_league_1:\n",
    "        return 'K League 1'\n",
    "    elif club in premier_soccer_league:\n",
    "        return 'Premier Soccer League'\n",
    "    elif club in a_league:\n",
    "        return 'A-League'\n",
    "    else:\n",
    "        return 'Unknown'\n",
    "\n",
    "df_football_GK_Defenders_position_copy['League'] = df_football_GK_Defenders_position_copy['team'].apply(get_league)"
   ]
  },
  {
   "cell_type": "code",
   "execution_count": 15,
   "id": "ba7807c5-cef9-41eb-b411-efd6c937c050",
   "metadata": {},
   "outputs": [
    {
     "data": {
      "text/html": [
       "<div>\n",
       "<style scoped>\n",
       "    .dataframe tbody tr th:only-of-type {\n",
       "        vertical-align: middle;\n",
       "    }\n",
       "\n",
       "    .dataframe tbody tr th {\n",
       "        vertical-align: top;\n",
       "    }\n",
       "\n",
       "    .dataframe thead th {\n",
       "        text-align: right;\n",
       "    }\n",
       "</style>\n",
       "<table border=\"1\" class=\"dataframe\">\n",
       "  <thead>\n",
       "    <tr style=\"text-align: right;\">\n",
       "      <th></th>\n",
       "      <th>team</th>\n",
       "      <th>League</th>\n",
       "    </tr>\n",
       "  </thead>\n",
       "  <tbody>\n",
       "    <tr>\n",
       "      <th>3099</th>\n",
       "      <td>Trabzonspor</td>\n",
       "      <td>Süper Lig</td>\n",
       "    </tr>\n",
       "    <tr>\n",
       "      <th>1677</th>\n",
       "      <td>Feyenoord Rotterdam</td>\n",
       "      <td>Eredivisie</td>\n",
       "    </tr>\n",
       "    <tr>\n",
       "      <th>1433</th>\n",
       "      <td>AZ Alkmaar</td>\n",
       "      <td>Eredivisie</td>\n",
       "    </tr>\n",
       "    <tr>\n",
       "      <th>2905</th>\n",
       "      <td>Reading FC</td>\n",
       "      <td>Championship</td>\n",
       "    </tr>\n",
       "    <tr>\n",
       "      <th>1422</th>\n",
       "      <td>Paris Saint-Germain</td>\n",
       "      <td>Ligue 1</td>\n",
       "    </tr>\n",
       "    <tr>\n",
       "      <th>4327</th>\n",
       "      <td>Club Atlético Tigre</td>\n",
       "      <td>Argentine Primera División</td>\n",
       "    </tr>\n",
       "    <tr>\n",
       "      <th>2515</th>\n",
       "      <td>Deportivo Guadalajara</td>\n",
       "      <td>Liga MX</td>\n",
       "    </tr>\n",
       "    <tr>\n",
       "      <th>240</th>\n",
       "      <td>Manchester City</td>\n",
       "      <td>Premier League</td>\n",
       "    </tr>\n",
       "    <tr>\n",
       "      <th>5354</th>\n",
       "      <td>Richards Bay FC</td>\n",
       "      <td>Premier Soccer League</td>\n",
       "    </tr>\n",
       "    <tr>\n",
       "      <th>821</th>\n",
       "      <td>FC Barcelona</td>\n",
       "      <td>La Liga</td>\n",
       "    </tr>\n",
       "  </tbody>\n",
       "</table>\n",
       "</div>"
      ],
      "text/plain": [
       "                       team                      League\n",
       "3099            Trabzonspor                   Süper Lig\n",
       "1677    Feyenoord Rotterdam                  Eredivisie\n",
       "1433             AZ Alkmaar                  Eredivisie\n",
       "2905             Reading FC                Championship\n",
       "1422    Paris Saint-Germain                     Ligue 1\n",
       "4327    Club Atlético Tigre  Argentine Primera División\n",
       "2515  Deportivo Guadalajara                     Liga MX\n",
       "240         Manchester City              Premier League\n",
       "5354        Richards Bay FC       Premier Soccer League\n",
       "821            FC Barcelona                     La Liga"
      ]
     },
     "execution_count": 15,
     "metadata": {},
     "output_type": "execute_result"
    }
   ],
   "source": [
    "df_football_GK_Defenders_position_copy[['team','League']].sample(10)"
   ]
  },
  {
   "cell_type": "code",
   "execution_count": 16,
   "id": "e83a6620-3725-406e-b2a6-cfb429b8c52a",
   "metadata": {},
   "outputs": [
    {
     "data": {
      "text/plain": [
       "0"
      ]
     },
     "execution_count": 16,
     "metadata": {},
     "output_type": "execute_result"
    }
   ],
   "source": [
    "df_football_GK_Defenders_position_copy['League'].isnull().sum()"
   ]
  },
  {
   "cell_type": "code",
   "execution_count": 17,
   "id": "03936818-2078-4d36-81aa-030efc3e7f73",
   "metadata": {},
   "outputs": [
    {
     "data": {
      "text/plain": [
       "array(['Brighton &amp; Hove Albion', 'Abha Club', 'Al-Khaleej',\n",
       "       'Al-Raed SFC', 'Al-Batin FC', 'Al-Adalah FC',\n",
       "       'Al-Ittihad Club (Jeddah)', 'Al-Fateh SC', 'Al-Hilal Saudi FC',\n",
       "       'Al-Nassr FC'], dtype=object)"
      ]
     },
     "execution_count": 17,
     "metadata": {},
     "output_type": "execute_result"
    }
   ],
   "source": [
    "df_football_GK_Defenders_position_copy['team'][df_football_GK_Defenders_position_copy['League'] == 'Unknown'].unique()"
   ]
  },
  {
   "cell_type": "code",
   "execution_count": 18,
   "id": "8967bed3-02c3-4297-88d6-64ca1f3c7829",
   "metadata": {},
   "outputs": [
    {
     "name": "stdout",
     "output_type": "stream",
     "text": [
      "375\n"
     ]
    }
   ],
   "source": [
    "# الدوري الإنجليزي الممتاز (Premier League)\n",
    "premier_league = [\n",
    "    'Manchester United', 'West Ham United', 'Leicester City',\n",
    "    'Aston Villa', 'Wolverhampton Wanderers', 'Southampton FC',\n",
    "    'Brighton & Hove Albion', 'Everton FC', 'Nottingham Forest',\n",
    "    'Leeds United', 'Crystal Palace', 'Fulham FC', 'AFC Bournemouth',\n",
    "    'Brentford FC', 'Liverpool FC', 'Newcastle United', 'Manchester City',\n",
    "    'Arsenal FC', 'Tottenham Hotspur', 'Chelsea FC','Brighton &amp; Hove Albion'\n",
    "]\n",
    "\n",
    "# الدوري الألماني (Bundesliga)\n",
    "bundesliga = [\n",
    "    'Borussia Mönchengladbach', 'VfL Wolfsburg', 'TSG 1899 Hoffenheim',\n",
    "    '1.FC Union Berlin', 'FC Augsburg', 'VfB Stuttgart', '1.FSV Mainz 05',\n",
    "    '1.FC Köln', 'Hertha BSC', 'FC Schalke 04', 'VfL Bochum', 'SV Werder Bremen',\n",
    "    'Eintracht Frankfurt', 'SC Freiburg', 'Borussia Dortmund', 'Bayer 04 Leverkusen',\n",
    "    'Bayern Munich', 'RB Leipzig'\n",
    "]\n",
    "\n",
    "# الدوري الإسباني (La Liga)\n",
    "la_liga = [\n",
    "    'Real Sociedad', 'Villarreal CF', 'Real Betis Balompié', 'Athletic Bilbao',\n",
    "    'Valencia CF', 'Sevilla FC', 'Celta de Vigo', 'CA Osasuna', 'Girona FC',\n",
    "    'Rayo Vallecano', 'RCD Mallorca', 'UD Almería', 'Real Valladolid CF',\n",
    "    'Cádiz CF', 'Elche CF', 'RCD Espanyol Barcelona', 'Getafe CF',\n",
    "    'Atlético de Madrid', 'Real Madrid', 'FC Barcelona'\n",
    "]\n",
    "\n",
    "# الدوري الإيطالي (Serie A)\n",
    "serie_a = [\n",
    "    'AS Roma', 'SS Lazio', 'ACF Fiorentina', 'US Sassuolo', 'Torino FC',\n",
    "    'Udinese Calcio', 'Bologna FC 1909', 'AC Monza', 'FC Empoli',\n",
    "    'US Lecce', 'Spezia Calcio', 'Hellas Verona', 'UC Sampdoria',\n",
    "    'US Cremonese', 'US Salernitana 1919', 'Atalanta BC', 'SSC Napoli',\n",
    "    'Inter Milan', 'AC Milan', 'Juventus FC'\n",
    "]\n",
    "\n",
    "# الدوري الفرنسي (Ligue 1)\n",
    "ligue_1 = [\n",
    "    'AS Monaco', 'Stade Rennais FC', 'Olympique Marseille', 'OGC Nice',\n",
    "    'RC Lens', 'FC Nantes', 'Montpellier HSC', 'FC Lorient', 'FC Toulouse',\n",
    "    'ESTAC Troyes', 'Stade Brestois 29', 'Angers SCO', 'AJ Auxerre',\n",
    "    'Clermont Foot 63', 'AC Ajaccio', 'Olympique Lyon', 'LOSC Lille',\n",
    "    'Stade Reims', 'RC Strasbourg Alsace', 'Paris Saint-Germain'\n",
    "]\n",
    "\n",
    "# الدوري الهولندي (Eredivisie)\n",
    "eredivisie = [\n",
    "    'AZ Alkmaar', 'Twente Enschede FC', 'Vitesse Arnhem', 'FC Groningen',\n",
    "    'Fortuna Sittard', 'NEC Nijmegen', 'Sparta Rotterdam',\n",
    "    'SC Cambuur Leeuwarden', 'Excelsior Rotterdam', 'FC Volendam',\n",
    "    'RKC Waalwijk', 'FC Emmen', 'Go Ahead Eagles', 'FC Utrecht',\n",
    "    'SC Heerenveen', 'Ajax Amsterdam', 'PSV Eindhoven', 'Feyenoord Rotterdam'\n",
    "]\n",
    "\n",
    "# الدوري البرازيلي (Brasileirão)\n",
    "brasileirao = [\n",
    "    'Club Athletico Paranaense', 'Red Bull Bragantino', 'Santos FC',\n",
    "    'Clube de Regatas Vasco da Gama', 'Fluminense Football Club',\n",
    "    'Sport Club Internacional', 'Esporte Clube Bahia',\n",
    "    'Grêmio Foot-Ball Porto Alegrense', 'Coritiba Foot Ball Club',\n",
    "    'Fortaleza Esporte Clube', 'Cruzeiro Esporte Clube', 'Goiás Esporte Clube',\n",
    "    'Cuiabá Esporte Clube (MT)', 'Botafogo de Futebol e Regatas',\n",
    "    'Clube Atlético Mineiro', 'São Paulo Futebol Clube',\n",
    "    'América Futebol Clube (MG)', 'Sociedade Esportiva Palmeiras',\n",
    "    'CR Flamengo', 'Sport Club Corinthians Paulista'\n",
    "]\n",
    "\n",
    "# الدوري البرتغالي (Primeira Liga)\n",
    "primeira_liga = [\n",
    "    'SC Braga', 'FC Famalicão', 'Vitória Guimarães SC', 'CD Santa Clara',\n",
    "    'GD Estoril Praia', 'Boavista FC', 'Portimonense SC', 'CS Marítimo',\n",
    "    'Casa Pia AC', 'FC Paços de Ferreira', 'FC Arouca', 'FC Vizela',\n",
    "    'Rio Ave FC', 'GD Chaves', 'Gil Vicente FC', 'FC Porto', 'Sporting CP',\n",
    "    'SL Benfica'\n",
    "]\n",
    "\n",
    "# الدوري المكسيكي (Liga MX)\n",
    "liga_mx = [\n",
    "    'Santos Laguna', 'Club León FC', 'FC Juárez', 'Club Tijuana',\n",
    "    'Atlético de San Luis', 'Club Necaxa', 'Puebla FC', 'Mazatlán FC',\n",
    "    'Querétaro FC', 'CF América', 'CF Monterrey', 'Atlas Guadalajara',\n",
    "    'UNAM Pumas', 'Deportivo Toluca', 'Tigres UANL', 'Deportivo Guadalajara',\n",
    "    'CD Cruz Azul', 'CF Pachuca'\n",
    "]\n",
    "\n",
    "# الدوري الروسي (Russian Premier League)\n",
    "russian_premier_league = [\n",
    "    'Dynamo Moscow', 'Lokomotiv Moscow', 'FK Rostov', 'Krylya Sovetov Samara',\n",
    "    'FC Sochi', 'Akhmat Grozny', 'Ural Yekaterinburg', 'FK Orenburg',\n",
    "    'FC Pari Nizhniy Novgorod', 'FK Khimki', 'Torpedo Moscow', 'Fakel Voronezh',\n",
    "    'Spartak Moscow', 'CSKA Moscow', 'FK Krasnodar', 'Zenit St. Petersburg'\n",
    "]\n",
    "\n",
    "# الدوري الإنجليزي الدرجة الأولى (Championship)\n",
    "championship = [\n",
    "    'West Bromwich Albion', 'Sunderland AFC', 'Hull City', 'Preston North End',\n",
    "    'Stoke City', 'Queens Park Rangers', 'Birmingham City', 'Cardiff City',\n",
    "    'Millwall FC', 'Reading FC', 'Blackpool FC', 'Bristol City',\n",
    "    'Huddersfield Town', 'Rotherham United', 'Wigan Athletic',\n",
    "    'Middlesbrough FC', 'Coventry City', 'Luton Town', 'Swansea City',\n",
    "    'Burnley FC', 'Watford FC', 'Sheffield United', 'Blackburn Rovers',\n",
    "    'Norwich City'\n",
    "]\n",
    "\n",
    "# الدوري التركي (Süper Lig)\n",
    "super_lig = [\n",
    "    'Trabzonspor', 'Besiktas JK', 'Basaksehir FK', 'Antalyaspor',\n",
    "    'Adana Demirspor', 'Alanyaspor', 'Kasimpasa', 'Konyaspor',\n",
    "    'MKE Ankaragücü', 'Sivasspor', 'Kayserispor', 'Giresunspor',\n",
    "    'Istanbulspor', 'Hatayspor', 'Gaziantep FK', 'Fatih Karagümrük',\n",
    "    'Ümraniyespor', 'Fenerbahce', 'Galatasaray'\n",
    "]\n",
    "\n",
    "# الدوري النمساوي (Austrian Bundesliga)\n",
    "austrian_bundesliga = [\n",
    "    'SK Sturm Graz', 'LASK', 'SCR Altach', 'SC Austria Lustenau', 'SV Ried',\n",
    "    'TSV Hartberg', 'WSG Tirol', 'Rapid Vienna', 'Austria Vienna',\n",
    "    'SK Austria Klagenfurt', 'Wolfsberger AC', 'Red Bull Salzburg'\n",
    "]\n",
    "\n",
    "# الدوري الأمريكي (Major League Soccer - MLS)\n",
    "mls = [\n",
    "    'Philadelphia Union', 'FC Cincinnati', 'FC Dallas', 'Orlando City SC',\n",
    "    'Los Angeles Galaxy', 'New England Revolution', 'D.C. United',\n",
    "    'New York Red Bulls', 'Portland Timbers', 'Columbus Crew', 'Charlotte FC',\n",
    "    'Sporting Kansas City', 'Colorado Rapids', 'Vancouver Whitecaps FC',\n",
    "    'Chicago Fire FC', 'Inter Miami CF', 'Minnesota United FC',\n",
    "    'Houston Dynamo FC', 'St. Louis CITY SC', 'CF Montréal', 'Real Salt Lake City',\n",
    "    'Nashville SC', 'San Jose Earthquakes', 'Seattle Sounders FC',\n",
    "    'Atlanta United FC', 'New York City FC', 'Austin FC', 'Los Angeles FC',\n",
    "    'Toronto FC'\n",
    "]\n",
    "\n",
    "# الدوري الأرجنتيني (Argentine Primera División)\n",
    "argentine_primera = [\n",
    "    'CA Vélez Sarsfield', 'CA San Lorenzo de Almagro', 'Club Atlético Lanús',\n",
    "    'Defensa y Justicia', 'Club Estudiantes de La Plata', \"CA Newell's Old Boys\",\n",
    "    'CA Colon', 'CA Rosario Central', 'CA Banfield',\n",
    "    'Club de Gimnasia y Esgrima La Plata', 'Club Atlético Tucumán',\n",
    "    'CD Godoy Cruz Antonio Tomba', 'Club Atlético Unión',\n",
    "    'Club Atlético Platense', 'Instituto AC Córdoba', 'CA Sarmiento (Junin)',\n",
    "    'CA Central Córdoba (SdE)', 'CA Barracas Central', 'Arsenal Fútbol Club',\n",
    "    'Club Atlético Talleres', 'Club Atlético Belgrano', 'AA Argentinos Juniors',\n",
    "    'CA Independiente', 'Club Atlético Tigre', 'CA River Plate', 'CA Boca Juniors',\n",
    "    'CA Huracán', 'Racing Club'\n",
    "]\n",
    "\n",
    "# الدوري الياباني (J1 League)\n",
    "j1_league = [\n",
    "    'Kawasaki Frontale', 'Yokohama F. Marinos', 'Cerezo Osaka', 'Kyoto Sanga',\n",
    "    'FC Tokyo', 'Nagoya Grampus', 'Kashiwa Reysol', 'Yokohama FC',\n",
    "    'Avispa Fukuoka', 'Sagan Tosu', 'Vissel Kobe', 'Hokkaido Consadole Sapporo',\n",
    "    'Shonan Bellmare', 'Albirex Niigata', 'Kashima Antlers',\n",
    "    'Sanfrecce Hiroshima', 'Urawa Red Diamonds', 'Gamba Osaka'\n",
    "]\n",
    "\n",
    "# الدوري السعودي (Saudi Pro League)\n",
    "saudi_pro_league = [\n",
    "    'Al-Shabab Club (Riyadh)', 'Ettifaq FC', 'Al-Taawoun FC', 'Al-Wehda FC',\n",
    "    'Damac FC', 'Al-Tai', 'Al-Fayha FC','Abha Club', 'Al-Khaleej',\n",
    "       'Al-Raed SFC', 'Al-Batin FC', 'Al-Adalah FC',\n",
    "       'Al-Ittihad Club (Jeddah)', 'Al-Fateh SC', 'Al-Hilal Saudi FC',\n",
    "       'Al-Nassr FC'\n",
    "]\n",
    "\n",
    "k_league_1 = [\n",
    "    'Suwon Samsung Bluewings', 'Jeju United', 'Incheon United',\n",
    "    'Gangwon FC', 'Daejeon Hana Citizen', 'Gwangju FC', 'Daegu FC',\n",
    "    'Suwon FC', 'Pohang Steelers', 'FC Seoul',\n",
    "    'Jeonbuk Hyundai Motors', 'Ulsan Hyundai'\n",
    "]\n",
    "\n",
    "premier_soccer_league = [\n",
    "    'Sekhukhune United FC', 'AmaZulu FC', 'Lamontville Golden Arrows',\n",
    "    'Stellenbosch FC', 'Swallows FC', 'Maritzburg United FC', 'Royal AM FC',\n",
    "    'TS Galaxy FC', 'Richards Bay FC', 'Marumo Gallants FC',\n",
    "    'Cape Town City FC', 'Orlando Pirates', 'SuperSport United',\n",
    "    'Chippa United', 'Mamelodi Sundowns FC', 'Kaizer Chiefs'\n",
    "]\n",
    "\n",
    "\n",
    "a_league = [\n",
    "    'Melbourne Victory', 'Western United FC', 'Newcastle United Jets',\n",
    "    'Perth Glory', 'Macarthur FC', 'Brisbane Roar',\n",
    "    'Central Coast Mariners', 'Wellington Phoenix',\n",
    "    'Melbourne City FC', 'Sydney FC', 'Adelaide United',\n",
    "    'Western Sydney Wanderers'\n",
    "]\n",
    "\n",
    "\n",
    "\n",
    "print(len(premier_league) + len(bundesliga) + len(la_liga) + len(serie_a) + len(ligue_1) + len(eredivisie) + len(brasileirao) + \n",
    "      len(primeira_liga) + len(liga_mx) + len(russian_premier_league) + len(championship) + len(super_lig) + len(austrian_bundesliga) + \n",
    "      len(mls) + len(argentine_primera) + len(j1_league) + len(saudi_pro_league) + len(k_league_1) + len(premier_soccer_league) + \n",
    "      len(a_league) )\n"
   ]
  },
  {
   "cell_type": "code",
   "execution_count": 19,
   "id": "5d2556d5-fdc0-4f49-8cfe-7de59cabada6",
   "metadata": {},
   "outputs": [],
   "source": [
    "#data = {'Club': ['Manchester United', 'Borussia Dortmund', 'Real Madrid', 'AS Roma', 'PSG', 'Santos FC']}\n",
    "#df = pd.DataFrame(data)\n",
    "\n",
    "# دالة لتحديد الدوري بناءً على النادي\n",
    "def get_league(club):\n",
    "    if club in premier_league:\n",
    "        return 'Premier League'\n",
    "    elif club in bundesliga:\n",
    "        return 'Bundesliga'\n",
    "    elif club in la_liga:\n",
    "        return 'La Liga'\n",
    "    elif club in serie_a:\n",
    "        return 'Serie A'\n",
    "    elif club in ligue_1:\n",
    "        return 'Ligue 1'\n",
    "    elif club in eredivisie:\n",
    "        return 'Eredivisie'\n",
    "    elif club in brasileirao:\n",
    "        return 'Brasileirão'\n",
    "    elif club in primeira_liga:\n",
    "        return 'Primeira Liga'\n",
    "    elif club in liga_mx:\n",
    "        return 'Liga MX'\n",
    "    elif club in russian_premier_league:\n",
    "        return 'Russian Premier League'\n",
    "    elif club in championship:\n",
    "        return 'Championship'\n",
    "    elif club in super_lig:\n",
    "        return 'Süper Lig'\n",
    "    elif club in austrian_bundesliga:\n",
    "        return 'Austrian Bundesliga'\n",
    "    elif club in mls:\n",
    "        return 'MLS'\n",
    "    elif club in argentine_primera:\n",
    "        return 'Argentine Primera División'\n",
    "    elif club in j1_league:\n",
    "        return 'J1 League'\n",
    "    elif club in saudi_pro_league:\n",
    "        return 'Saudi Pro League'\n",
    "    elif club in k_league_1:\n",
    "        return 'K League 1'\n",
    "    elif club in premier_soccer_league:\n",
    "        return 'Premier Soccer League'\n",
    "    elif club in a_league:\n",
    "        return 'A-League'\n",
    "    else:\n",
    "        return 'Unknown'\n",
    "\n",
    "df_football_GK_Defenders_position_copy['League_full'] = df_football_GK_Defenders_position_copy['team'].apply(get_league)"
   ]
  },
  {
   "cell_type": "code",
   "execution_count": 20,
   "id": "c89d8ada-dd86-4dbb-888a-dcaf68f50dc2",
   "metadata": {},
   "outputs": [
    {
     "data": {
      "text/plain": [
       "0"
      ]
     },
     "execution_count": 20,
     "metadata": {},
     "output_type": "execute_result"
    }
   ],
   "source": [
    "df_football_GK_Defenders_position_copy['League'].isnull().sum()"
   ]
  },
  {
   "cell_type": "code",
   "execution_count": 21,
   "id": "02f8865a-24dc-4e1b-9918-f3bb1a38359b",
   "metadata": {},
   "outputs": [
    {
     "data": {
      "text/html": [
       "<div>\n",
       "<style scoped>\n",
       "    .dataframe tbody tr th:only-of-type {\n",
       "        vertical-align: middle;\n",
       "    }\n",
       "\n",
       "    .dataframe tbody tr th {\n",
       "        vertical-align: top;\n",
       "    }\n",
       "\n",
       "    .dataframe thead th {\n",
       "        text-align: right;\n",
       "    }\n",
       "</style>\n",
       "<table border=\"1\" class=\"dataframe\">\n",
       "  <thead>\n",
       "    <tr style=\"text-align: right;\">\n",
       "      <th></th>\n",
       "      <th>team</th>\n",
       "      <th>position</th>\n",
       "      <th>height</th>\n",
       "      <th>age</th>\n",
       "      <th>appearance</th>\n",
       "      <th>goals</th>\n",
       "      <th>assists</th>\n",
       "      <th>yellow cards</th>\n",
       "      <th>second yellow cards</th>\n",
       "      <th>red cards</th>\n",
       "      <th>...</th>\n",
       "      <th>clean sheets</th>\n",
       "      <th>minutes played</th>\n",
       "      <th>days_injured</th>\n",
       "      <th>games_injured</th>\n",
       "      <th>award</th>\n",
       "      <th>current_value</th>\n",
       "      <th>highest_value</th>\n",
       "      <th>position_encoded</th>\n",
       "      <th>League</th>\n",
       "      <th>League_full</th>\n",
       "    </tr>\n",
       "  </thead>\n",
       "  <tbody>\n",
       "  </tbody>\n",
       "</table>\n",
       "<p>0 rows × 21 columns</p>\n",
       "</div>"
      ],
      "text/plain": [
       "Empty DataFrame\n",
       "Columns: [team, position, height, age, appearance, goals, assists, yellow cards, second yellow cards, red cards, goals conceded, clean sheets, minutes played, days_injured, games_injured, award, current_value, highest_value, position_encoded, League, League_full]\n",
       "Index: []\n",
       "\n",
       "[0 rows x 21 columns]"
      ]
     },
     "execution_count": 21,
     "metadata": {},
     "output_type": "execute_result"
    }
   ],
   "source": [
    "df_football_GK_Defenders_position_copy[df_football_GK_Defenders_position_copy['League_full'] == 'Unknown']"
   ]
  },
  {
   "cell_type": "code",
   "execution_count": 22,
   "id": "d13f0ac4-ca4f-47e1-954f-4270b2f86c53",
   "metadata": {},
   "outputs": [],
   "source": [
    "#now we will drop uncomplate colomn"
   ]
  },
  {
   "cell_type": "code",
   "execution_count": 23,
   "id": "f28805bb-8373-4df3-af0d-96217a87e2a1",
   "metadata": {},
   "outputs": [],
   "source": [
    "df_football_GK_Defenders_position_copy.drop('League',axis=1,inplace=True)"
   ]
  },
  {
   "cell_type": "code",
   "execution_count": 24,
   "id": "be0c51e6-3feb-4c55-8544-1d2e24720b0e",
   "metadata": {},
   "outputs": [
    {
     "data": {
      "text/html": [
       "<div>\n",
       "<style scoped>\n",
       "    .dataframe tbody tr th:only-of-type {\n",
       "        vertical-align: middle;\n",
       "    }\n",
       "\n",
       "    .dataframe tbody tr th {\n",
       "        vertical-align: top;\n",
       "    }\n",
       "\n",
       "    .dataframe thead th {\n",
       "        text-align: right;\n",
       "    }\n",
       "</style>\n",
       "<table border=\"1\" class=\"dataframe\">\n",
       "  <thead>\n",
       "    <tr style=\"text-align: right;\">\n",
       "      <th></th>\n",
       "      <th>team</th>\n",
       "      <th>position</th>\n",
       "      <th>height</th>\n",
       "      <th>age</th>\n",
       "      <th>appearance</th>\n",
       "      <th>goals</th>\n",
       "      <th>assists</th>\n",
       "      <th>yellow cards</th>\n",
       "      <th>second yellow cards</th>\n",
       "      <th>red cards</th>\n",
       "      <th>goals conceded</th>\n",
       "      <th>clean sheets</th>\n",
       "      <th>minutes played</th>\n",
       "      <th>days_injured</th>\n",
       "      <th>games_injured</th>\n",
       "      <th>award</th>\n",
       "      <th>current_value</th>\n",
       "      <th>highest_value</th>\n",
       "      <th>position_encoded</th>\n",
       "      <th>League_full</th>\n",
       "    </tr>\n",
       "  </thead>\n",
       "  <tbody>\n",
       "    <tr>\n",
       "      <th>1202</th>\n",
       "      <td>RC Lens</td>\n",
       "      <td>Defender Centre-Back</td>\n",
       "      <td>192.0</td>\n",
       "      <td>30</td>\n",
       "      <td>74</td>\n",
       "      <td>0.014162</td>\n",
       "      <td>0.042486</td>\n",
       "      <td>0.198269</td>\n",
       "      <td>0.000000</td>\n",
       "      <td>0.000000</td>\n",
       "      <td>0.000000</td>\n",
       "      <td>0.000000</td>\n",
       "      <td>6355</td>\n",
       "      <td>125</td>\n",
       "      <td>19</td>\n",
       "      <td>0</td>\n",
       "      <td>4500000</td>\n",
       "      <td>4500000</td>\n",
       "      <td>2</td>\n",
       "      <td>Ligue 1</td>\n",
       "    </tr>\n",
       "    <tr>\n",
       "      <th>2946</th>\n",
       "      <td>Huddersfield Town</td>\n",
       "      <td>Defender Left-Back</td>\n",
       "      <td>178.0</td>\n",
       "      <td>29</td>\n",
       "      <td>44</td>\n",
       "      <td>0.090483</td>\n",
       "      <td>0.000000</td>\n",
       "      <td>0.000000</td>\n",
       "      <td>0.000000</td>\n",
       "      <td>0.000000</td>\n",
       "      <td>0.000000</td>\n",
       "      <td>0.000000</td>\n",
       "      <td>2984</td>\n",
       "      <td>0</td>\n",
       "      <td>0</td>\n",
       "      <td>0</td>\n",
       "      <td>400000</td>\n",
       "      <td>400000</td>\n",
       "      <td>2</td>\n",
       "      <td>Championship</td>\n",
       "    </tr>\n",
       "    <tr>\n",
       "      <th>1660</th>\n",
       "      <td>Ajax Amsterdam</td>\n",
       "      <td>Defender Right-Back</td>\n",
       "      <td>175.0</td>\n",
       "      <td>25</td>\n",
       "      <td>61</td>\n",
       "      <td>0.061086</td>\n",
       "      <td>0.081448</td>\n",
       "      <td>0.203620</td>\n",
       "      <td>0.000000</td>\n",
       "      <td>0.000000</td>\n",
       "      <td>0.000000</td>\n",
       "      <td>0.000000</td>\n",
       "      <td>4420</td>\n",
       "      <td>33</td>\n",
       "      <td>7</td>\n",
       "      <td>4</td>\n",
       "      <td>6000000</td>\n",
       "      <td>6000000</td>\n",
       "      <td>2</td>\n",
       "      <td>Eredivisie</td>\n",
       "    </tr>\n",
       "    <tr>\n",
       "      <th>984</th>\n",
       "      <td>Spezia Calcio</td>\n",
       "      <td>Defender Centre-Back</td>\n",
       "      <td>188.0</td>\n",
       "      <td>22</td>\n",
       "      <td>65</td>\n",
       "      <td>0.016901</td>\n",
       "      <td>0.067606</td>\n",
       "      <td>0.371831</td>\n",
       "      <td>0.033803</td>\n",
       "      <td>0.016901</td>\n",
       "      <td>0.000000</td>\n",
       "      <td>0.000000</td>\n",
       "      <td>5325</td>\n",
       "      <td>370</td>\n",
       "      <td>46</td>\n",
       "      <td>3</td>\n",
       "      <td>9000000</td>\n",
       "      <td>15000000</td>\n",
       "      <td>2</td>\n",
       "      <td>Serie A</td>\n",
       "    </tr>\n",
       "    <tr>\n",
       "      <th>2149</th>\n",
       "      <td>CS Marítimo</td>\n",
       "      <td>Goalkeeper</td>\n",
       "      <td>194.0</td>\n",
       "      <td>33</td>\n",
       "      <td>17</td>\n",
       "      <td>0.000000</td>\n",
       "      <td>0.000000</td>\n",
       "      <td>0.177282</td>\n",
       "      <td>0.000000</td>\n",
       "      <td>0.000000</td>\n",
       "      <td>1.477347</td>\n",
       "      <td>0.177282</td>\n",
       "      <td>1523</td>\n",
       "      <td>107</td>\n",
       "      <td>16</td>\n",
       "      <td>2</td>\n",
       "      <td>700000</td>\n",
       "      <td>1500000</td>\n",
       "      <td>1</td>\n",
       "      <td>Primeira Liga</td>\n",
       "    </tr>\n",
       "    <tr>\n",
       "      <th>3155</th>\n",
       "      <td>Antalyaspor</td>\n",
       "      <td>Defender Centre-Back</td>\n",
       "      <td>181.0</td>\n",
       "      <td>36</td>\n",
       "      <td>48</td>\n",
       "      <td>0.025021</td>\n",
       "      <td>0.000000</td>\n",
       "      <td>0.150125</td>\n",
       "      <td>0.000000</td>\n",
       "      <td>0.000000</td>\n",
       "      <td>0.000000</td>\n",
       "      <td>0.000000</td>\n",
       "      <td>3597</td>\n",
       "      <td>264</td>\n",
       "      <td>25</td>\n",
       "      <td>0</td>\n",
       "      <td>150000</td>\n",
       "      <td>3500000</td>\n",
       "      <td>2</td>\n",
       "      <td>Süper Lig</td>\n",
       "    </tr>\n",
       "    <tr>\n",
       "      <th>3378</th>\n",
       "      <td>SK Sturm Graz</td>\n",
       "      <td>Goalkeeper</td>\n",
       "      <td>184.0</td>\n",
       "      <td>20</td>\n",
       "      <td>48</td>\n",
       "      <td>0.000000</td>\n",
       "      <td>0.000000</td>\n",
       "      <td>0.084250</td>\n",
       "      <td>0.000000</td>\n",
       "      <td>0.021062</td>\n",
       "      <td>1.242687</td>\n",
       "      <td>0.315937</td>\n",
       "      <td>4273</td>\n",
       "      <td>0</td>\n",
       "      <td>0</td>\n",
       "      <td>2</td>\n",
       "      <td>250000</td>\n",
       "      <td>250000</td>\n",
       "      <td>1</td>\n",
       "      <td>Austrian Bundesliga</td>\n",
       "    </tr>\n",
       "  </tbody>\n",
       "</table>\n",
       "</div>"
      ],
      "text/plain": [
       "                   team              position  height  age  appearance  \\\n",
       "1202            RC Lens  Defender Centre-Back   192.0   30          74   \n",
       "2946  Huddersfield Town    Defender Left-Back   178.0   29          44   \n",
       "1660     Ajax Amsterdam   Defender Right-Back   175.0   25          61   \n",
       "984       Spezia Calcio  Defender Centre-Back   188.0   22          65   \n",
       "2149        CS Marítimo            Goalkeeper   194.0   33          17   \n",
       "3155        Antalyaspor  Defender Centre-Back   181.0   36          48   \n",
       "3378      SK Sturm Graz            Goalkeeper   184.0   20          48   \n",
       "\n",
       "         goals   assists  yellow cards  second yellow cards  red cards  \\\n",
       "1202  0.014162  0.042486      0.198269             0.000000   0.000000   \n",
       "2946  0.090483  0.000000      0.000000             0.000000   0.000000   \n",
       "1660  0.061086  0.081448      0.203620             0.000000   0.000000   \n",
       "984   0.016901  0.067606      0.371831             0.033803   0.016901   \n",
       "2149  0.000000  0.000000      0.177282             0.000000   0.000000   \n",
       "3155  0.025021  0.000000      0.150125             0.000000   0.000000   \n",
       "3378  0.000000  0.000000      0.084250             0.000000   0.021062   \n",
       "\n",
       "      goals conceded  clean sheets  minutes played  days_injured  \\\n",
       "1202        0.000000      0.000000            6355           125   \n",
       "2946        0.000000      0.000000            2984             0   \n",
       "1660        0.000000      0.000000            4420            33   \n",
       "984         0.000000      0.000000            5325           370   \n",
       "2149        1.477347      0.177282            1523           107   \n",
       "3155        0.000000      0.000000            3597           264   \n",
       "3378        1.242687      0.315937            4273             0   \n",
       "\n",
       "      games_injured  award  current_value  highest_value  position_encoded  \\\n",
       "1202             19      0        4500000        4500000                 2   \n",
       "2946              0      0         400000         400000                 2   \n",
       "1660              7      4        6000000        6000000                 2   \n",
       "984              46      3        9000000       15000000                 2   \n",
       "2149             16      2         700000        1500000                 1   \n",
       "3155             25      0         150000        3500000                 2   \n",
       "3378              0      2         250000         250000                 1   \n",
       "\n",
       "              League_full  \n",
       "1202              Ligue 1  \n",
       "2946         Championship  \n",
       "1660           Eredivisie  \n",
       "984               Serie A  \n",
       "2149        Primeira Liga  \n",
       "3155            Süper Lig  \n",
       "3378  Austrian Bundesliga  "
      ]
     },
     "execution_count": 24,
     "metadata": {},
     "output_type": "execute_result"
    }
   ],
   "source": [
    "df_football_GK_Defenders_position_copy.sample(7)"
   ]
  },
  {
   "cell_type": "code",
   "execution_count": 25,
   "id": "e498924a-ebb8-4d5c-981a-17a2b04c5dfa",
   "metadata": {},
   "outputs": [],
   "source": [
    "categorical_features = ['team' ,'position','League_full']\n",
    "numeric_features = ['position', 'height', 'age', 'appearance',\n",
    "       'goals', 'assists', 'yellow cards', 'second yellow cards', 'red cards',\n",
    "       'goals conceded', 'clean sheets', 'minutes played', 'days_injured',\n",
    "       'games_injured', 'award', 'current_value', 'highest_value',\n",
    "       'position_encoded']"
   ]
  },
  {
   "cell_type": "code",
   "execution_count": 26,
   "id": "450dd5ef-5c25-4bd3-bbf3-ade441d8c501",
   "metadata": {},
   "outputs": [],
   "source": [
    "df_football_GK_Defenders_position_copy = pd.get_dummies(df_football_GK_Defenders_position_copy, columns=categorical_features)"
   ]
  },
  {
   "cell_type": "code",
   "execution_count": 27,
   "id": "23f57eec-524c-490a-9a0f-99880047601c",
   "metadata": {},
   "outputs": [
    {
     "data": {
      "text/html": [
       "<div>\n",
       "<style scoped>\n",
       "    .dataframe tbody tr th:only-of-type {\n",
       "        vertical-align: middle;\n",
       "    }\n",
       "\n",
       "    .dataframe tbody tr th {\n",
       "        vertical-align: top;\n",
       "    }\n",
       "\n",
       "    .dataframe thead th {\n",
       "        text-align: right;\n",
       "    }\n",
       "</style>\n",
       "<table border=\"1\" class=\"dataframe\">\n",
       "  <thead>\n",
       "    <tr style=\"text-align: right;\">\n",
       "      <th></th>\n",
       "      <th>height</th>\n",
       "      <th>age</th>\n",
       "      <th>appearance</th>\n",
       "      <th>goals</th>\n",
       "      <th>assists</th>\n",
       "      <th>yellow cards</th>\n",
       "      <th>second yellow cards</th>\n",
       "      <th>red cards</th>\n",
       "      <th>goals conceded</th>\n",
       "      <th>clean sheets</th>\n",
       "      <th>...</th>\n",
       "      <th>League_full_Liga MX</th>\n",
       "      <th>League_full_Ligue 1</th>\n",
       "      <th>League_full_MLS</th>\n",
       "      <th>League_full_Premier League</th>\n",
       "      <th>League_full_Premier Soccer League</th>\n",
       "      <th>League_full_Primeira Liga</th>\n",
       "      <th>League_full_Russian Premier League</th>\n",
       "      <th>League_full_Saudi Pro League</th>\n",
       "      <th>League_full_Serie A</th>\n",
       "      <th>League_full_Süper Lig</th>\n",
       "    </tr>\n",
       "  </thead>\n",
       "  <tbody>\n",
       "    <tr>\n",
       "      <th>0</th>\n",
       "      <td>189.0</td>\n",
       "      <td>32</td>\n",
       "      <td>104</td>\n",
       "      <td>0.0</td>\n",
       "      <td>0.0</td>\n",
       "      <td>0.009585</td>\n",
       "      <td>0.0</td>\n",
       "      <td>0.0</td>\n",
       "      <td>1.217252</td>\n",
       "      <td>0.335463</td>\n",
       "      <td>...</td>\n",
       "      <td>False</td>\n",
       "      <td>False</td>\n",
       "      <td>False</td>\n",
       "      <td>True</td>\n",
       "      <td>False</td>\n",
       "      <td>False</td>\n",
       "      <td>False</td>\n",
       "      <td>False</td>\n",
       "      <td>False</td>\n",
       "      <td>False</td>\n",
       "    </tr>\n",
       "  </tbody>\n",
       "</table>\n",
       "<p>1 rows × 417 columns</p>\n",
       "</div>"
      ],
      "text/plain": [
       "   height  age  appearance  goals  assists  yellow cards  second yellow cards  \\\n",
       "0   189.0   32         104    0.0      0.0      0.009585                  0.0   \n",
       "\n",
       "   red cards  goals conceded  clean sheets  ...  League_full_Liga MX  \\\n",
       "0        0.0        1.217252      0.335463  ...                False   \n",
       "\n",
       "   League_full_Ligue 1  League_full_MLS  League_full_Premier League  \\\n",
       "0                False            False                        True   \n",
       "\n",
       "   League_full_Premier Soccer League  League_full_Primeira Liga  \\\n",
       "0                              False                      False   \n",
       "\n",
       "   League_full_Russian Premier League  League_full_Saudi Pro League  \\\n",
       "0                               False                         False   \n",
       "\n",
       "   League_full_Serie A  League_full_Süper Lig  \n",
       "0                False                  False  \n",
       "\n",
       "[1 rows x 417 columns]"
      ]
     },
     "execution_count": 27,
     "metadata": {},
     "output_type": "execute_result"
    }
   ],
   "source": [
    "df_football_GK_Defenders_position_copy.head(1)"
   ]
  },
  {
   "cell_type": "code",
   "execution_count": 28,
   "id": "9befffb8-f7bd-47b6-93f6-2e25e4801f29",
   "metadata": {},
   "outputs": [
    {
     "name": "stdout",
     "output_type": "stream",
     "text": [
      "current_value    1.000000\n",
      "games_injured    0.126533\n",
      "days_injured     0.100579\n",
      "Name: current_value, dtype: float64\n"
     ]
    }
   ],
   "source": [
    "correlation_to_select_one = df_football_GK_Defenders_position_copy[['games_injured','days_injured','current_value']].corr()\n",
    "print(correlation_to_select_one['current_value'].sort_values(ascending=False))"
   ]
  },
  {
   "cell_type": "code",
   "execution_count": 29,
   "id": "ab1cf8b1-3a47-4482-a43b-34429a02843f",
   "metadata": {},
   "outputs": [],
   "source": [
    "df_football_GK_Defenders_position_copy.drop('days_injured',axis=1,inplace=True)"
   ]
  },
  {
   "cell_type": "code",
   "execution_count": 30,
   "id": "48dcccc7-01f5-47a8-a2c8-bceefe34a724",
   "metadata": {},
   "outputs": [
    {
     "name": "stdout",
     "output_type": "stream",
     "text": [
      "current_value                   1.000000\n",
      "highest_value                   0.847484\n",
      "minutes played                  0.435470\n",
      "appearance                      0.435064\n",
      "League_full_Premier League      0.411966\n",
      "                                  ...   \n",
      "League_full_Saudi Pro League   -0.078431\n",
      "goals conceded                 -0.078861\n",
      "League_full_MLS                -0.081589\n",
      "League_full_J1 League          -0.087189\n",
      "position_Goalkeeper            -0.099745\n",
      "Name: current_value, Length: 416, dtype: float64\n"
     ]
    }
   ],
   "source": [
    "correlation = df_football_GK_Defenders_position_copy.corr()\n",
    "print(correlation['current_value'].sort_values(ascending=False))"
   ]
  },
  {
   "cell_type": "code",
   "execution_count": 31,
   "id": "ef700fb4-f6a8-49a4-962b-2b126824edef",
   "metadata": {},
   "outputs": [
    {
     "data": {
      "text/plain": [
       "Index(['appearance', 'minutes played', 'award', 'current_value',\n",
       "       'highest_value', 'team_Arsenal FC', 'team_Bayern Munich',\n",
       "       'team_Chelsea FC', 'team_Liverpool FC', 'team_Manchester City',\n",
       "       'League_full_Premier League'],\n",
       "      dtype='object')"
      ]
     },
     "execution_count": 31,
     "metadata": {},
     "output_type": "execute_result"
    }
   ],
   "source": [
    "threshold = 0.15  # You can change this value based on your requirement\n",
    "\n",
    "# Filter the correlations\n",
    "# We use `abs()` for absolute value to consider both strong positive and negative correlations\n",
    "selected_features = correlation[abs(correlation['current_value']) > threshold]['current_value'].index\n",
    "selected_features"
   ]
  },
  {
   "cell_type": "code",
   "execution_count": 32,
   "id": "94c4b982-c05d-4cbd-bafe-45832b62181f",
   "metadata": {},
   "outputs": [],
   "source": [
    "selected_features = ['appearance', 'minutes played', 'award', 'current_value',\n",
    "       'highest_value', 'team_Arsenal FC', 'team_Bayern Munich',\n",
    "       'team_Chelsea FC', 'team_Liverpool FC', 'team_Manchester City',\n",
    "       'League_full_Premier League']"
   ]
  },
  {
   "cell_type": "code",
   "execution_count": 33,
   "id": "d405da8c-d5da-4e90-a5a6-cb45e1c1ac65",
   "metadata": {},
   "outputs": [],
   "source": [
    "#df_football_GK_Defenders_position_copy.columns"
   ]
  },
  {
   "cell_type": "code",
   "execution_count": 34,
   "id": "0dfcef69-5a62-4d2c-ad61-f064fcd0af04",
   "metadata": {},
   "outputs": [
    {
     "data": {
      "text/html": [
       "<div>\n",
       "<style scoped>\n",
       "    .dataframe tbody tr th:only-of-type {\n",
       "        vertical-align: middle;\n",
       "    }\n",
       "\n",
       "    .dataframe tbody tr th {\n",
       "        vertical-align: top;\n",
       "    }\n",
       "\n",
       "    .dataframe thead th {\n",
       "        text-align: right;\n",
       "    }\n",
       "</style>\n",
       "<table border=\"1\" class=\"dataframe\">\n",
       "  <thead>\n",
       "    <tr style=\"text-align: right;\">\n",
       "      <th></th>\n",
       "      <th>appearance</th>\n",
       "      <th>minutes played</th>\n",
       "      <th>award</th>\n",
       "      <th>current_value</th>\n",
       "      <th>highest_value</th>\n",
       "      <th>team_Arsenal FC</th>\n",
       "      <th>team_Bayern Munich</th>\n",
       "      <th>team_Chelsea FC</th>\n",
       "      <th>team_Liverpool FC</th>\n",
       "      <th>team_Manchester City</th>\n",
       "      <th>League_full_Premier League</th>\n",
       "    </tr>\n",
       "  </thead>\n",
       "  <tbody>\n",
       "    <tr>\n",
       "      <th>0</th>\n",
       "      <td>104</td>\n",
       "      <td>9390</td>\n",
       "      <td>13</td>\n",
       "      <td>15000000</td>\n",
       "      <td>70000000</td>\n",
       "      <td>False</td>\n",
       "      <td>False</td>\n",
       "      <td>False</td>\n",
       "      <td>False</td>\n",
       "      <td>False</td>\n",
       "      <td>True</td>\n",
       "    </tr>\n",
       "    <tr>\n",
       "      <th>1</th>\n",
       "      <td>15</td>\n",
       "      <td>1304</td>\n",
       "      <td>1</td>\n",
       "      <td>1500000</td>\n",
       "      <td>22000000</td>\n",
       "      <td>False</td>\n",
       "      <td>False</td>\n",
       "      <td>False</td>\n",
       "      <td>False</td>\n",
       "      <td>False</td>\n",
       "      <td>True</td>\n",
       "    </tr>\n",
       "    <tr>\n",
       "      <th>2</th>\n",
       "      <td>4</td>\n",
       "      <td>292</td>\n",
       "      <td>4</td>\n",
       "      <td>600000</td>\n",
       "      <td>6000000</td>\n",
       "      <td>False</td>\n",
       "      <td>False</td>\n",
       "      <td>False</td>\n",
       "      <td>False</td>\n",
       "      <td>False</td>\n",
       "      <td>True</td>\n",
       "    </tr>\n",
       "    <tr>\n",
       "      <th>3</th>\n",
       "      <td>82</td>\n",
       "      <td>6408</td>\n",
       "      <td>9</td>\n",
       "      <td>50000000</td>\n",
       "      <td>50000000</td>\n",
       "      <td>False</td>\n",
       "      <td>False</td>\n",
       "      <td>False</td>\n",
       "      <td>False</td>\n",
       "      <td>False</td>\n",
       "      <td>True</td>\n",
       "    </tr>\n",
       "    <tr>\n",
       "      <th>4</th>\n",
       "      <td>63</td>\n",
       "      <td>5031</td>\n",
       "      <td>21</td>\n",
       "      <td>40000000</td>\n",
       "      <td>80000000</td>\n",
       "      <td>False</td>\n",
       "      <td>False</td>\n",
       "      <td>False</td>\n",
       "      <td>False</td>\n",
       "      <td>False</td>\n",
       "      <td>True</td>\n",
       "    </tr>\n",
       "  </tbody>\n",
       "</table>\n",
       "</div>"
      ],
      "text/plain": [
       "   appearance  minutes played  award  current_value  highest_value  \\\n",
       "0         104            9390     13       15000000       70000000   \n",
       "1          15            1304      1        1500000       22000000   \n",
       "2           4             292      4         600000        6000000   \n",
       "3          82            6408      9       50000000       50000000   \n",
       "4          63            5031     21       40000000       80000000   \n",
       "\n",
       "   team_Arsenal FC  team_Bayern Munich  team_Chelsea FC  team_Liverpool FC  \\\n",
       "0            False               False            False              False   \n",
       "1            False               False            False              False   \n",
       "2            False               False            False              False   \n",
       "3            False               False            False              False   \n",
       "4            False               False            False              False   \n",
       "\n",
       "   team_Manchester City  League_full_Premier League  \n",
       "0                 False                        True  \n",
       "1                 False                        True  \n",
       "2                 False                        True  \n",
       "3                 False                        True  \n",
       "4                 False                        True  "
      ]
     },
     "execution_count": 34,
     "metadata": {},
     "output_type": "execute_result"
    }
   ],
   "source": [
    "df_football_GK_Defenders_position_copy = df_football_GK_Defenders_position_copy[selected_features]\n",
    "df_football_GK_Defenders_position_copy.head()"
   ]
  },
  {
   "cell_type": "code",
   "execution_count": null,
   "id": "d5707887-0b08-4fbd-b92b-4dee59b11e87",
   "metadata": {},
   "outputs": [],
   "source": []
  },
  {
   "cell_type": "code",
   "execution_count": 35,
   "id": "b26530cf-6699-4d74-9976-bcd7444f44dc",
   "metadata": {},
   "outputs": [],
   "source": [
    "X = df_football_GK_Defenders_position_copy.drop(['current_value'], axis=1)\n",
    "y = df_football_GK_Defenders_position_copy['current_value']\n",
    "\n",
    "# Split data into training and testing sets\n",
    "X_train, X_test, y_train, y_test = train_test_split(X, y,\n",
    "                                                    test_size=0.2,\n",
    "                                                    shuffle=True,\n",
    "                                                    random_state=42)\n",
    "\n",
    "# sacle the data\n",
    "scaler = StandardScaler()\n",
    "scaler.fit(X_train)\n",
    "X_train_scaled = scaler.transform(X_train)\n",
    "X_test_scaled = scaler.transform(X_test)"
   ]
  },
  {
   "cell_type": "code",
   "execution_count": 36,
   "id": "6ce3693a-40a7-496d-9ef6-392d3caae1b0",
   "metadata": {},
   "outputs": [],
   "source": [
    "model = LinearRegression()"
   ]
  },
  {
   "cell_type": "code",
   "execution_count": 37,
   "id": "9798ce77-d834-4025-978c-88e3e3b21f62",
   "metadata": {},
   "outputs": [
    {
     "data": {
      "text/html": [
       "<style>#sk-container-id-1 {color: black;background-color: white;}#sk-container-id-1 pre{padding: 0;}#sk-container-id-1 div.sk-toggleable {background-color: white;}#sk-container-id-1 label.sk-toggleable__label {cursor: pointer;display: block;width: 100%;margin-bottom: 0;padding: 0.3em;box-sizing: border-box;text-align: center;}#sk-container-id-1 label.sk-toggleable__label-arrow:before {content: \"▸\";float: left;margin-right: 0.25em;color: #696969;}#sk-container-id-1 label.sk-toggleable__label-arrow:hover:before {color: black;}#sk-container-id-1 div.sk-estimator:hover label.sk-toggleable__label-arrow:before {color: black;}#sk-container-id-1 div.sk-toggleable__content {max-height: 0;max-width: 0;overflow: hidden;text-align: left;background-color: #f0f8ff;}#sk-container-id-1 div.sk-toggleable__content pre {margin: 0.2em;color: black;border-radius: 0.25em;background-color: #f0f8ff;}#sk-container-id-1 input.sk-toggleable__control:checked~div.sk-toggleable__content {max-height: 200px;max-width: 100%;overflow: auto;}#sk-container-id-1 input.sk-toggleable__control:checked~label.sk-toggleable__label-arrow:before {content: \"▾\";}#sk-container-id-1 div.sk-estimator input.sk-toggleable__control:checked~label.sk-toggleable__label {background-color: #d4ebff;}#sk-container-id-1 div.sk-label input.sk-toggleable__control:checked~label.sk-toggleable__label {background-color: #d4ebff;}#sk-container-id-1 input.sk-hidden--visually {border: 0;clip: rect(1px 1px 1px 1px);clip: rect(1px, 1px, 1px, 1px);height: 1px;margin: -1px;overflow: hidden;padding: 0;position: absolute;width: 1px;}#sk-container-id-1 div.sk-estimator {font-family: monospace;background-color: #f0f8ff;border: 1px dotted black;border-radius: 0.25em;box-sizing: border-box;margin-bottom: 0.5em;}#sk-container-id-1 div.sk-estimator:hover {background-color: #d4ebff;}#sk-container-id-1 div.sk-parallel-item::after {content: \"\";width: 100%;border-bottom: 1px solid gray;flex-grow: 1;}#sk-container-id-1 div.sk-label:hover label.sk-toggleable__label {background-color: #d4ebff;}#sk-container-id-1 div.sk-serial::before {content: \"\";position: absolute;border-left: 1px solid gray;box-sizing: border-box;top: 0;bottom: 0;left: 50%;z-index: 0;}#sk-container-id-1 div.sk-serial {display: flex;flex-direction: column;align-items: center;background-color: white;padding-right: 0.2em;padding-left: 0.2em;position: relative;}#sk-container-id-1 div.sk-item {position: relative;z-index: 1;}#sk-container-id-1 div.sk-parallel {display: flex;align-items: stretch;justify-content: center;background-color: white;position: relative;}#sk-container-id-1 div.sk-item::before, #sk-container-id-1 div.sk-parallel-item::before {content: \"\";position: absolute;border-left: 1px solid gray;box-sizing: border-box;top: 0;bottom: 0;left: 50%;z-index: -1;}#sk-container-id-1 div.sk-parallel-item {display: flex;flex-direction: column;z-index: 1;position: relative;background-color: white;}#sk-container-id-1 div.sk-parallel-item:first-child::after {align-self: flex-end;width: 50%;}#sk-container-id-1 div.sk-parallel-item:last-child::after {align-self: flex-start;width: 50%;}#sk-container-id-1 div.sk-parallel-item:only-child::after {width: 0;}#sk-container-id-1 div.sk-dashed-wrapped {border: 1px dashed gray;margin: 0 0.4em 0.5em 0.4em;box-sizing: border-box;padding-bottom: 0.4em;background-color: white;}#sk-container-id-1 div.sk-label label {font-family: monospace;font-weight: bold;display: inline-block;line-height: 1.2em;}#sk-container-id-1 div.sk-label-container {text-align: center;}#sk-container-id-1 div.sk-container {/* jupyter's `normalize.less` sets `[hidden] { display: none; }` but bootstrap.min.css set `[hidden] { display: none !important; }` so we also need the `!important` here to be able to override the default hidden behavior on the sphinx rendered scikit-learn.org. See: https://github.com/scikit-learn/scikit-learn/issues/21755 */display: inline-block !important;position: relative;}#sk-container-id-1 div.sk-text-repr-fallback {display: none;}</style><div id=\"sk-container-id-1\" class=\"sk-top-container\"><div class=\"sk-text-repr-fallback\"><pre>LinearRegression()</pre><b>In a Jupyter environment, please rerun this cell to show the HTML representation or trust the notebook. <br />On GitHub, the HTML representation is unable to render, please try loading this page with nbviewer.org.</b></div><div class=\"sk-container\" hidden><div class=\"sk-item\"><div class=\"sk-estimator sk-toggleable\"><input class=\"sk-toggleable__control sk-hidden--visually\" id=\"sk-estimator-id-1\" type=\"checkbox\" checked><label for=\"sk-estimator-id-1\" class=\"sk-toggleable__label sk-toggleable__label-arrow\">LinearRegression</label><div class=\"sk-toggleable__content\"><pre>LinearRegression()</pre></div></div></div></div></div>"
      ],
      "text/plain": [
       "LinearRegression()"
      ]
     },
     "execution_count": 37,
     "metadata": {},
     "output_type": "execute_result"
    }
   ],
   "source": [
    "model.fit(X_train_scaled, y_train)"
   ]
  },
  {
   "cell_type": "code",
   "execution_count": 38,
   "id": "bf252e4e-75aa-4ce1-94f4-d647fcc59c24",
   "metadata": {},
   "outputs": [],
   "source": [
    "y_pred = model.predict(X_test_scaled)"
   ]
  },
  {
   "cell_type": "code",
   "execution_count": 39,
   "id": "8097099b-9924-4d36-b52b-a6233c895035",
   "metadata": {},
   "outputs": [
    {
     "data": {
      "text/plain": [
       "array([-4.95524099e+05,  1.19114241e+06, -1.44366090e+06,  6.23192317e+06,\n",
       "        3.98202477e+05,  6.99978518e+05,  6.53470124e+03,  5.00647140e+03,\n",
       "        2.58959723e+05,  1.95320204e+05])"
      ]
     },
     "execution_count": 39,
     "metadata": {},
     "output_type": "execute_result"
    }
   ],
   "source": [
    "model.coef_"
   ]
  },
  {
   "cell_type": "code",
   "execution_count": 40,
   "id": "64a9b6d0-dcd6-4dcd-a334-8611b7a21914",
   "metadata": {},
   "outputs": [
    {
     "data": {
      "text/html": [
       "<div>\n",
       "<style scoped>\n",
       "    .dataframe tbody tr th:only-of-type {\n",
       "        vertical-align: middle;\n",
       "    }\n",
       "\n",
       "    .dataframe tbody tr th {\n",
       "        vertical-align: top;\n",
       "    }\n",
       "\n",
       "    .dataframe thead th {\n",
       "        text-align: right;\n",
       "    }\n",
       "</style>\n",
       "<table border=\"1\" class=\"dataframe\">\n",
       "  <thead>\n",
       "    <tr style=\"text-align: right;\">\n",
       "      <th></th>\n",
       "      <th>Coefficient</th>\n",
       "    </tr>\n",
       "  </thead>\n",
       "  <tbody>\n",
       "    <tr>\n",
       "      <th>appearance</th>\n",
       "      <td>-4.955241e+05</td>\n",
       "    </tr>\n",
       "    <tr>\n",
       "      <th>minutes played</th>\n",
       "      <td>1.191142e+06</td>\n",
       "    </tr>\n",
       "    <tr>\n",
       "      <th>award</th>\n",
       "      <td>-1.443661e+06</td>\n",
       "    </tr>\n",
       "    <tr>\n",
       "      <th>highest_value</th>\n",
       "      <td>6.231923e+06</td>\n",
       "    </tr>\n",
       "    <tr>\n",
       "      <th>team_Arsenal FC</th>\n",
       "      <td>3.982025e+05</td>\n",
       "    </tr>\n",
       "    <tr>\n",
       "      <th>team_Bayern Munich</th>\n",
       "      <td>6.999785e+05</td>\n",
       "    </tr>\n",
       "    <tr>\n",
       "      <th>team_Chelsea FC</th>\n",
       "      <td>6.534701e+03</td>\n",
       "    </tr>\n",
       "    <tr>\n",
       "      <th>team_Liverpool FC</th>\n",
       "      <td>5.006471e+03</td>\n",
       "    </tr>\n",
       "    <tr>\n",
       "      <th>team_Manchester City</th>\n",
       "      <td>2.589597e+05</td>\n",
       "    </tr>\n",
       "    <tr>\n",
       "      <th>League_full_Premier League</th>\n",
       "      <td>1.953202e+05</td>\n",
       "    </tr>\n",
       "  </tbody>\n",
       "</table>\n",
       "</div>"
      ],
      "text/plain": [
       "                             Coefficient\n",
       "appearance                 -4.955241e+05\n",
       "minutes played              1.191142e+06\n",
       "award                      -1.443661e+06\n",
       "highest_value               6.231923e+06\n",
       "team_Arsenal FC             3.982025e+05\n",
       "team_Bayern Munich          6.999785e+05\n",
       "team_Chelsea FC             6.534701e+03\n",
       "team_Liverpool FC           5.006471e+03\n",
       "team_Manchester City        2.589597e+05\n",
       "League_full_Premier League  1.953202e+05"
      ]
     },
     "execution_count": 40,
     "metadata": {},
     "output_type": "execute_result"
    }
   ],
   "source": [
    "coeff_df = pd.DataFrame(model.coef_,X.columns,columns=['Coefficient'])\n",
    "coeff_df"
   ]
  },
  {
   "cell_type": "code",
   "execution_count": 41,
   "id": "e744b1dc-f4cc-4ab6-a483-c50773fbb85e",
   "metadata": {},
   "outputs": [
    {
     "name": "stdout",
     "output_type": "stream",
     "text": [
      "2942388.407728181\n"
     ]
    }
   ],
   "source": [
    "print(model.intercept_) "
   ]
  },
  {
   "cell_type": "code",
   "execution_count": 42,
   "id": "8b76c71a-1486-4af9-aa13-9b1224ccfb09",
   "metadata": {},
   "outputs": [],
   "source": [
    "#coeff_df = pd.DataFrame(lasso_model.coef_,X.columns,columns=['Coefficient'])\n",
    "#coeff_df"
   ]
  },
  {
   "cell_type": "code",
   "execution_count": 43,
   "id": "5516452c-6238-4f59-aaa1-d939b6a25dfb",
   "metadata": {},
   "outputs": [],
   "source": [
    "#ev"
   ]
  },
  {
   "cell_type": "code",
   "execution_count": 44,
   "id": "505918dd-55f2-4546-b6f1-21bd9d18fa1a",
   "metadata": {},
   "outputs": [],
   "source": [
    "y_base = [y_train.mean()] * len(y_test)"
   ]
  },
  {
   "cell_type": "code",
   "execution_count": 45,
   "id": "ad2ee3ee-860a-4d89-a6f3-a7ea65b01673",
   "metadata": {},
   "outputs": [
    {
     "name": "stdout",
     "output_type": "stream",
     "text": [
      "Mean Squared Error of base model: 61561304612753.35\n"
     ]
    }
   ],
   "source": [
    "# our benchmark model\n",
    "mse_base = mean_squared_error(y_test, y_base )\n",
    "print(f'Mean Squared Error of base model: {mse_base}')"
   ]
  },
  {
   "cell_type": "code",
   "execution_count": 46,
   "id": "50927c9a-b9c9-418b-98db-c967e978e3b6",
   "metadata": {},
   "outputs": [
    {
     "name": "stdout",
     "output_type": "stream",
     "text": [
      "Mean Squared Error for training: 12990152191435.037\n",
      "Mean Squared Error for testing: 13447914685778.426\n"
     ]
    }
   ],
   "source": [
    "mse_train = mean_squared_error(y_train, model.predict(X_train_scaled))\n",
    "mse_test = mean_squared_error(y_test, y_pred)\n",
    "print(f'Mean Squared Error for training: {mse_train}')\n",
    "print(f'Mean Squared Error for testing: {mse_test}')"
   ]
  },
  {
   "cell_type": "code",
   "execution_count": 47,
   "id": "132edb20-4bb0-4ee6-9441-688ec1a0278f",
   "metadata": {},
   "outputs": [
    {
     "name": "stdout",
     "output_type": "stream",
     "text": [
      "Mean Absolute  Error of base model: 3860211.407315194\n"
     ]
    }
   ],
   "source": [
    "# our benchmark model\n",
    "mse_base = mean_absolute_error(y_test, y_base )\n",
    "print(f'Mean Absolute  Error of base model: {mse_base}')"
   ]
  },
  {
   "cell_type": "code",
   "execution_count": 48,
   "id": "b98e9d1e-e459-4a71-a45a-9103d6b4d2ef",
   "metadata": {},
   "outputs": [
    {
     "name": "stdout",
     "output_type": "stream",
     "text": [
      "Mean Absolute Error for training: 1693865.4416844947\n",
      "Mean Absolute Error for testing: 1817685.2462021268\n"
     ]
    }
   ],
   "source": [
    "mae_train = mean_absolute_error(y_train, model.predict(X_train_scaled))\n",
    "mae_test = mean_absolute_error(y_test, y_pred)\n",
    "print(f'Mean Absolute Error for training: {mae_train}')\n",
    "print(f'Mean Absolute Error for testing: {mae_test}')"
   ]
  },
  {
   "cell_type": "code",
   "execution_count": 49,
   "id": "081f29a3-5c51-4f2f-b843-ef2bd5613344",
   "metadata": {},
   "outputs": [
    {
     "name": "stdout",
     "output_type": "stream",
     "text": [
      "Root Mean Squared  Error of base model: 1964.7420714473424\n"
     ]
    }
   ],
   "source": [
    "# our benchmark model\n",
    "print(f'Root Mean Squared  Error of base model: {np.sqrt(mse_base)}')"
   ]
  },
  {
   "cell_type": "code",
   "execution_count": 50,
   "id": "675a3533-6fc9-4c3b-a2fe-b1e3d280f6c7",
   "metadata": {},
   "outputs": [
    {
     "name": "stdout",
     "output_type": "stream",
     "text": [
      "Root Mean Squared Error for training: 3604185.3714029524\n",
      "Root Mean Squared Error for testing: 3667139.850861762\n"
     ]
    }
   ],
   "source": [
    "print(f'Root Mean Squared Error for training: {np.sqrt(mse_train)}')\n",
    "print(f'Root Mean Squared Error for testing: {np.sqrt(mse_test)}')"
   ]
  },
  {
   "cell_type": "code",
   "execution_count": 51,
   "id": "9fd15287-f762-43ba-ab1b-2888ed449809",
   "metadata": {},
   "outputs": [
    {
     "name": "stdout",
     "output_type": "stream",
     "text": [
      "R Square for training: 0.7573418192982193\n",
      "R Square for testing: 0.7809469286002944\n"
     ]
    }
   ],
   "source": [
    "r2_score_train = r2_score(y_train, model.predict(X_train_scaled))\n",
    "r2_score_test = r2_score(y_test, y_pred)\n",
    "print(f'R Square for training: {r2_score_train}')\n",
    "print(f'R Square for testing: {r2_score_test}')"
   ]
  },
  {
   "cell_type": "code",
   "execution_count": 52,
   "id": "9d8faff7-420f-47b9-8db1-ee3c62647f81",
   "metadata": {},
   "outputs": [],
   "source": [
    "\n",
    "##"
   ]
  },
  {
   "cell_type": "code",
   "execution_count": 53,
   "id": "efb0ca58-2841-44a5-97ee-5be40a078cd2",
   "metadata": {},
   "outputs": [],
   "source": [
    "predictions = model.predict(X_test_scaled)"
   ]
  },
  {
   "cell_type": "code",
   "execution_count": 54,
   "id": "2eeef1e7-36c3-4737-bea8-4647dbf313c2",
   "metadata": {},
   "outputs": [],
   "source": [
    "Real_Values = np.array(y_test)\n",
    "#Real_Values"
   ]
  },
  {
   "cell_type": "code",
   "execution_count": 55,
   "id": "c899be9a-ba73-40c4-acd1-72068d91a1e8",
   "metadata": {},
   "outputs": [
    {
     "data": {
      "image/png": "[encoded data removed]",
      "text/plain": [
       "<Figure size 640x480 with 1 Axes>"
      ]
     },
     "metadata": {},
     "output_type": "display_data"
    }
   ],
   "source": [
    "plt.scatter(Real_Values,predictions); "
   ]
  },
  {
   "cell_type": "code",
   "execution_count": 56,
   "id": "cb5b85a1-12af-4d4d-a721-0a1758d4ae61",
   "metadata": {},
   "outputs": [
    {
     "data": {
      "image/png": "[encoded data removed]",
      "text/plain": [
       "<Figure size 640x480 with 1 Axes>"
      ]
     },
     "metadata": {},
     "output_type": "display_data"
    }
   ],
   "source": [
    "sns.distplot((y_test-predictions),bins=50); # it's good if we get normal distribution"
   ]
  },
  {
   "cell_type": "code",
   "execution_count": null,
   "id": "c9af9b4c-1c7c-489b-bd6c-dea3db2c0b4b",
   "metadata": {},
   "outputs": [],
   "source": []
  },
  {
   "cell_type": "code",
   "execution_count": null,
   "id": "915b2243-011e-427b-8cf7-87624b000bb8",
   "metadata": {},
   "outputs": [],
   "source": []
  }
 ],
 "metadata": {
  "kernelspec": {
   "display_name": "Python 3 (ipykernel)",
   "language": "python",
   "name": "python3"
  },
  "language_info": {
   "codemirror_mode": {
    "name": "ipython",
    "version": 3
   },
   "file_extension": ".py",
   "mimetype": "text/x-python",
   "name": "python",
   "nbconvert_exporter": "python",
   "pygments_lexer": "ipython3",
   "version": "3.11.7"
  }
 },
 "nbformat": 4,
 "nbformat_minor": 5
}
